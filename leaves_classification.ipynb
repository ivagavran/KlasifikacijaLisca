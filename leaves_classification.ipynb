{
 "cells": [
  {
   "cell_type": "code",
   "execution_count": 122,
   "id": "4a028870-3318-4bd5-aed3-8bddda6aec69",
   "metadata": {
    "tags": []
   },
   "outputs": [],
   "source": [
    "import pandas as pd"
   ]
  },
  {
   "cell_type": "code",
   "execution_count": 186,
   "id": "0a7a956d-7f01-4b58-a524-9d86d981a52f",
   "metadata": {
    "tags": []
   },
   "outputs": [
    {
     "data": {
      "text/html": [
       "<div>\n",
       "<style scoped>\n",
       "    .dataframe tbody tr th:only-of-type {\n",
       "        vertical-align: middle;\n",
       "    }\n",
       "\n",
       "    .dataframe tbody tr th {\n",
       "        vertical-align: top;\n",
       "    }\n",
       "\n",
       "    .dataframe thead th {\n",
       "        text-align: right;\n",
       "    }\n",
       "</style>\n",
       "<table border=\"1\" class=\"dataframe\">\n",
       "  <thead>\n",
       "    <tr style=\"text-align: right;\">\n",
       "      <th></th>\n",
       "      <th>id</th>\n",
       "      <th>species</th>\n",
       "      <th>margin1</th>\n",
       "      <th>margin2</th>\n",
       "      <th>margin3</th>\n",
       "      <th>margin4</th>\n",
       "      <th>margin5</th>\n",
       "      <th>margin6</th>\n",
       "      <th>margin7</th>\n",
       "      <th>margin8</th>\n",
       "      <th>...</th>\n",
       "      <th>texture55</th>\n",
       "      <th>texture56</th>\n",
       "      <th>texture57</th>\n",
       "      <th>texture58</th>\n",
       "      <th>texture59</th>\n",
       "      <th>texture60</th>\n",
       "      <th>texture61</th>\n",
       "      <th>texture62</th>\n",
       "      <th>texture63</th>\n",
       "      <th>texture64</th>\n",
       "    </tr>\n",
       "  </thead>\n",
       "  <tbody>\n",
       "    <tr>\n",
       "      <th>0</th>\n",
       "      <td>1</td>\n",
       "      <td>Acer_Opalus</td>\n",
       "      <td>0.007812</td>\n",
       "      <td>0.023438</td>\n",
       "      <td>0.023438</td>\n",
       "      <td>0.003906</td>\n",
       "      <td>0.011719</td>\n",
       "      <td>0.009766</td>\n",
       "      <td>0.027344</td>\n",
       "      <td>0.0</td>\n",
       "      <td>...</td>\n",
       "      <td>0.007812</td>\n",
       "      <td>0.000000</td>\n",
       "      <td>0.002930</td>\n",
       "      <td>0.002930</td>\n",
       "      <td>0.035156</td>\n",
       "      <td>0.00000</td>\n",
       "      <td>0.000000</td>\n",
       "      <td>0.004883</td>\n",
       "      <td>0.000000</td>\n",
       "      <td>0.025391</td>\n",
       "    </tr>\n",
       "    <tr>\n",
       "      <th>1</th>\n",
       "      <td>2</td>\n",
       "      <td>Pterocarya_Stenoptera</td>\n",
       "      <td>0.005859</td>\n",
       "      <td>0.000000</td>\n",
       "      <td>0.031250</td>\n",
       "      <td>0.015625</td>\n",
       "      <td>0.025391</td>\n",
       "      <td>0.001953</td>\n",
       "      <td>0.019531</td>\n",
       "      <td>0.0</td>\n",
       "      <td>...</td>\n",
       "      <td>0.000977</td>\n",
       "      <td>0.000000</td>\n",
       "      <td>0.000000</td>\n",
       "      <td>0.000977</td>\n",
       "      <td>0.023438</td>\n",
       "      <td>0.00000</td>\n",
       "      <td>0.000000</td>\n",
       "      <td>0.000977</td>\n",
       "      <td>0.039062</td>\n",
       "      <td>0.022461</td>\n",
       "    </tr>\n",
       "    <tr>\n",
       "      <th>2</th>\n",
       "      <td>3</td>\n",
       "      <td>Quercus_Hartwissiana</td>\n",
       "      <td>0.005859</td>\n",
       "      <td>0.009766</td>\n",
       "      <td>0.019531</td>\n",
       "      <td>0.007812</td>\n",
       "      <td>0.003906</td>\n",
       "      <td>0.005859</td>\n",
       "      <td>0.068359</td>\n",
       "      <td>0.0</td>\n",
       "      <td>...</td>\n",
       "      <td>0.154300</td>\n",
       "      <td>0.000000</td>\n",
       "      <td>0.005859</td>\n",
       "      <td>0.000977</td>\n",
       "      <td>0.007812</td>\n",
       "      <td>0.00000</td>\n",
       "      <td>0.000000</td>\n",
       "      <td>0.000000</td>\n",
       "      <td>0.020508</td>\n",
       "      <td>0.002930</td>\n",
       "    </tr>\n",
       "    <tr>\n",
       "      <th>3</th>\n",
       "      <td>5</td>\n",
       "      <td>Tilia_Tomentosa</td>\n",
       "      <td>0.000000</td>\n",
       "      <td>0.003906</td>\n",
       "      <td>0.023438</td>\n",
       "      <td>0.005859</td>\n",
       "      <td>0.021484</td>\n",
       "      <td>0.019531</td>\n",
       "      <td>0.023438</td>\n",
       "      <td>0.0</td>\n",
       "      <td>...</td>\n",
       "      <td>0.000000</td>\n",
       "      <td>0.000977</td>\n",
       "      <td>0.000000</td>\n",
       "      <td>0.000000</td>\n",
       "      <td>0.020508</td>\n",
       "      <td>0.00000</td>\n",
       "      <td>0.000000</td>\n",
       "      <td>0.017578</td>\n",
       "      <td>0.000000</td>\n",
       "      <td>0.047852</td>\n",
       "    </tr>\n",
       "    <tr>\n",
       "      <th>4</th>\n",
       "      <td>6</td>\n",
       "      <td>Quercus_Variabilis</td>\n",
       "      <td>0.005859</td>\n",
       "      <td>0.003906</td>\n",
       "      <td>0.048828</td>\n",
       "      <td>0.009766</td>\n",
       "      <td>0.013672</td>\n",
       "      <td>0.015625</td>\n",
       "      <td>0.005859</td>\n",
       "      <td>0.0</td>\n",
       "      <td>...</td>\n",
       "      <td>0.096680</td>\n",
       "      <td>0.000000</td>\n",
       "      <td>0.021484</td>\n",
       "      <td>0.000000</td>\n",
       "      <td>0.000000</td>\n",
       "      <td>0.00000</td>\n",
       "      <td>0.000000</td>\n",
       "      <td>0.000000</td>\n",
       "      <td>0.000000</td>\n",
       "      <td>0.031250</td>\n",
       "    </tr>\n",
       "    <tr>\n",
       "      <th>5</th>\n",
       "      <td>8</td>\n",
       "      <td>Magnolia_Salicifolia</td>\n",
       "      <td>0.070312</td>\n",
       "      <td>0.093750</td>\n",
       "      <td>0.033203</td>\n",
       "      <td>0.001953</td>\n",
       "      <td>0.000000</td>\n",
       "      <td>0.152340</td>\n",
       "      <td>0.007812</td>\n",
       "      <td>0.0</td>\n",
       "      <td>...</td>\n",
       "      <td>0.145510</td>\n",
       "      <td>0.000000</td>\n",
       "      <td>0.041992</td>\n",
       "      <td>0.000000</td>\n",
       "      <td>0.005859</td>\n",
       "      <td>0.00000</td>\n",
       "      <td>0.000000</td>\n",
       "      <td>0.000000</td>\n",
       "      <td>0.001953</td>\n",
       "      <td>0.013672</td>\n",
       "    </tr>\n",
       "    <tr>\n",
       "      <th>6</th>\n",
       "      <td>10</td>\n",
       "      <td>Quercus_Canariensis</td>\n",
       "      <td>0.021484</td>\n",
       "      <td>0.031250</td>\n",
       "      <td>0.017578</td>\n",
       "      <td>0.009766</td>\n",
       "      <td>0.001953</td>\n",
       "      <td>0.042969</td>\n",
       "      <td>0.039062</td>\n",
       "      <td>0.0</td>\n",
       "      <td>...</td>\n",
       "      <td>0.085938</td>\n",
       "      <td>0.000000</td>\n",
       "      <td>0.040039</td>\n",
       "      <td>0.000000</td>\n",
       "      <td>0.009766</td>\n",
       "      <td>0.00000</td>\n",
       "      <td>0.000000</td>\n",
       "      <td>0.000000</td>\n",
       "      <td>0.039062</td>\n",
       "      <td>0.003906</td>\n",
       "    </tr>\n",
       "    <tr>\n",
       "      <th>7</th>\n",
       "      <td>11</td>\n",
       "      <td>Quercus_Rubra</td>\n",
       "      <td>0.000000</td>\n",
       "      <td>0.000000</td>\n",
       "      <td>0.037109</td>\n",
       "      <td>0.050781</td>\n",
       "      <td>0.003906</td>\n",
       "      <td>0.000000</td>\n",
       "      <td>0.003906</td>\n",
       "      <td>0.0</td>\n",
       "      <td>...</td>\n",
       "      <td>0.038086</td>\n",
       "      <td>0.025391</td>\n",
       "      <td>0.009766</td>\n",
       "      <td>0.002930</td>\n",
       "      <td>0.021484</td>\n",
       "      <td>0.00000</td>\n",
       "      <td>0.037109</td>\n",
       "      <td>0.006836</td>\n",
       "      <td>0.002930</td>\n",
       "      <td>0.036133</td>\n",
       "    </tr>\n",
       "    <tr>\n",
       "      <th>8</th>\n",
       "      <td>14</td>\n",
       "      <td>Quercus_Brantii</td>\n",
       "      <td>0.005859</td>\n",
       "      <td>0.001953</td>\n",
       "      <td>0.033203</td>\n",
       "      <td>0.015625</td>\n",
       "      <td>0.001953</td>\n",
       "      <td>0.000000</td>\n",
       "      <td>0.023438</td>\n",
       "      <td>0.0</td>\n",
       "      <td>...</td>\n",
       "      <td>0.000000</td>\n",
       "      <td>0.000000</td>\n",
       "      <td>0.008789</td>\n",
       "      <td>0.000000</td>\n",
       "      <td>0.017578</td>\n",
       "      <td>0.00000</td>\n",
       "      <td>0.000000</td>\n",
       "      <td>0.000977</td>\n",
       "      <td>0.033203</td>\n",
       "      <td>0.074219</td>\n",
       "    </tr>\n",
       "    <tr>\n",
       "      <th>9</th>\n",
       "      <td>15</td>\n",
       "      <td>Salix_Fragilis</td>\n",
       "      <td>0.000000</td>\n",
       "      <td>0.000000</td>\n",
       "      <td>0.009766</td>\n",
       "      <td>0.037109</td>\n",
       "      <td>0.072266</td>\n",
       "      <td>0.000000</td>\n",
       "      <td>0.000000</td>\n",
       "      <td>0.0</td>\n",
       "      <td>...</td>\n",
       "      <td>0.000000</td>\n",
       "      <td>0.000000</td>\n",
       "      <td>0.000000</td>\n",
       "      <td>0.070312</td>\n",
       "      <td>0.013672</td>\n",
       "      <td>0.19238</td>\n",
       "      <td>0.000000</td>\n",
       "      <td>0.074219</td>\n",
       "      <td>0.000000</td>\n",
       "      <td>0.000000</td>\n",
       "    </tr>\n",
       "  </tbody>\n",
       "</table>\n",
       "<p>10 rows × 194 columns</p>\n",
       "</div>"
      ],
      "text/plain": [
       "   id                species   margin1   margin2   margin3   margin4   \n",
       "0   1            Acer_Opalus  0.007812  0.023438  0.023438  0.003906  \\\n",
       "1   2  Pterocarya_Stenoptera  0.005859  0.000000  0.031250  0.015625   \n",
       "2   3   Quercus_Hartwissiana  0.005859  0.009766  0.019531  0.007812   \n",
       "3   5        Tilia_Tomentosa  0.000000  0.003906  0.023438  0.005859   \n",
       "4   6     Quercus_Variabilis  0.005859  0.003906  0.048828  0.009766   \n",
       "5   8   Magnolia_Salicifolia  0.070312  0.093750  0.033203  0.001953   \n",
       "6  10    Quercus_Canariensis  0.021484  0.031250  0.017578  0.009766   \n",
       "7  11          Quercus_Rubra  0.000000  0.000000  0.037109  0.050781   \n",
       "8  14        Quercus_Brantii  0.005859  0.001953  0.033203  0.015625   \n",
       "9  15         Salix_Fragilis  0.000000  0.000000  0.009766  0.037109   \n",
       "\n",
       "    margin5   margin6   margin7  margin8  ...  texture55  texture56   \n",
       "0  0.011719  0.009766  0.027344      0.0  ...   0.007812   0.000000  \\\n",
       "1  0.025391  0.001953  0.019531      0.0  ...   0.000977   0.000000   \n",
       "2  0.003906  0.005859  0.068359      0.0  ...   0.154300   0.000000   \n",
       "3  0.021484  0.019531  0.023438      0.0  ...   0.000000   0.000977   \n",
       "4  0.013672  0.015625  0.005859      0.0  ...   0.096680   0.000000   \n",
       "5  0.000000  0.152340  0.007812      0.0  ...   0.145510   0.000000   \n",
       "6  0.001953  0.042969  0.039062      0.0  ...   0.085938   0.000000   \n",
       "7  0.003906  0.000000  0.003906      0.0  ...   0.038086   0.025391   \n",
       "8  0.001953  0.000000  0.023438      0.0  ...   0.000000   0.000000   \n",
       "9  0.072266  0.000000  0.000000      0.0  ...   0.000000   0.000000   \n",
       "\n",
       "   texture57  texture58  texture59  texture60  texture61  texture62   \n",
       "0   0.002930   0.002930   0.035156    0.00000   0.000000   0.004883  \\\n",
       "1   0.000000   0.000977   0.023438    0.00000   0.000000   0.000977   \n",
       "2   0.005859   0.000977   0.007812    0.00000   0.000000   0.000000   \n",
       "3   0.000000   0.000000   0.020508    0.00000   0.000000   0.017578   \n",
       "4   0.021484   0.000000   0.000000    0.00000   0.000000   0.000000   \n",
       "5   0.041992   0.000000   0.005859    0.00000   0.000000   0.000000   \n",
       "6   0.040039   0.000000   0.009766    0.00000   0.000000   0.000000   \n",
       "7   0.009766   0.002930   0.021484    0.00000   0.037109   0.006836   \n",
       "8   0.008789   0.000000   0.017578    0.00000   0.000000   0.000977   \n",
       "9   0.000000   0.070312   0.013672    0.19238   0.000000   0.074219   \n",
       "\n",
       "   texture63  texture64  \n",
       "0   0.000000   0.025391  \n",
       "1   0.039062   0.022461  \n",
       "2   0.020508   0.002930  \n",
       "3   0.000000   0.047852  \n",
       "4   0.000000   0.031250  \n",
       "5   0.001953   0.013672  \n",
       "6   0.039062   0.003906  \n",
       "7   0.002930   0.036133  \n",
       "8   0.033203   0.074219  \n",
       "9   0.000000   0.000000  \n",
       "\n",
       "[10 rows x 194 columns]"
      ]
     },
     "execution_count": 186,
     "metadata": {},
     "output_type": "execute_result"
    }
   ],
   "source": [
    "train_data = pd.read_csv('kaggle/train.csv.zip')\n",
    "train_data.head(10)"
   ]
  },
  {
   "cell_type": "code",
   "execution_count": 124,
   "id": "ce59530f-44e1-4b11-8add-e4346d383874",
   "metadata": {
    "tags": []
   },
   "outputs": [
    {
     "data": {
      "text/plain": [
       "Index(['id', 'species', 'margin1', 'margin2', 'margin3', 'margin4', 'margin5',\n",
       "       'margin6', 'margin7', 'margin8',\n",
       "       ...\n",
       "       'texture55', 'texture56', 'texture57', 'texture58', 'texture59',\n",
       "       'texture60', 'texture61', 'texture62', 'texture63', 'texture64'],\n",
       "      dtype='object', length=194)"
      ]
     },
     "execution_count": 124,
     "metadata": {},
     "output_type": "execute_result"
    }
   ],
   "source": [
    "train_data.columns"
   ]
  },
  {
   "cell_type": "code",
   "execution_count": 125,
   "id": "c85a06b5-fd38-4db2-b89f-67998e820eed",
   "metadata": {
    "tags": []
   },
   "outputs": [],
   "source": [
    "from sklearn.preprocessing import LabelEncoder"
   ]
  },
  {
   "cell_type": "code",
   "execution_count": 128,
   "id": "f5949afc-3925-4942-ad58-7ab4f1da2952",
   "metadata": {
    "tags": []
   },
   "outputs": [
    {
     "name": "stdout",
     "output_type": "stream",
     "text": [
      "<class 'pandas.core.frame.DataFrame'>\n",
      "RangeIndex: 990 entries, 0 to 989\n",
      "Columns: 194 entries, id to texture64\n",
      "dtypes: float64(192), int64(1), object(1)\n",
      "memory usage: 1.5+ MB\n"
     ]
    }
   ],
   "source": [
    "train_data.info()"
   ]
  },
  {
   "cell_type": "code",
   "execution_count": 131,
   "id": "0f648f4d-0628-408b-bd6e-c8f81f9f16c6",
   "metadata": {
    "tags": []
   },
   "outputs": [
    {
     "data": {
      "text/html": [
       "<div>\n",
       "<style scoped>\n",
       "    .dataframe tbody tr th:only-of-type {\n",
       "        vertical-align: middle;\n",
       "    }\n",
       "\n",
       "    .dataframe tbody tr th {\n",
       "        vertical-align: top;\n",
       "    }\n",
       "\n",
       "    .dataframe thead th {\n",
       "        text-align: right;\n",
       "    }\n",
       "</style>\n",
       "<table border=\"1\" class=\"dataframe\">\n",
       "  <thead>\n",
       "    <tr style=\"text-align: right;\">\n",
       "      <th></th>\n",
       "      <th>id</th>\n",
       "      <th>margin1</th>\n",
       "      <th>margin2</th>\n",
       "      <th>margin3</th>\n",
       "      <th>margin4</th>\n",
       "      <th>margin5</th>\n",
       "      <th>margin6</th>\n",
       "      <th>margin7</th>\n",
       "      <th>margin8</th>\n",
       "      <th>margin9</th>\n",
       "      <th>...</th>\n",
       "      <th>texture55</th>\n",
       "      <th>texture56</th>\n",
       "      <th>texture57</th>\n",
       "      <th>texture58</th>\n",
       "      <th>texture59</th>\n",
       "      <th>texture60</th>\n",
       "      <th>texture61</th>\n",
       "      <th>texture62</th>\n",
       "      <th>texture63</th>\n",
       "      <th>texture64</th>\n",
       "    </tr>\n",
       "  </thead>\n",
       "  <tbody>\n",
       "    <tr>\n",
       "      <th>count</th>\n",
       "      <td>990.000000</td>\n",
       "      <td>990.000000</td>\n",
       "      <td>990.000000</td>\n",
       "      <td>990.000000</td>\n",
       "      <td>990.000000</td>\n",
       "      <td>990.000000</td>\n",
       "      <td>990.000000</td>\n",
       "      <td>990.000000</td>\n",
       "      <td>990.000000</td>\n",
       "      <td>990.000000</td>\n",
       "      <td>...</td>\n",
       "      <td>990.000000</td>\n",
       "      <td>990.000000</td>\n",
       "      <td>990.000000</td>\n",
       "      <td>990.000000</td>\n",
       "      <td>990.000000</td>\n",
       "      <td>990.000000</td>\n",
       "      <td>990.000000</td>\n",
       "      <td>990.000000</td>\n",
       "      <td>990.000000</td>\n",
       "      <td>990.000000</td>\n",
       "    </tr>\n",
       "    <tr>\n",
       "      <th>mean</th>\n",
       "      <td>799.595960</td>\n",
       "      <td>0.017412</td>\n",
       "      <td>0.028539</td>\n",
       "      <td>0.031988</td>\n",
       "      <td>0.023280</td>\n",
       "      <td>0.014264</td>\n",
       "      <td>0.038579</td>\n",
       "      <td>0.019202</td>\n",
       "      <td>0.001083</td>\n",
       "      <td>0.007167</td>\n",
       "      <td>...</td>\n",
       "      <td>0.036501</td>\n",
       "      <td>0.005024</td>\n",
       "      <td>0.015944</td>\n",
       "      <td>0.011586</td>\n",
       "      <td>0.016108</td>\n",
       "      <td>0.014017</td>\n",
       "      <td>0.002688</td>\n",
       "      <td>0.020291</td>\n",
       "      <td>0.008989</td>\n",
       "      <td>0.019420</td>\n",
       "    </tr>\n",
       "    <tr>\n",
       "      <th>std</th>\n",
       "      <td>452.477568</td>\n",
       "      <td>0.019739</td>\n",
       "      <td>0.038855</td>\n",
       "      <td>0.025847</td>\n",
       "      <td>0.028411</td>\n",
       "      <td>0.018390</td>\n",
       "      <td>0.052030</td>\n",
       "      <td>0.017511</td>\n",
       "      <td>0.002743</td>\n",
       "      <td>0.008933</td>\n",
       "      <td>...</td>\n",
       "      <td>0.063403</td>\n",
       "      <td>0.019321</td>\n",
       "      <td>0.023214</td>\n",
       "      <td>0.025040</td>\n",
       "      <td>0.015335</td>\n",
       "      <td>0.060151</td>\n",
       "      <td>0.011415</td>\n",
       "      <td>0.039040</td>\n",
       "      <td>0.013791</td>\n",
       "      <td>0.022768</td>\n",
       "    </tr>\n",
       "    <tr>\n",
       "      <th>min</th>\n",
       "      <td>1.000000</td>\n",
       "      <td>0.000000</td>\n",
       "      <td>0.000000</td>\n",
       "      <td>0.000000</td>\n",
       "      <td>0.000000</td>\n",
       "      <td>0.000000</td>\n",
       "      <td>0.000000</td>\n",
       "      <td>0.000000</td>\n",
       "      <td>0.000000</td>\n",
       "      <td>0.000000</td>\n",
       "      <td>...</td>\n",
       "      <td>0.000000</td>\n",
       "      <td>0.000000</td>\n",
       "      <td>0.000000</td>\n",
       "      <td>0.000000</td>\n",
       "      <td>0.000000</td>\n",
       "      <td>0.000000</td>\n",
       "      <td>0.000000</td>\n",
       "      <td>0.000000</td>\n",
       "      <td>0.000000</td>\n",
       "      <td>0.000000</td>\n",
       "    </tr>\n",
       "    <tr>\n",
       "      <th>25%</th>\n",
       "      <td>415.250000</td>\n",
       "      <td>0.001953</td>\n",
       "      <td>0.001953</td>\n",
       "      <td>0.013672</td>\n",
       "      <td>0.005859</td>\n",
       "      <td>0.001953</td>\n",
       "      <td>0.000000</td>\n",
       "      <td>0.005859</td>\n",
       "      <td>0.000000</td>\n",
       "      <td>0.001953</td>\n",
       "      <td>...</td>\n",
       "      <td>0.000000</td>\n",
       "      <td>0.000000</td>\n",
       "      <td>0.000977</td>\n",
       "      <td>0.000000</td>\n",
       "      <td>0.004883</td>\n",
       "      <td>0.000000</td>\n",
       "      <td>0.000000</td>\n",
       "      <td>0.000000</td>\n",
       "      <td>0.000000</td>\n",
       "      <td>0.000977</td>\n",
       "    </tr>\n",
       "    <tr>\n",
       "      <th>50%</th>\n",
       "      <td>802.500000</td>\n",
       "      <td>0.009766</td>\n",
       "      <td>0.011719</td>\n",
       "      <td>0.025391</td>\n",
       "      <td>0.013672</td>\n",
       "      <td>0.007812</td>\n",
       "      <td>0.015625</td>\n",
       "      <td>0.015625</td>\n",
       "      <td>0.000000</td>\n",
       "      <td>0.005859</td>\n",
       "      <td>...</td>\n",
       "      <td>0.004883</td>\n",
       "      <td>0.000000</td>\n",
       "      <td>0.005859</td>\n",
       "      <td>0.000977</td>\n",
       "      <td>0.012695</td>\n",
       "      <td>0.000000</td>\n",
       "      <td>0.000000</td>\n",
       "      <td>0.003906</td>\n",
       "      <td>0.002930</td>\n",
       "      <td>0.011719</td>\n",
       "    </tr>\n",
       "    <tr>\n",
       "      <th>75%</th>\n",
       "      <td>1195.500000</td>\n",
       "      <td>0.025391</td>\n",
       "      <td>0.041016</td>\n",
       "      <td>0.044922</td>\n",
       "      <td>0.029297</td>\n",
       "      <td>0.017578</td>\n",
       "      <td>0.056153</td>\n",
       "      <td>0.029297</td>\n",
       "      <td>0.000000</td>\n",
       "      <td>0.007812</td>\n",
       "      <td>...</td>\n",
       "      <td>0.043701</td>\n",
       "      <td>0.000000</td>\n",
       "      <td>0.022217</td>\n",
       "      <td>0.009766</td>\n",
       "      <td>0.021484</td>\n",
       "      <td>0.000000</td>\n",
       "      <td>0.000000</td>\n",
       "      <td>0.023438</td>\n",
       "      <td>0.012695</td>\n",
       "      <td>0.029297</td>\n",
       "    </tr>\n",
       "    <tr>\n",
       "      <th>max</th>\n",
       "      <td>1584.000000</td>\n",
       "      <td>0.087891</td>\n",
       "      <td>0.205080</td>\n",
       "      <td>0.156250</td>\n",
       "      <td>0.169920</td>\n",
       "      <td>0.111330</td>\n",
       "      <td>0.310550</td>\n",
       "      <td>0.091797</td>\n",
       "      <td>0.031250</td>\n",
       "      <td>0.076172</td>\n",
       "      <td>...</td>\n",
       "      <td>0.429690</td>\n",
       "      <td>0.202150</td>\n",
       "      <td>0.172850</td>\n",
       "      <td>0.200200</td>\n",
       "      <td>0.106450</td>\n",
       "      <td>0.578130</td>\n",
       "      <td>0.151370</td>\n",
       "      <td>0.375980</td>\n",
       "      <td>0.086914</td>\n",
       "      <td>0.141600</td>\n",
       "    </tr>\n",
       "  </tbody>\n",
       "</table>\n",
       "<p>8 rows × 193 columns</p>\n",
       "</div>"
      ],
      "text/plain": [
       "                id     margin1     margin2     margin3     margin4   \n",
       "count   990.000000  990.000000  990.000000  990.000000  990.000000  \\\n",
       "mean    799.595960    0.017412    0.028539    0.031988    0.023280   \n",
       "std     452.477568    0.019739    0.038855    0.025847    0.028411   \n",
       "min       1.000000    0.000000    0.000000    0.000000    0.000000   \n",
       "25%     415.250000    0.001953    0.001953    0.013672    0.005859   \n",
       "50%     802.500000    0.009766    0.011719    0.025391    0.013672   \n",
       "75%    1195.500000    0.025391    0.041016    0.044922    0.029297   \n",
       "max    1584.000000    0.087891    0.205080    0.156250    0.169920   \n",
       "\n",
       "          margin5     margin6     margin7     margin8     margin9  ...   \n",
       "count  990.000000  990.000000  990.000000  990.000000  990.000000  ...  \\\n",
       "mean     0.014264    0.038579    0.019202    0.001083    0.007167  ...   \n",
       "std      0.018390    0.052030    0.017511    0.002743    0.008933  ...   \n",
       "min      0.000000    0.000000    0.000000    0.000000    0.000000  ...   \n",
       "25%      0.001953    0.000000    0.005859    0.000000    0.001953  ...   \n",
       "50%      0.007812    0.015625    0.015625    0.000000    0.005859  ...   \n",
       "75%      0.017578    0.056153    0.029297    0.000000    0.007812  ...   \n",
       "max      0.111330    0.310550    0.091797    0.031250    0.076172  ...   \n",
       "\n",
       "        texture55   texture56   texture57   texture58   texture59   texture60   \n",
       "count  990.000000  990.000000  990.000000  990.000000  990.000000  990.000000  \\\n",
       "mean     0.036501    0.005024    0.015944    0.011586    0.016108    0.014017   \n",
       "std      0.063403    0.019321    0.023214    0.025040    0.015335    0.060151   \n",
       "min      0.000000    0.000000    0.000000    0.000000    0.000000    0.000000   \n",
       "25%      0.000000    0.000000    0.000977    0.000000    0.004883    0.000000   \n",
       "50%      0.004883    0.000000    0.005859    0.000977    0.012695    0.000000   \n",
       "75%      0.043701    0.000000    0.022217    0.009766    0.021484    0.000000   \n",
       "max      0.429690    0.202150    0.172850    0.200200    0.106450    0.578130   \n",
       "\n",
       "        texture61   texture62   texture63   texture64  \n",
       "count  990.000000  990.000000  990.000000  990.000000  \n",
       "mean     0.002688    0.020291    0.008989    0.019420  \n",
       "std      0.011415    0.039040    0.013791    0.022768  \n",
       "min      0.000000    0.000000    0.000000    0.000000  \n",
       "25%      0.000000    0.000000    0.000000    0.000977  \n",
       "50%      0.000000    0.003906    0.002930    0.011719  \n",
       "75%      0.000000    0.023438    0.012695    0.029297  \n",
       "max      0.151370    0.375980    0.086914    0.141600  \n",
       "\n",
       "[8 rows x 193 columns]"
      ]
     },
     "execution_count": 131,
     "metadata": {},
     "output_type": "execute_result"
    }
   ],
   "source": [
    "train_data.describe()"
   ]
  },
  {
   "cell_type": "code",
   "execution_count": 133,
   "id": "87e10c50-6cd1-4cae-8cd0-a44fa7c34ed7",
   "metadata": {
    "tags": []
   },
   "outputs": [],
   "source": [
    "copied_data = train_data.copy()\n",
    "label_encoder = LabelEncoder()\n",
    "species = label_encoder.fit_transform(copied_data['species'])\n",
    "\n",
    "copied_data.drop('id', axis=1, inplace=True)\n",
    "copied_data.drop('species', axis=1, inplace=True)\n",
    "data = copied_data.copy()"
   ]
  },
  {
   "cell_type": "code",
   "execution_count": null,
   "id": "0c59ee18-c047-486b-a1e5-cd14b22f20e0",
   "metadata": {},
   "outputs": [],
   "source": []
  },
  {
   "cell_type": "code",
   "execution_count": 34,
   "id": "3ae76d5c-89c4-42e5-8d9c-886ad9c48eff",
   "metadata": {
    "tags": []
   },
   "outputs": [],
   "source": [
    "from sklearn.model_selection import train_test_split"
   ]
  },
  {
   "cell_type": "code",
   "execution_count": 32,
   "id": "4f32b9ad-ef46-4772-829d-0c38972ff47c",
   "metadata": {
    "tags": []
   },
   "outputs": [],
   "source": [
    "from sklearn.preprocessing import MinMaxScaler, StandardScaler"
   ]
  },
  {
   "cell_type": "code",
   "execution_count": 134,
   "id": "1dc44bf1-877f-4e86-94a0-9d979b3800fb",
   "metadata": {
    "tags": []
   },
   "outputs": [],
   "source": [
    "scaler = StandardScaler().fit(data)\n",
    "scaled_data = scaler.transform(data)\n",
    "trained_scaled_data = MinMaxScaler().fit_transform(scaled_data)\n",
    "\n",
    "(train_data, test_data, train_species, test_species) = train_test_split(trained_scaled_data, species, test_size=0.30)"
   ]
  },
  {
   "cell_type": "code",
   "execution_count": null,
   "id": "9cd57f37-4fce-41d0-8438-238c557c20a6",
   "metadata": {},
   "outputs": [],
   "source": []
  },
  {
   "cell_type": "code",
   "execution_count": 39,
   "id": "06eef8c1-6d43-40f6-b6ae-05cb176403b2",
   "metadata": {
    "tags": []
   },
   "outputs": [],
   "source": [
    "from sklearn.svm import SVC"
   ]
  },
  {
   "cell_type": "code",
   "execution_count": 41,
   "id": "19603c02-ed38-48a2-b537-7de178fbd2d1",
   "metadata": {
    "tags": []
   },
   "outputs": [],
   "source": [
    "from sklearn.metrics import accuracy_score"
   ]
  },
  {
   "cell_type": "code",
   "execution_count": 135,
   "id": "a228ee95-2414-4124-9f19-39ec140bb49b",
   "metadata": {
    "tags": []
   },
   "outputs": [
    {
     "name": "stdout",
     "output_type": "stream",
     "text": [
      "[[88.32359699 98.32996694 39.7099923  ... 26.68127485  8.67678795\n",
      "  90.32762278]\n",
      " [77.31619374 29.69641234 68.3104415  ... 62.29840469 14.67947461\n",
      "  92.32546007]\n",
      " [38.69367251 29.68563422 81.32487985 ... 90.32789749 36.68069757\n",
      "  39.68980906]\n",
      " ...\n",
      " [83.32191237 95.32875591 32.68433324 ... 22.67681156 13.67644146\n",
      "  76.31648693]\n",
      " [31.69386349 38.75967276 80.32189357 ... 75.31970047  6.67314552\n",
      "  45.93152038]\n",
      " [50.74820719 27.6850922  42.69507084 ... 50.87835666 86.32423062\n",
      "  56.18016666]]\n",
      "[31 90 66 14  5 41 27 85  1 33 88 20 23 15 59 47 36 90 45 50 41 76 46  9\n",
      "  9 10 90 49 41 83 64 38 87 13  1 11 77 15 71 30  4 33 37 11  1 14  1 16\n",
      " 58 49 32 93 76 89 25 69 30 94 68 51 97  4  1 77 15 18  6 16 66 79 30 95\n",
      " 43 91  9 41  0 57 40 60 38 15 79 58 16 46 43 26 73 52 44  5 80 77 74 58\n",
      " 79 25 32 56 62 98 19 46 43 24 72 86  1  9 47 41 81 63 75 97  3 12 37 72\n",
      " 66 93 16 24 36 21 38 30  7  5 56 38 44 41 93 93 74 82 69 75 52  0 71 84\n",
      " 73 17 67 94 66 66 80 30 26 29 38 47 76 76 92  7 41 54 79 14 58 34 43 39\n",
      " 18 12  2 94 12 62 98 34 77 22 77 70 53 40  9 42 35  1 67 85 40 16 95 74\n",
      " 25 63 57 89 96 81 54 86 64 37 23 59 56 79 24 44 57 72 72 60 95 87 72 55\n",
      "  7 66 39 29 80 35 81 86 87 53 95 44 18 64 39 60 53 76 80  1 88  3 60 54\n",
      " 65 22 75 27 57 36 90 34  5 84 69 15 33 20 70 23 94  7 83 64 98 86 15 85\n",
      " 81 56 60 83 43  8 92 70 14 59 69 21 50  7 37 30 17 71 26 80 94 92 83 68\n",
      " 50 23 35  0 60 87 18 16 12]\n",
      "\n",
      "Accuracy: 0.98989898989899\n"
     ]
    }
   ],
   "source": [
    "svc = SVC(C=50, gamma=0.01, kernel='rbf')\n",
    "svc.fit(train_data, train_species)\n",
    "\n",
    "species_score = svc.decision_function(train_data)\n",
    "print(species_score)\n",
    "\n",
    "species_predict = svc.predict(test_data)\n",
    "print(species_predict)\n",
    "\n",
    "print(f\"\\nAccuracy: {str(accuracy_score(test_species, species_predict))}\")\n"
   ]
  },
  {
   "cell_type": "code",
   "execution_count": 137,
   "id": "16919090-57d9-4f64-a7c0-e391c4f471d9",
   "metadata": {
    "tags": []
   },
   "outputs": [
    {
     "data": {
      "text/html": [
       "<style>#sk-container-id-7 {color: black;}#sk-container-id-7 pre{padding: 0;}#sk-container-id-7 div.sk-toggleable {background-color: white;}#sk-container-id-7 label.sk-toggleable__label {cursor: pointer;display: block;width: 100%;margin-bottom: 0;padding: 0.3em;box-sizing: border-box;text-align: center;}#sk-container-id-7 label.sk-toggleable__label-arrow:before {content: \"▸\";float: left;margin-right: 0.25em;color: #696969;}#sk-container-id-7 label.sk-toggleable__label-arrow:hover:before {color: black;}#sk-container-id-7 div.sk-estimator:hover label.sk-toggleable__label-arrow:before {color: black;}#sk-container-id-7 div.sk-toggleable__content {max-height: 0;max-width: 0;overflow: hidden;text-align: left;background-color: #f0f8ff;}#sk-container-id-7 div.sk-toggleable__content pre {margin: 0.2em;color: black;border-radius: 0.25em;background-color: #f0f8ff;}#sk-container-id-7 input.sk-toggleable__control:checked~div.sk-toggleable__content {max-height: 200px;max-width: 100%;overflow: auto;}#sk-container-id-7 input.sk-toggleable__control:checked~label.sk-toggleable__label-arrow:before {content: \"▾\";}#sk-container-id-7 div.sk-estimator input.sk-toggleable__control:checked~label.sk-toggleable__label {background-color: #d4ebff;}#sk-container-id-7 div.sk-label input.sk-toggleable__control:checked~label.sk-toggleable__label {background-color: #d4ebff;}#sk-container-id-7 input.sk-hidden--visually {border: 0;clip: rect(1px 1px 1px 1px);clip: rect(1px, 1px, 1px, 1px);height: 1px;margin: -1px;overflow: hidden;padding: 0;position: absolute;width: 1px;}#sk-container-id-7 div.sk-estimator {font-family: monospace;background-color: #f0f8ff;border: 1px dotted black;border-radius: 0.25em;box-sizing: border-box;margin-bottom: 0.5em;}#sk-container-id-7 div.sk-estimator:hover {background-color: #d4ebff;}#sk-container-id-7 div.sk-parallel-item::after {content: \"\";width: 100%;border-bottom: 1px solid gray;flex-grow: 1;}#sk-container-id-7 div.sk-label:hover label.sk-toggleable__label {background-color: #d4ebff;}#sk-container-id-7 div.sk-serial::before {content: \"\";position: absolute;border-left: 1px solid gray;box-sizing: border-box;top: 0;bottom: 0;left: 50%;z-index: 0;}#sk-container-id-7 div.sk-serial {display: flex;flex-direction: column;align-items: center;background-color: white;padding-right: 0.2em;padding-left: 0.2em;position: relative;}#sk-container-id-7 div.sk-item {position: relative;z-index: 1;}#sk-container-id-7 div.sk-parallel {display: flex;align-items: stretch;justify-content: center;background-color: white;position: relative;}#sk-container-id-7 div.sk-item::before, #sk-container-id-7 div.sk-parallel-item::before {content: \"\";position: absolute;border-left: 1px solid gray;box-sizing: border-box;top: 0;bottom: 0;left: 50%;z-index: -1;}#sk-container-id-7 div.sk-parallel-item {display: flex;flex-direction: column;z-index: 1;position: relative;background-color: white;}#sk-container-id-7 div.sk-parallel-item:first-child::after {align-self: flex-end;width: 50%;}#sk-container-id-7 div.sk-parallel-item:last-child::after {align-self: flex-start;width: 50%;}#sk-container-id-7 div.sk-parallel-item:only-child::after {width: 0;}#sk-container-id-7 div.sk-dashed-wrapped {border: 1px dashed gray;margin: 0 0.4em 0.5em 0.4em;box-sizing: border-box;padding-bottom: 0.4em;background-color: white;}#sk-container-id-7 div.sk-label label {font-family: monospace;font-weight: bold;display: inline-block;line-height: 1.2em;}#sk-container-id-7 div.sk-label-container {text-align: center;}#sk-container-id-7 div.sk-container {/* jupyter's `normalize.less` sets `[hidden] { display: none; }` but bootstrap.min.css set `[hidden] { display: none !important; }` so we also need the `!important` here to be able to override the default hidden behavior on the sphinx rendered scikit-learn.org. See: https://github.com/scikit-learn/scikit-learn/issues/21755 */display: inline-block !important;position: relative;}#sk-container-id-7 div.sk-text-repr-fallback {display: none;}</style><div id=\"sk-container-id-7\" class=\"sk-top-container\"><div class=\"sk-text-repr-fallback\"><pre>SVC(C=50, gamma=0.01, probability=True)</pre><b>In a Jupyter environment, please rerun this cell to show the HTML representation or trust the notebook. <br />On GitHub, the HTML representation is unable to render, please try loading this page with nbviewer.org.</b></div><div class=\"sk-container\" hidden><div class=\"sk-item\"><div class=\"sk-estimator sk-toggleable\"><input class=\"sk-toggleable__control sk-hidden--visually\" id=\"sk-estimator-id-7\" type=\"checkbox\" checked><label for=\"sk-estimator-id-7\" class=\"sk-toggleable__label sk-toggleable__label-arrow\">SVC</label><div class=\"sk-toggleable__content\"><pre>SVC(C=50, gamma=0.01, probability=True)</pre></div></div></div></div></div>"
      ],
      "text/plain": [
       "SVC(C=50, gamma=0.01, probability=True)"
      ]
     },
     "execution_count": 137,
     "metadata": {},
     "output_type": "execute_result"
    }
   ],
   "source": [
    "train_data = pd.read_csv('kaggle/train.csv.zip')\n",
    "\n",
    "copied_data = train_data.copy()\n",
    "species = LabelEncoder().fit_transform(copied_data['species'])\n",
    "\n",
    "copied_data.drop('id', axis=1, inplace=True)\n",
    "copied_data.drop('species', axis=1, inplace=True)\n",
    "data = copied_data.copy()\n",
    "\n",
    "scaler = StandardScaler().fit(data)\n",
    "scaled_data= scaler.transform(data)\n",
    "trained_scaled_data = MinMaxScaler().fit_transform(scaled_data)\n",
    "\n",
    "\n",
    "svc = SVC(C=50, gamma=0.01, kernel='rbf', probability=True)\n",
    "svc.fit(data, species)"
   ]
  },
  {
   "cell_type": "code",
   "execution_count": null,
   "id": "e39b3322-0ecd-470f-976c-2fa74ece2f9c",
   "metadata": {},
   "outputs": [],
   "source": []
  },
  {
   "cell_type": "code",
   "execution_count": 143,
   "id": "f8cc0a46-2115-4f62-94c8-1756d7b034aa",
   "metadata": {
    "tags": []
   },
   "outputs": [
    {
     "data": {
      "text/html": [
       "<div>\n",
       "<style scoped>\n",
       "    .dataframe tbody tr th:only-of-type {\n",
       "        vertical-align: middle;\n",
       "    }\n",
       "\n",
       "    .dataframe tbody tr th {\n",
       "        vertical-align: top;\n",
       "    }\n",
       "\n",
       "    .dataframe thead th {\n",
       "        text-align: right;\n",
       "    }\n",
       "</style>\n",
       "<table border=\"1\" class=\"dataframe\">\n",
       "  <thead>\n",
       "    <tr style=\"text-align: right;\">\n",
       "      <th></th>\n",
       "      <th>id</th>\n",
       "      <th>margin1</th>\n",
       "      <th>margin2</th>\n",
       "      <th>margin3</th>\n",
       "      <th>margin4</th>\n",
       "      <th>margin5</th>\n",
       "      <th>margin6</th>\n",
       "      <th>margin7</th>\n",
       "      <th>margin8</th>\n",
       "      <th>margin9</th>\n",
       "      <th>...</th>\n",
       "      <th>texture55</th>\n",
       "      <th>texture56</th>\n",
       "      <th>texture57</th>\n",
       "      <th>texture58</th>\n",
       "      <th>texture59</th>\n",
       "      <th>texture60</th>\n",
       "      <th>texture61</th>\n",
       "      <th>texture62</th>\n",
       "      <th>texture63</th>\n",
       "      <th>texture64</th>\n",
       "    </tr>\n",
       "  </thead>\n",
       "  <tbody>\n",
       "    <tr>\n",
       "      <th>0</th>\n",
       "      <td>4</td>\n",
       "      <td>0.019531</td>\n",
       "      <td>0.009766</td>\n",
       "      <td>0.078125</td>\n",
       "      <td>0.011719</td>\n",
       "      <td>0.003906</td>\n",
       "      <td>0.015625</td>\n",
       "      <td>0.005859</td>\n",
       "      <td>0.0</td>\n",
       "      <td>0.005859</td>\n",
       "      <td>...</td>\n",
       "      <td>0.006836</td>\n",
       "      <td>0.000000</td>\n",
       "      <td>0.015625</td>\n",
       "      <td>0.000977</td>\n",
       "      <td>0.015625</td>\n",
       "      <td>0.000000</td>\n",
       "      <td>0.0</td>\n",
       "      <td>0.000000</td>\n",
       "      <td>0.003906</td>\n",
       "      <td>0.053711</td>\n",
       "    </tr>\n",
       "    <tr>\n",
       "      <th>1</th>\n",
       "      <td>7</td>\n",
       "      <td>0.007812</td>\n",
       "      <td>0.005859</td>\n",
       "      <td>0.064453</td>\n",
       "      <td>0.009766</td>\n",
       "      <td>0.003906</td>\n",
       "      <td>0.013672</td>\n",
       "      <td>0.007812</td>\n",
       "      <td>0.0</td>\n",
       "      <td>0.033203</td>\n",
       "      <td>...</td>\n",
       "      <td>0.000000</td>\n",
       "      <td>0.000000</td>\n",
       "      <td>0.006836</td>\n",
       "      <td>0.001953</td>\n",
       "      <td>0.013672</td>\n",
       "      <td>0.000000</td>\n",
       "      <td>0.0</td>\n",
       "      <td>0.000977</td>\n",
       "      <td>0.037109</td>\n",
       "      <td>0.044922</td>\n",
       "    </tr>\n",
       "    <tr>\n",
       "      <th>2</th>\n",
       "      <td>9</td>\n",
       "      <td>0.000000</td>\n",
       "      <td>0.000000</td>\n",
       "      <td>0.001953</td>\n",
       "      <td>0.021484</td>\n",
       "      <td>0.041016</td>\n",
       "      <td>0.000000</td>\n",
       "      <td>0.023438</td>\n",
       "      <td>0.0</td>\n",
       "      <td>0.011719</td>\n",
       "      <td>...</td>\n",
       "      <td>0.128910</td>\n",
       "      <td>0.000000</td>\n",
       "      <td>0.000977</td>\n",
       "      <td>0.000000</td>\n",
       "      <td>0.000000</td>\n",
       "      <td>0.000000</td>\n",
       "      <td>0.0</td>\n",
       "      <td>0.015625</td>\n",
       "      <td>0.000000</td>\n",
       "      <td>0.000000</td>\n",
       "    </tr>\n",
       "    <tr>\n",
       "      <th>3</th>\n",
       "      <td>12</td>\n",
       "      <td>0.000000</td>\n",
       "      <td>0.000000</td>\n",
       "      <td>0.009766</td>\n",
       "      <td>0.011719</td>\n",
       "      <td>0.017578</td>\n",
       "      <td>0.000000</td>\n",
       "      <td>0.003906</td>\n",
       "      <td>0.0</td>\n",
       "      <td>0.003906</td>\n",
       "      <td>...</td>\n",
       "      <td>0.012695</td>\n",
       "      <td>0.015625</td>\n",
       "      <td>0.002930</td>\n",
       "      <td>0.036133</td>\n",
       "      <td>0.013672</td>\n",
       "      <td>0.000000</td>\n",
       "      <td>0.0</td>\n",
       "      <td>0.089844</td>\n",
       "      <td>0.000000</td>\n",
       "      <td>0.008789</td>\n",
       "    </tr>\n",
       "    <tr>\n",
       "      <th>4</th>\n",
       "      <td>13</td>\n",
       "      <td>0.001953</td>\n",
       "      <td>0.000000</td>\n",
       "      <td>0.015625</td>\n",
       "      <td>0.009766</td>\n",
       "      <td>0.039062</td>\n",
       "      <td>0.000000</td>\n",
       "      <td>0.009766</td>\n",
       "      <td>0.0</td>\n",
       "      <td>0.005859</td>\n",
       "      <td>...</td>\n",
       "      <td>0.000000</td>\n",
       "      <td>0.042969</td>\n",
       "      <td>0.016602</td>\n",
       "      <td>0.010742</td>\n",
       "      <td>0.041016</td>\n",
       "      <td>0.000000</td>\n",
       "      <td>0.0</td>\n",
       "      <td>0.007812</td>\n",
       "      <td>0.009766</td>\n",
       "      <td>0.007812</td>\n",
       "    </tr>\n",
       "    <tr>\n",
       "      <th>5</th>\n",
       "      <td>16</td>\n",
       "      <td>0.021484</td>\n",
       "      <td>0.033203</td>\n",
       "      <td>0.021484</td>\n",
       "      <td>0.009766</td>\n",
       "      <td>0.015625</td>\n",
       "      <td>0.035156</td>\n",
       "      <td>0.039062</td>\n",
       "      <td>0.0</td>\n",
       "      <td>0.003906</td>\n",
       "      <td>...</td>\n",
       "      <td>0.000000</td>\n",
       "      <td>0.000000</td>\n",
       "      <td>0.000000</td>\n",
       "      <td>0.000977</td>\n",
       "      <td>0.049805</td>\n",
       "      <td>0.000000</td>\n",
       "      <td>0.0</td>\n",
       "      <td>0.027344</td>\n",
       "      <td>0.000000</td>\n",
       "      <td>0.021484</td>\n",
       "    </tr>\n",
       "    <tr>\n",
       "      <th>6</th>\n",
       "      <td>19</td>\n",
       "      <td>0.015625</td>\n",
       "      <td>0.025391</td>\n",
       "      <td>0.046875</td>\n",
       "      <td>0.009766</td>\n",
       "      <td>0.005859</td>\n",
       "      <td>0.027344</td>\n",
       "      <td>0.042969</td>\n",
       "      <td>0.0</td>\n",
       "      <td>0.000000</td>\n",
       "      <td>...</td>\n",
       "      <td>0.001953</td>\n",
       "      <td>0.000000</td>\n",
       "      <td>0.000000</td>\n",
       "      <td>0.004883</td>\n",
       "      <td>0.030273</td>\n",
       "      <td>0.000000</td>\n",
       "      <td>0.0</td>\n",
       "      <td>0.000977</td>\n",
       "      <td>0.000000</td>\n",
       "      <td>0.024414</td>\n",
       "    </tr>\n",
       "    <tr>\n",
       "      <th>7</th>\n",
       "      <td>23</td>\n",
       "      <td>0.007812</td>\n",
       "      <td>0.031250</td>\n",
       "      <td>0.011719</td>\n",
       "      <td>0.050781</td>\n",
       "      <td>0.000000</td>\n",
       "      <td>0.117190</td>\n",
       "      <td>0.003906</td>\n",
       "      <td>0.0</td>\n",
       "      <td>0.011719</td>\n",
       "      <td>...</td>\n",
       "      <td>0.047852</td>\n",
       "      <td>0.000000</td>\n",
       "      <td>0.030273</td>\n",
       "      <td>0.000000</td>\n",
       "      <td>0.011719</td>\n",
       "      <td>0.000000</td>\n",
       "      <td>0.0</td>\n",
       "      <td>0.003906</td>\n",
       "      <td>0.002930</td>\n",
       "      <td>0.048828</td>\n",
       "    </tr>\n",
       "    <tr>\n",
       "      <th>8</th>\n",
       "      <td>24</td>\n",
       "      <td>0.003906</td>\n",
       "      <td>0.007812</td>\n",
       "      <td>0.074219</td>\n",
       "      <td>0.017578</td>\n",
       "      <td>0.015625</td>\n",
       "      <td>0.003906</td>\n",
       "      <td>0.011719</td>\n",
       "      <td>0.0</td>\n",
       "      <td>0.009766</td>\n",
       "      <td>...</td>\n",
       "      <td>0.102540</td>\n",
       "      <td>0.000000</td>\n",
       "      <td>0.023438</td>\n",
       "      <td>0.000000</td>\n",
       "      <td>0.000000</td>\n",
       "      <td>0.000000</td>\n",
       "      <td>0.0</td>\n",
       "      <td>0.000000</td>\n",
       "      <td>0.000000</td>\n",
       "      <td>0.008789</td>\n",
       "    </tr>\n",
       "    <tr>\n",
       "      <th>9</th>\n",
       "      <td>28</td>\n",
       "      <td>0.000000</td>\n",
       "      <td>0.000000</td>\n",
       "      <td>0.005859</td>\n",
       "      <td>0.021484</td>\n",
       "      <td>0.054688</td>\n",
       "      <td>0.000000</td>\n",
       "      <td>0.015625</td>\n",
       "      <td>0.0</td>\n",
       "      <td>0.011719</td>\n",
       "      <td>...</td>\n",
       "      <td>0.195310</td>\n",
       "      <td>0.039062</td>\n",
       "      <td>0.003906</td>\n",
       "      <td>0.007812</td>\n",
       "      <td>0.013672</td>\n",
       "      <td>0.001953</td>\n",
       "      <td>0.0</td>\n",
       "      <td>0.029297</td>\n",
       "      <td>0.000000</td>\n",
       "      <td>0.007812</td>\n",
       "    </tr>\n",
       "  </tbody>\n",
       "</table>\n",
       "<p>10 rows × 193 columns</p>\n",
       "</div>"
      ],
      "text/plain": [
       "   id   margin1   margin2   margin3   margin4   margin5   margin6   margin7   \n",
       "0   4  0.019531  0.009766  0.078125  0.011719  0.003906  0.015625  0.005859  \\\n",
       "1   7  0.007812  0.005859  0.064453  0.009766  0.003906  0.013672  0.007812   \n",
       "2   9  0.000000  0.000000  0.001953  0.021484  0.041016  0.000000  0.023438   \n",
       "3  12  0.000000  0.000000  0.009766  0.011719  0.017578  0.000000  0.003906   \n",
       "4  13  0.001953  0.000000  0.015625  0.009766  0.039062  0.000000  0.009766   \n",
       "5  16  0.021484  0.033203  0.021484  0.009766  0.015625  0.035156  0.039062   \n",
       "6  19  0.015625  0.025391  0.046875  0.009766  0.005859  0.027344  0.042969   \n",
       "7  23  0.007812  0.031250  0.011719  0.050781  0.000000  0.117190  0.003906   \n",
       "8  24  0.003906  0.007812  0.074219  0.017578  0.015625  0.003906  0.011719   \n",
       "9  28  0.000000  0.000000  0.005859  0.021484  0.054688  0.000000  0.015625   \n",
       "\n",
       "   margin8   margin9  ...  texture55  texture56  texture57  texture58   \n",
       "0      0.0  0.005859  ...   0.006836   0.000000   0.015625   0.000977  \\\n",
       "1      0.0  0.033203  ...   0.000000   0.000000   0.006836   0.001953   \n",
       "2      0.0  0.011719  ...   0.128910   0.000000   0.000977   0.000000   \n",
       "3      0.0  0.003906  ...   0.012695   0.015625   0.002930   0.036133   \n",
       "4      0.0  0.005859  ...   0.000000   0.042969   0.016602   0.010742   \n",
       "5      0.0  0.003906  ...   0.000000   0.000000   0.000000   0.000977   \n",
       "6      0.0  0.000000  ...   0.001953   0.000000   0.000000   0.004883   \n",
       "7      0.0  0.011719  ...   0.047852   0.000000   0.030273   0.000000   \n",
       "8      0.0  0.009766  ...   0.102540   0.000000   0.023438   0.000000   \n",
       "9      0.0  0.011719  ...   0.195310   0.039062   0.003906   0.007812   \n",
       "\n",
       "   texture59  texture60  texture61  texture62  texture63  texture64  \n",
       "0   0.015625   0.000000        0.0   0.000000   0.003906   0.053711  \n",
       "1   0.013672   0.000000        0.0   0.000977   0.037109   0.044922  \n",
       "2   0.000000   0.000000        0.0   0.015625   0.000000   0.000000  \n",
       "3   0.013672   0.000000        0.0   0.089844   0.000000   0.008789  \n",
       "4   0.041016   0.000000        0.0   0.007812   0.009766   0.007812  \n",
       "5   0.049805   0.000000        0.0   0.027344   0.000000   0.021484  \n",
       "6   0.030273   0.000000        0.0   0.000977   0.000000   0.024414  \n",
       "7   0.011719   0.000000        0.0   0.003906   0.002930   0.048828  \n",
       "8   0.000000   0.000000        0.0   0.000000   0.000000   0.008789  \n",
       "9   0.013672   0.001953        0.0   0.029297   0.000000   0.007812  \n",
       "\n",
       "[10 rows x 193 columns]"
      ]
     },
     "execution_count": 143,
     "metadata": {},
     "output_type": "execute_result"
    }
   ],
   "source": [
    "test_data = pd.read_csv('kaggle/test.csv.zip')\n",
    "test_data.head(10)"
   ]
  },
  {
   "cell_type": "code",
   "execution_count": 144,
   "id": "e1011f7d-22ba-4052-815a-91aaabb39b5e",
   "metadata": {
    "tags": []
   },
   "outputs": [],
   "source": [
    "classes = list(label_encoder.classes_)\n",
    "test_data_ids = test_data.id\n",
    "test_data.drop('id', axis=1, inplace=True)\n",
    "data = test_data.copy()\n",
    "scaler = StandardScaler().fit(data)\n",
    "scaled_data = scaler.transform(data)\n",
    "test_scaled_data = MinMaxScaler().fit_transform(scaled_data)"
   ]
  },
  {
   "cell_type": "code",
   "execution_count": 145,
   "id": "a366c66b-9847-49d0-8235-f44ecadb90a3",
   "metadata": {
    "tags": []
   },
   "outputs": [
    {
     "name": "stdout",
     "output_type": "stream",
     "text": [
      "[[0.00589589 0.00455388 0.00226375 ... 0.01229701 0.00310114 0.00868786]\n",
      " [0.00381304 0.00406037 0.00297292 ... 0.01569325 0.00234165 0.02124083]\n",
      " [0.01300573 0.21197013 0.0246517  ... 0.00453129 0.00184793 0.0262565 ]\n",
      " ...\n",
      " [0.02296447 0.01131305 0.00728265 ... 0.01071827 0.00218198 0.00968515]\n",
      " [0.00261222 0.00257766 0.00393127 ... 0.00606783 0.00217257 0.00633106]\n",
      " [0.00184909 0.00481483 0.00907085 ... 0.01003976 0.00293724 0.0089681 ]]\n"
     ]
    }
   ],
   "source": [
    "species_prediction = svc.predict_proba(data)\n",
    "print(species_prediction)"
   ]
  },
  {
   "cell_type": "code",
   "execution_count": 154,
   "id": "68303382-7b0f-4e80-87ce-cf4c932d65bf",
   "metadata": {
    "tags": []
   },
   "outputs": [
    {
     "data": {
      "text/html": [
       "<div>\n",
       "<style scoped>\n",
       "    .dataframe tbody tr th:only-of-type {\n",
       "        vertical-align: middle;\n",
       "    }\n",
       "\n",
       "    .dataframe tbody tr th {\n",
       "        vertical-align: top;\n",
       "    }\n",
       "\n",
       "    .dataframe thead th {\n",
       "        text-align: right;\n",
       "    }\n",
       "</style>\n",
       "<table border=\"1\" class=\"dataframe\">\n",
       "  <thead>\n",
       "    <tr style=\"text-align: right;\">\n",
       "      <th></th>\n",
       "      <th>id</th>\n",
       "      <th>Acer_Capillipes</th>\n",
       "      <th>Acer_Circinatum</th>\n",
       "      <th>Acer_Mono</th>\n",
       "      <th>Acer_Opalus</th>\n",
       "      <th>Acer_Palmatum</th>\n",
       "      <th>Acer_Pictum</th>\n",
       "      <th>Acer_Platanoids</th>\n",
       "      <th>Acer_Rubrum</th>\n",
       "      <th>Acer_Rufinerve</th>\n",
       "      <th>...</th>\n",
       "      <th>Salix_Fragilis</th>\n",
       "      <th>Salix_Intergra</th>\n",
       "      <th>Sorbus_Aria</th>\n",
       "      <th>Tilia_Oliveri</th>\n",
       "      <th>Tilia_Platyphyllos</th>\n",
       "      <th>Tilia_Tomentosa</th>\n",
       "      <th>Ulmus_Bergmanniana</th>\n",
       "      <th>Viburnum_Tinus</th>\n",
       "      <th>Viburnum_x_Rhytidophylloides</th>\n",
       "      <th>Zelkova_Serrata</th>\n",
       "    </tr>\n",
       "  </thead>\n",
       "  <tbody>\n",
       "    <tr>\n",
       "      <th>0</th>\n",
       "      <td>4</td>\n",
       "      <td>0.005896</td>\n",
       "      <td>0.004554</td>\n",
       "      <td>0.002264</td>\n",
       "      <td>0.058409</td>\n",
       "      <td>0.001605</td>\n",
       "      <td>0.002407</td>\n",
       "      <td>0.011667</td>\n",
       "      <td>0.001726</td>\n",
       "      <td>0.003909</td>\n",
       "      <td>...</td>\n",
       "      <td>0.002669</td>\n",
       "      <td>0.023535</td>\n",
       "      <td>0.002701</td>\n",
       "      <td>0.003327</td>\n",
       "      <td>0.010553</td>\n",
       "      <td>0.005413</td>\n",
       "      <td>0.001730</td>\n",
       "      <td>0.012297</td>\n",
       "      <td>0.003101</td>\n",
       "      <td>0.008688</td>\n",
       "    </tr>\n",
       "    <tr>\n",
       "      <th>1</th>\n",
       "      <td>7</td>\n",
       "      <td>0.003813</td>\n",
       "      <td>0.004060</td>\n",
       "      <td>0.002973</td>\n",
       "      <td>0.037804</td>\n",
       "      <td>0.001629</td>\n",
       "      <td>0.003324</td>\n",
       "      <td>0.012063</td>\n",
       "      <td>0.001821</td>\n",
       "      <td>0.003878</td>\n",
       "      <td>...</td>\n",
       "      <td>0.002437</td>\n",
       "      <td>0.008443</td>\n",
       "      <td>0.001935</td>\n",
       "      <td>0.004505</td>\n",
       "      <td>0.006507</td>\n",
       "      <td>0.012106</td>\n",
       "      <td>0.001688</td>\n",
       "      <td>0.015693</td>\n",
       "      <td>0.002342</td>\n",
       "      <td>0.021241</td>\n",
       "    </tr>\n",
       "    <tr>\n",
       "      <th>2</th>\n",
       "      <td>9</td>\n",
       "      <td>0.013006</td>\n",
       "      <td>0.211970</td>\n",
       "      <td>0.024652</td>\n",
       "      <td>0.009160</td>\n",
       "      <td>0.017624</td>\n",
       "      <td>0.010187</td>\n",
       "      <td>0.011543</td>\n",
       "      <td>0.002227</td>\n",
       "      <td>0.069850</td>\n",
       "      <td>...</td>\n",
       "      <td>0.005235</td>\n",
       "      <td>0.005231</td>\n",
       "      <td>0.002414</td>\n",
       "      <td>0.002789</td>\n",
       "      <td>0.007554</td>\n",
       "      <td>0.007016</td>\n",
       "      <td>0.003743</td>\n",
       "      <td>0.004531</td>\n",
       "      <td>0.001848</td>\n",
       "      <td>0.026257</td>\n",
       "    </tr>\n",
       "    <tr>\n",
       "      <th>3</th>\n",
       "      <td>12</td>\n",
       "      <td>0.005616</td>\n",
       "      <td>0.011702</td>\n",
       "      <td>0.002071</td>\n",
       "      <td>0.008494</td>\n",
       "      <td>0.001895</td>\n",
       "      <td>0.001996</td>\n",
       "      <td>0.011682</td>\n",
       "      <td>0.002478</td>\n",
       "      <td>0.024680</td>\n",
       "      <td>...</td>\n",
       "      <td>0.012089</td>\n",
       "      <td>0.003261</td>\n",
       "      <td>0.007014</td>\n",
       "      <td>0.004125</td>\n",
       "      <td>0.039916</td>\n",
       "      <td>0.016515</td>\n",
       "      <td>0.035553</td>\n",
       "      <td>0.006038</td>\n",
       "      <td>0.005583</td>\n",
       "      <td>0.017672</td>\n",
       "    </tr>\n",
       "    <tr>\n",
       "      <th>4</th>\n",
       "      <td>13</td>\n",
       "      <td>0.008748</td>\n",
       "      <td>0.011900</td>\n",
       "      <td>0.001859</td>\n",
       "      <td>0.008144</td>\n",
       "      <td>0.002583</td>\n",
       "      <td>0.002132</td>\n",
       "      <td>0.009841</td>\n",
       "      <td>0.002196</td>\n",
       "      <td>0.026203</td>\n",
       "      <td>...</td>\n",
       "      <td>0.012679</td>\n",
       "      <td>0.003019</td>\n",
       "      <td>0.008282</td>\n",
       "      <td>0.004482</td>\n",
       "      <td>0.067749</td>\n",
       "      <td>0.015312</td>\n",
       "      <td>0.017202</td>\n",
       "      <td>0.008357</td>\n",
       "      <td>0.006851</td>\n",
       "      <td>0.007513</td>\n",
       "    </tr>\n",
       "    <tr>\n",
       "      <th>...</th>\n",
       "      <td>...</td>\n",
       "      <td>...</td>\n",
       "      <td>...</td>\n",
       "      <td>...</td>\n",
       "      <td>...</td>\n",
       "      <td>...</td>\n",
       "      <td>...</td>\n",
       "      <td>...</td>\n",
       "      <td>...</td>\n",
       "      <td>...</td>\n",
       "      <td>...</td>\n",
       "      <td>...</td>\n",
       "      <td>...</td>\n",
       "      <td>...</td>\n",
       "      <td>...</td>\n",
       "      <td>...</td>\n",
       "      <td>...</td>\n",
       "      <td>...</td>\n",
       "      <td>...</td>\n",
       "      <td>...</td>\n",
       "      <td>...</td>\n",
       "    </tr>\n",
       "    <tr>\n",
       "      <th>589</th>\n",
       "      <td>1576</td>\n",
       "      <td>0.016946</td>\n",
       "      <td>0.190352</td>\n",
       "      <td>0.024201</td>\n",
       "      <td>0.008585</td>\n",
       "      <td>0.019852</td>\n",
       "      <td>0.008269</td>\n",
       "      <td>0.011105</td>\n",
       "      <td>0.002176</td>\n",
       "      <td>0.074170</td>\n",
       "      <td>...</td>\n",
       "      <td>0.005186</td>\n",
       "      <td>0.005306</td>\n",
       "      <td>0.003020</td>\n",
       "      <td>0.002895</td>\n",
       "      <td>0.009226</td>\n",
       "      <td>0.006866</td>\n",
       "      <td>0.004753</td>\n",
       "      <td>0.004666</td>\n",
       "      <td>0.002332</td>\n",
       "      <td>0.022658</td>\n",
       "    </tr>\n",
       "    <tr>\n",
       "      <th>590</th>\n",
       "      <td>1577</td>\n",
       "      <td>0.008137</td>\n",
       "      <td>0.012296</td>\n",
       "      <td>0.002150</td>\n",
       "      <td>0.012764</td>\n",
       "      <td>0.001908</td>\n",
       "      <td>0.002178</td>\n",
       "      <td>0.008151</td>\n",
       "      <td>0.002357</td>\n",
       "      <td>0.026513</td>\n",
       "      <td>...</td>\n",
       "      <td>0.007219</td>\n",
       "      <td>0.004642</td>\n",
       "      <td>0.006755</td>\n",
       "      <td>0.002859</td>\n",
       "      <td>0.043805</td>\n",
       "      <td>0.021032</td>\n",
       "      <td>0.013508</td>\n",
       "      <td>0.005659</td>\n",
       "      <td>0.004542</td>\n",
       "      <td>0.028317</td>\n",
       "    </tr>\n",
       "    <tr>\n",
       "      <th>591</th>\n",
       "      <td>1579</td>\n",
       "      <td>0.022964</td>\n",
       "      <td>0.011313</td>\n",
       "      <td>0.007283</td>\n",
       "      <td>0.006393</td>\n",
       "      <td>0.002661</td>\n",
       "      <td>0.008948</td>\n",
       "      <td>0.011525</td>\n",
       "      <td>0.001661</td>\n",
       "      <td>0.009193</td>\n",
       "      <td>...</td>\n",
       "      <td>0.001922</td>\n",
       "      <td>0.005736</td>\n",
       "      <td>0.001856</td>\n",
       "      <td>0.002419</td>\n",
       "      <td>0.004753</td>\n",
       "      <td>0.002572</td>\n",
       "      <td>0.001632</td>\n",
       "      <td>0.010718</td>\n",
       "      <td>0.002182</td>\n",
       "      <td>0.009685</td>\n",
       "    </tr>\n",
       "    <tr>\n",
       "      <th>592</th>\n",
       "      <td>1580</td>\n",
       "      <td>0.002612</td>\n",
       "      <td>0.002578</td>\n",
       "      <td>0.003931</td>\n",
       "      <td>0.009233</td>\n",
       "      <td>0.001744</td>\n",
       "      <td>0.002158</td>\n",
       "      <td>0.005356</td>\n",
       "      <td>0.008584</td>\n",
       "      <td>0.003163</td>\n",
       "      <td>...</td>\n",
       "      <td>0.003935</td>\n",
       "      <td>0.005671</td>\n",
       "      <td>0.001407</td>\n",
       "      <td>0.042028</td>\n",
       "      <td>0.003991</td>\n",
       "      <td>0.007583</td>\n",
       "      <td>0.001807</td>\n",
       "      <td>0.006068</td>\n",
       "      <td>0.002173</td>\n",
       "      <td>0.006331</td>\n",
       "    </tr>\n",
       "    <tr>\n",
       "      <th>593</th>\n",
       "      <td>1583</td>\n",
       "      <td>0.001849</td>\n",
       "      <td>0.004815</td>\n",
       "      <td>0.009071</td>\n",
       "      <td>0.005108</td>\n",
       "      <td>0.001509</td>\n",
       "      <td>0.013347</td>\n",
       "      <td>0.015037</td>\n",
       "      <td>0.001595</td>\n",
       "      <td>0.003498</td>\n",
       "      <td>...</td>\n",
       "      <td>0.001744</td>\n",
       "      <td>0.005537</td>\n",
       "      <td>0.001343</td>\n",
       "      <td>0.002031</td>\n",
       "      <td>0.002649</td>\n",
       "      <td>0.004995</td>\n",
       "      <td>0.001737</td>\n",
       "      <td>0.010040</td>\n",
       "      <td>0.002937</td>\n",
       "      <td>0.008968</td>\n",
       "    </tr>\n",
       "  </tbody>\n",
       "</table>\n",
       "<p>594 rows × 100 columns</p>\n",
       "</div>"
      ],
      "text/plain": [
       "       id  Acer_Capillipes  Acer_Circinatum  Acer_Mono  Acer_Opalus   \n",
       "0       4         0.005896         0.004554   0.002264     0.058409  \\\n",
       "1       7         0.003813         0.004060   0.002973     0.037804   \n",
       "2       9         0.013006         0.211970   0.024652     0.009160   \n",
       "3      12         0.005616         0.011702   0.002071     0.008494   \n",
       "4      13         0.008748         0.011900   0.001859     0.008144   \n",
       "..    ...              ...              ...        ...          ...   \n",
       "589  1576         0.016946         0.190352   0.024201     0.008585   \n",
       "590  1577         0.008137         0.012296   0.002150     0.012764   \n",
       "591  1579         0.022964         0.011313   0.007283     0.006393   \n",
       "592  1580         0.002612         0.002578   0.003931     0.009233   \n",
       "593  1583         0.001849         0.004815   0.009071     0.005108   \n",
       "\n",
       "     Acer_Palmatum  Acer_Pictum  Acer_Platanoids  Acer_Rubrum  Acer_Rufinerve   \n",
       "0         0.001605     0.002407         0.011667     0.001726        0.003909  \\\n",
       "1         0.001629     0.003324         0.012063     0.001821        0.003878   \n",
       "2         0.017624     0.010187         0.011543     0.002227        0.069850   \n",
       "3         0.001895     0.001996         0.011682     0.002478        0.024680   \n",
       "4         0.002583     0.002132         0.009841     0.002196        0.026203   \n",
       "..             ...          ...              ...          ...             ...   \n",
       "589       0.019852     0.008269         0.011105     0.002176        0.074170   \n",
       "590       0.001908     0.002178         0.008151     0.002357        0.026513   \n",
       "591       0.002661     0.008948         0.011525     0.001661        0.009193   \n",
       "592       0.001744     0.002158         0.005356     0.008584        0.003163   \n",
       "593       0.001509     0.013347         0.015037     0.001595        0.003498   \n",
       "\n",
       "     ...  Salix_Fragilis  Salix_Intergra  Sorbus_Aria  Tilia_Oliveri   \n",
       "0    ...        0.002669        0.023535     0.002701       0.003327  \\\n",
       "1    ...        0.002437        0.008443     0.001935       0.004505   \n",
       "2    ...        0.005235        0.005231     0.002414       0.002789   \n",
       "3    ...        0.012089        0.003261     0.007014       0.004125   \n",
       "4    ...        0.012679        0.003019     0.008282       0.004482   \n",
       "..   ...             ...             ...          ...            ...   \n",
       "589  ...        0.005186        0.005306     0.003020       0.002895   \n",
       "590  ...        0.007219        0.004642     0.006755       0.002859   \n",
       "591  ...        0.001922        0.005736     0.001856       0.002419   \n",
       "592  ...        0.003935        0.005671     0.001407       0.042028   \n",
       "593  ...        0.001744        0.005537     0.001343       0.002031   \n",
       "\n",
       "     Tilia_Platyphyllos  Tilia_Tomentosa  Ulmus_Bergmanniana  Viburnum_Tinus   \n",
       "0              0.010553         0.005413            0.001730        0.012297  \\\n",
       "1              0.006507         0.012106            0.001688        0.015693   \n",
       "2              0.007554         0.007016            0.003743        0.004531   \n",
       "3              0.039916         0.016515            0.035553        0.006038   \n",
       "4              0.067749         0.015312            0.017202        0.008357   \n",
       "..                  ...              ...                 ...             ...   \n",
       "589            0.009226         0.006866            0.004753        0.004666   \n",
       "590            0.043805         0.021032            0.013508        0.005659   \n",
       "591            0.004753         0.002572            0.001632        0.010718   \n",
       "592            0.003991         0.007583            0.001807        0.006068   \n",
       "593            0.002649         0.004995            0.001737        0.010040   \n",
       "\n",
       "     Viburnum_x_Rhytidophylloides  Zelkova_Serrata  \n",
       "0                        0.003101         0.008688  \n",
       "1                        0.002342         0.021241  \n",
       "2                        0.001848         0.026257  \n",
       "3                        0.005583         0.017672  \n",
       "4                        0.006851         0.007513  \n",
       "..                            ...              ...  \n",
       "589                      0.002332         0.022658  \n",
       "590                      0.004542         0.028317  \n",
       "591                      0.002182         0.009685  \n",
       "592                      0.002173         0.006331  \n",
       "593                      0.002937         0.008968  \n",
       "\n",
       "[594 rows x 100 columns]"
      ]
     },
     "execution_count": 154,
     "metadata": {},
     "output_type": "execute_result"
    }
   ],
   "source": [
    "prediction = pd.DataFrame(species_prediction, columns=classes)\n",
    "prediction.insert(0, 'id', test_data_ids)\n",
    "prediction"
   ]
  },
  {
   "cell_type": "code",
   "execution_count": 148,
   "id": "61549032-123b-437c-a617-2c1c02362aca",
   "metadata": {
    "tags": []
   },
   "outputs": [],
   "source": []
  },
  {
   "cell_type": "code",
   "execution_count": 180,
   "id": "71939400-8596-4168-bd14-fc4f2001002c",
   "metadata": {
    "tags": []
   },
   "outputs": [],
   "source": []
  },
  {
   "cell_type": "code",
   "execution_count": 247,
   "id": "85357421-4830-43ea-a6c6-782a60ab9380",
   "metadata": {
    "tags": []
   },
   "outputs": [
    {
     "data": {
      "text/html": [
       "<div>\n",
       "<style scoped>\n",
       "    .dataframe tbody tr th:only-of-type {\n",
       "        vertical-align: middle;\n",
       "    }\n",
       "\n",
       "    .dataframe tbody tr th {\n",
       "        vertical-align: top;\n",
       "    }\n",
       "\n",
       "    .dataframe thead th {\n",
       "        text-align: right;\n",
       "    }\n",
       "</style>\n",
       "<table border=\"1\" class=\"dataframe\">\n",
       "  <thead>\n",
       "    <tr style=\"text-align: right;\">\n",
       "      <th></th>\n",
       "      <th>species</th>\n",
       "      <th>image ids</th>\n",
       "    </tr>\n",
       "  </thead>\n",
       "  <tbody>\n",
       "    <tr>\n",
       "      <th>0</th>\n",
       "      <td>Acer_Capillipes</td>\n",
       "      <td>['549', '607', '845', '902', '1430', '1540']</td>\n",
       "    </tr>\n",
       "    <tr>\n",
       "      <th>1</th>\n",
       "      <td>Acer_Circinatum</td>\n",
       "      <td>['9', '68', '192', '385', '775', '1576']</td>\n",
       "    </tr>\n",
       "    <tr>\n",
       "      <th>2</th>\n",
       "      <td>Acer_Mono</td>\n",
       "      <td>['791', '950', '1189']</td>\n",
       "    </tr>\n",
       "    <tr>\n",
       "      <th>3</th>\n",
       "      <td>Acer_Opalus</td>\n",
       "      <td>['19', '232', '346', '361', '833', '1195']</td>\n",
       "    </tr>\n",
       "    <tr>\n",
       "      <th>4</th>\n",
       "      <td>Acer_Palmatum</td>\n",
       "      <td>['94', '159', '1106', '1133', '1453', '1455']</td>\n",
       "    </tr>\n",
       "    <tr>\n",
       "      <th>5</th>\n",
       "      <td>Acer_Pictum</td>\n",
       "      <td>['123', '157', '476', '578', '977', '1478']</td>\n",
       "    </tr>\n",
       "    <tr>\n",
       "      <th>6</th>\n",
       "      <td>Acer_Platanoids</td>\n",
       "      <td>['279', '525', '925', '946', '965', '1376']</td>\n",
       "    </tr>\n",
       "    <tr>\n",
       "      <th>7</th>\n",
       "      <td>Acer_Rubrum</td>\n",
       "      <td>['223', '297', '1158', '1241', '1306']</td>\n",
       "    </tr>\n",
       "    <tr>\n",
       "      <th>8</th>\n",
       "      <td>Acer_Rufinerve</td>\n",
       "      <td>['28', '102', '105', '272', '1164']</td>\n",
       "    </tr>\n",
       "    <tr>\n",
       "      <th>9</th>\n",
       "      <td>Acer_Saccharinum</td>\n",
       "      <td>['110', '531', '668', '817', '1075', '1331']</td>\n",
       "    </tr>\n",
       "  </tbody>\n",
       "</table>\n",
       "</div>"
      ],
      "text/plain": [
       "            species                                      image ids\n",
       "0   Acer_Capillipes   ['549', '607', '845', '902', '1430', '1540']\n",
       "1   Acer_Circinatum       ['9', '68', '192', '385', '775', '1576']\n",
       "2         Acer_Mono                         ['791', '950', '1189']\n",
       "3       Acer_Opalus     ['19', '232', '346', '361', '833', '1195']\n",
       "4     Acer_Palmatum  ['94', '159', '1106', '1133', '1453', '1455']\n",
       "5       Acer_Pictum    ['123', '157', '476', '578', '977', '1478']\n",
       "6   Acer_Platanoids    ['279', '525', '925', '946', '965', '1376']\n",
       "7       Acer_Rubrum         ['223', '297', '1158', '1241', '1306']\n",
       "8    Acer_Rufinerve            ['28', '102', '105', '272', '1164']\n",
       "9  Acer_Saccharinum   ['110', '531', '668', '817', '1075', '1331']"
      ]
     },
     "execution_count": 247,
     "metadata": {},
     "output_type": "execute_result"
    }
   ],
   "source": [
    "import csv\n",
    "from collections import defaultdict\n",
    "\n",
    "prediction.to_csv('prediction.csv', index = False)\n",
    "\n",
    "max_values = defaultdict(list)\n",
    "\n",
    "with open(\"prediction.csv\", 'r') as file:\n",
    "    csv_reader = csv.reader(file)\n",
    "    headers = next(csv_reader)\n",
    "\n",
    "    for row in csv_reader:\n",
    "        max_value = max(row[1:], key=float)\n",
    "        max_value_index = row.index(max_value)\n",
    "        species = headers[max_value_index]\n",
    "        column_value = row[0]\n",
    "        \n",
    "        max_values[species].append(column_value)\n",
    "\n",
    "classification = pd.DataFrame(max_values.items(), columns=[\"species\", \"image ids\"])\n",
    "\n",
    "grouped = classification.groupby('species')['image ids'].apply(list).reset_index()\n",
    "sorted_values = grouped.sort_values(by='species')\n",
    "sorted_values['image ids'] = sorted_values['image ids'].apply(lambda x: ', '.join(map(str, x)))\n",
    "\n",
    "sorted_species = sorted_values['species']\n",
    "sorted_image_ids = sorted_values['image ids']\n",
    "classification = pd.DataFrame({'species': sorted_species, 'image ids': sorted_image_ids})\n",
    "\n",
    "classification.to_csv('classification.csv', index = False)\n",
    "\n",
    "classification = pd.read_csv('classification.csv')\n",
    "classification.head(10)"
   ]
  },
  {
   "cell_type": "code",
   "execution_count": null,
   "id": "d0a8db49-9a88-4959-84d2-701b4030e935",
   "metadata": {
    "tags": []
   },
   "outputs": [],
   "source": []
  },
  {
   "cell_type": "code",
   "execution_count": 249,
   "id": "406b7c64-81ae-453b-8821-e4dca9b06ecf",
   "metadata": {
    "tags": []
   },
   "outputs": [
    {
     "data": {
      "text/html": [
       "<h4>Acer_Capillipes:</h4>"
      ],
      "text/plain": [
       "<IPython.core.display.HTML object>"
      ]
     },
     "metadata": {},
     "output_type": "display_data"
    },
    {
     "data": {
      "text/html": [
       "<img src='images/549.jpg' width='50' height='50' style='display:inline-block; margin: 5px;'><img src='images/607.jpg' width='50' height='50' style='display:inline-block; margin: 5px;'><img src='images/845.jpg' width='50' height='50' style='display:inline-block; margin: 5px;'><img src='images/902.jpg' width='50' height='50' style='display:inline-block; margin: 5px;'><img src='images/1430.jpg' width='50' height='50' style='display:inline-block; margin: 5px;'><img src='images/1540.jpg' width='50' height='50' style='display:inline-block; margin: 5px;'>"
      ],
      "text/plain": [
       "<IPython.core.display.HTML object>"
      ]
     },
     "metadata": {},
     "output_type": "display_data"
    },
    {
     "data": {
      "text/html": [
       "<h4>Acer_Circinatum:</h4>"
      ],
      "text/plain": [
       "<IPython.core.display.HTML object>"
      ]
     },
     "metadata": {},
     "output_type": "display_data"
    },
    {
     "data": {
      "text/html": [
       "<img src='images/9.jpg' width='50' height='50' style='display:inline-block; margin: 5px;'><img src='images/68.jpg' width='50' height='50' style='display:inline-block; margin: 5px;'><img src='images/192.jpg' width='50' height='50' style='display:inline-block; margin: 5px;'><img src='images/385.jpg' width='50' height='50' style='display:inline-block; margin: 5px;'><img src='images/775.jpg' width='50' height='50' style='display:inline-block; margin: 5px;'><img src='images/1576.jpg' width='50' height='50' style='display:inline-block; margin: 5px;'>"
      ],
      "text/plain": [
       "<IPython.core.display.HTML object>"
      ]
     },
     "metadata": {},
     "output_type": "display_data"
    },
    {
     "data": {
      "text/html": [
       "<h4>Acer_Mono:</h4>"
      ],
      "text/plain": [
       "<IPython.core.display.HTML object>"
      ]
     },
     "metadata": {},
     "output_type": "display_data"
    },
    {
     "data": {
      "text/html": [
       "<img src='images/791.jpg' width='50' height='50' style='display:inline-block; margin: 5px;'><img src='images/950.jpg' width='50' height='50' style='display:inline-block; margin: 5px;'><img src='images/1189.jpg' width='50' height='50' style='display:inline-block; margin: 5px;'>"
      ],
      "text/plain": [
       "<IPython.core.display.HTML object>"
      ]
     },
     "metadata": {},
     "output_type": "display_data"
    },
    {
     "data": {
      "text/html": [
       "<h4>Acer_Opalus:</h4>"
      ],
      "text/plain": [
       "<IPython.core.display.HTML object>"
      ]
     },
     "metadata": {},
     "output_type": "display_data"
    },
    {
     "data": {
      "text/html": [
       "<img src='images/19.jpg' width='50' height='50' style='display:inline-block; margin: 5px;'><img src='images/232.jpg' width='50' height='50' style='display:inline-block; margin: 5px;'><img src='images/346.jpg' width='50' height='50' style='display:inline-block; margin: 5px;'><img src='images/361.jpg' width='50' height='50' style='display:inline-block; margin: 5px;'><img src='images/833.jpg' width='50' height='50' style='display:inline-block; margin: 5px;'><img src='images/1195.jpg' width='50' height='50' style='display:inline-block; margin: 5px;'>"
      ],
      "text/plain": [
       "<IPython.core.display.HTML object>"
      ]
     },
     "metadata": {},
     "output_type": "display_data"
    },
    {
     "data": {
      "text/html": [
       "<h4>Acer_Palmatum:</h4>"
      ],
      "text/plain": [
       "<IPython.core.display.HTML object>"
      ]
     },
     "metadata": {},
     "output_type": "display_data"
    },
    {
     "data": {
      "text/html": [
       "<img src='images/94.jpg' width='50' height='50' style='display:inline-block; margin: 5px;'><img src='images/159.jpg' width='50' height='50' style='display:inline-block; margin: 5px;'><img src='images/1106.jpg' width='50' height='50' style='display:inline-block; margin: 5px;'><img src='images/1133.jpg' width='50' height='50' style='display:inline-block; margin: 5px;'><img src='images/1453.jpg' width='50' height='50' style='display:inline-block; margin: 5px;'><img src='images/1455.jpg' width='50' height='50' style='display:inline-block; margin: 5px;'>"
      ],
      "text/plain": [
       "<IPython.core.display.HTML object>"
      ]
     },
     "metadata": {},
     "output_type": "display_data"
    },
    {
     "data": {
      "text/html": [
       "<h4>Acer_Pictum:</h4>"
      ],
      "text/plain": [
       "<IPython.core.display.HTML object>"
      ]
     },
     "metadata": {},
     "output_type": "display_data"
    },
    {
     "data": {
      "text/html": [
       "<img src='images/123.jpg' width='50' height='50' style='display:inline-block; margin: 5px;'><img src='images/157.jpg' width='50' height='50' style='display:inline-block; margin: 5px;'><img src='images/476.jpg' width='50' height='50' style='display:inline-block; margin: 5px;'><img src='images/578.jpg' width='50' height='50' style='display:inline-block; margin: 5px;'><img src='images/977.jpg' width='50' height='50' style='display:inline-block; margin: 5px;'><img src='images/1478.jpg' width='50' height='50' style='display:inline-block; margin: 5px;'>"
      ],
      "text/plain": [
       "<IPython.core.display.HTML object>"
      ]
     },
     "metadata": {},
     "output_type": "display_data"
    },
    {
     "data": {
      "text/html": [
       "<h4>Acer_Platanoids:</h4>"
      ],
      "text/plain": [
       "<IPython.core.display.HTML object>"
      ]
     },
     "metadata": {},
     "output_type": "display_data"
    },
    {
     "data": {
      "text/html": [
       "<img src='images/279.jpg' width='50' height='50' style='display:inline-block; margin: 5px;'><img src='images/525.jpg' width='50' height='50' style='display:inline-block; margin: 5px;'><img src='images/925.jpg' width='50' height='50' style='display:inline-block; margin: 5px;'><img src='images/946.jpg' width='50' height='50' style='display:inline-block; margin: 5px;'><img src='images/965.jpg' width='50' height='50' style='display:inline-block; margin: 5px;'><img src='images/1376.jpg' width='50' height='50' style='display:inline-block; margin: 5px;'>"
      ],
      "text/plain": [
       "<IPython.core.display.HTML object>"
      ]
     },
     "metadata": {},
     "output_type": "display_data"
    },
    {
     "data": {
      "text/html": [
       "<h4>Acer_Rubrum:</h4>"
      ],
      "text/plain": [
       "<IPython.core.display.HTML object>"
      ]
     },
     "metadata": {},
     "output_type": "display_data"
    },
    {
     "data": {
      "text/html": [
       "<img src='images/223.jpg' width='50' height='50' style='display:inline-block; margin: 5px;'><img src='images/297.jpg' width='50' height='50' style='display:inline-block; margin: 5px;'><img src='images/1158.jpg' width='50' height='50' style='display:inline-block; margin: 5px;'><img src='images/1241.jpg' width='50' height='50' style='display:inline-block; margin: 5px;'><img src='images/1306.jpg' width='50' height='50' style='display:inline-block; margin: 5px;'>"
      ],
      "text/plain": [
       "<IPython.core.display.HTML object>"
      ]
     },
     "metadata": {},
     "output_type": "display_data"
    },
    {
     "data": {
      "text/html": [
       "<h4>Acer_Rufinerve:</h4>"
      ],
      "text/plain": [
       "<IPython.core.display.HTML object>"
      ]
     },
     "metadata": {},
     "output_type": "display_data"
    },
    {
     "data": {
      "text/html": [
       "<img src='images/28.jpg' width='50' height='50' style='display:inline-block; margin: 5px;'><img src='images/102.jpg' width='50' height='50' style='display:inline-block; margin: 5px;'><img src='images/105.jpg' width='50' height='50' style='display:inline-block; margin: 5px;'><img src='images/272.jpg' width='50' height='50' style='display:inline-block; margin: 5px;'><img src='images/1164.jpg' width='50' height='50' style='display:inline-block; margin: 5px;'>"
      ],
      "text/plain": [
       "<IPython.core.display.HTML object>"
      ]
     },
     "metadata": {},
     "output_type": "display_data"
    },
    {
     "data": {
      "text/html": [
       "<h4>Acer_Saccharinum:</h4>"
      ],
      "text/plain": [
       "<IPython.core.display.HTML object>"
      ]
     },
     "metadata": {},
     "output_type": "display_data"
    },
    {
     "data": {
      "text/html": [
       "<img src='images/110.jpg' width='50' height='50' style='display:inline-block; margin: 5px;'><img src='images/531.jpg' width='50' height='50' style='display:inline-block; margin: 5px;'><img src='images/668.jpg' width='50' height='50' style='display:inline-block; margin: 5px;'><img src='images/817.jpg' width='50' height='50' style='display:inline-block; margin: 5px;'><img src='images/1075.jpg' width='50' height='50' style='display:inline-block; margin: 5px;'><img src='images/1331.jpg' width='50' height='50' style='display:inline-block; margin: 5px;'>"
      ],
      "text/plain": [
       "<IPython.core.display.HTML object>"
      ]
     },
     "metadata": {},
     "output_type": "display_data"
    },
    {
     "data": {
      "text/html": [
       "<h4>Alnus_Cordata:</h4>"
      ],
      "text/plain": [
       "<IPython.core.display.HTML object>"
      ]
     },
     "metadata": {},
     "output_type": "display_data"
    },
    {
     "data": {
      "text/html": [
       "<img src='images/41.jpg' width='50' height='50' style='display:inline-block; margin: 5px;'><img src='images/182.jpg' width='50' height='50' style='display:inline-block; margin: 5px;'><img src='images/442.jpg' width='50' height='50' style='display:inline-block; margin: 5px;'><img src='images/1043.jpg' width='50' height='50' style='display:inline-block; margin: 5px;'><img src='images/1183.jpg' width='50' height='50' style='display:inline-block; margin: 5px;'><img src='images/1343.jpg' width='50' height='50' style='display:inline-block; margin: 5px;'><img src='images/1553.jpg' width='50' height='50' style='display:inline-block; margin: 5px;'>"
      ],
      "text/plain": [
       "<IPython.core.display.HTML object>"
      ]
     },
     "metadata": {},
     "output_type": "display_data"
    },
    {
     "data": {
      "text/html": [
       "<h4>Alnus_Maximowiczii:</h4>"
      ],
      "text/plain": [
       "<IPython.core.display.HTML object>"
      ]
     },
     "metadata": {},
     "output_type": "display_data"
    },
    {
     "data": {
      "text/html": [
       "<img src='images/154.jpg' width='50' height='50' style='display:inline-block; margin: 5px;'><img src='images/441.jpg' width='50' height='50' style='display:inline-block; margin: 5px;'><img src='images/500.jpg' width='50' height='50' style='display:inline-block; margin: 5px;'><img src='images/770.jpg' width='50' height='50' style='display:inline-block; margin: 5px;'><img src='images/1104.jpg' width='50' height='50' style='display:inline-block; margin: 5px;'>"
      ],
      "text/plain": [
       "<IPython.core.display.HTML object>"
      ]
     },
     "metadata": {},
     "output_type": "display_data"
    },
    {
     "data": {
      "text/html": [
       "<h4>Alnus_Rubra:</h4>"
      ],
      "text/plain": [
       "<IPython.core.display.HTML object>"
      ]
     },
     "metadata": {},
     "output_type": "display_data"
    },
    {
     "data": {
      "text/html": [
       "<img src='images/234.jpg' width='50' height='50' style='display:inline-block; margin: 5px;'><img src='images/696.jpg' width='50' height='50' style='display:inline-block; margin: 5px;'><img src='images/941.jpg' width='50' height='50' style='display:inline-block; margin: 5px;'><img src='images/1439.jpg' width='50' height='50' style='display:inline-block; margin: 5px;'><img src='images/1577.jpg' width='50' height='50' style='display:inline-block; margin: 5px;'>"
      ],
      "text/plain": [
       "<IPython.core.display.HTML object>"
      ]
     },
     "metadata": {},
     "output_type": "display_data"
    },
    {
     "data": {
      "text/html": [
       "<h4>Alnus_Sieboldiana:</h4>"
      ],
      "text/plain": [
       "<IPython.core.display.HTML object>"
      ]
     },
     "metadata": {},
     "output_type": "display_data"
    },
    {
     "data": {
      "text/html": [
       "<img src='images/158.jpg' width='50' height='50' style='display:inline-block; margin: 5px;'><img src='images/541.jpg' width='50' height='50' style='display:inline-block; margin: 5px;'><img src='images/1029.jpg' width='50' height='50' style='display:inline-block; margin: 5px;'><img src='images/1429.jpg' width='50' height='50' style='display:inline-block; margin: 5px;'><img src='images/1465.jpg' width='50' height='50' style='display:inline-block; margin: 5px;'>"
      ],
      "text/plain": [
       "<IPython.core.display.HTML object>"
      ]
     },
     "metadata": {},
     "output_type": "display_data"
    },
    {
     "data": {
      "text/html": [
       "<h4>Alnus_Viridis:</h4>"
      ],
      "text/plain": [
       "<IPython.core.display.HTML object>"
      ]
     },
     "metadata": {},
     "output_type": "display_data"
    },
    {
     "data": {
      "text/html": [
       "<img src='images/13.jpg' width='50' height='50' style='display:inline-block; margin: 5px;'><img src='images/96.jpg' width='50' height='50' style='display:inline-block; margin: 5px;'><img src='images/702.jpg' width='50' height='50' style='display:inline-block; margin: 5px;'><img src='images/1063.jpg' width='50' height='50' style='display:inline-block; margin: 5px;'><img src='images/1437.jpg' width='50' height='50' style='display:inline-block; margin: 5px;'><img src='images/1510.jpg' width='50' height='50' style='display:inline-block; margin: 5px;'>"
      ],
      "text/plain": [
       "<IPython.core.display.HTML object>"
      ]
     },
     "metadata": {},
     "output_type": "display_data"
    },
    {
     "data": {
      "text/html": [
       "<h4>Arundinaria_Simonii:</h4>"
      ],
      "text/plain": [
       "<IPython.core.display.HTML object>"
      ]
     },
     "metadata": {},
     "output_type": "display_data"
    },
    {
     "data": {
      "text/html": [
       "<img src='images/77.jpg' width='50' height='50' style='display:inline-block; margin: 5px;'><img src='images/465.jpg' width='50' height='50' style='display:inline-block; margin: 5px;'><img src='images/1050.jpg' width='50' height='50' style='display:inline-block; margin: 5px;'><img src='images/1280.jpg' width='50' height='50' style='display:inline-block; margin: 5px;'><img src='images/1338.jpg' width='50' height='50' style='display:inline-block; margin: 5px;'>"
      ],
      "text/plain": [
       "<IPython.core.display.HTML object>"
      ]
     },
     "metadata": {},
     "output_type": "display_data"
    },
    {
     "data": {
      "text/html": [
       "<h4>Betula_Austrosinensis:</h4>"
      ],
      "text/plain": [
       "<IPython.core.display.HTML object>"
      ]
     },
     "metadata": {},
     "output_type": "display_data"
    },
    {
     "data": {
      "text/html": [
       "<img src='images/764.jpg' width='50' height='50' style='display:inline-block; margin: 5px;'><img src='images/820.jpg' width='50' height='50' style='display:inline-block; margin: 5px;'><img src='images/1364.jpg' width='50' height='50' style='display:inline-block; margin: 5px;'><img src='images/1497.jpg' width='50' height='50' style='display:inline-block; margin: 5px;'>"
      ],
      "text/plain": [
       "<IPython.core.display.HTML object>"
      ]
     },
     "metadata": {},
     "output_type": "display_data"
    },
    {
     "data": {
      "text/html": [
       "<h4>Betula_Pendula:</h4>"
      ],
      "text/plain": [
       "<IPython.core.display.HTML object>"
      ]
     },
     "metadata": {},
     "output_type": "display_data"
    },
    {
     "data": {
      "text/html": [
       "<img src='images/172.jpg' width='50' height='50' style='display:inline-block; margin: 5px;'><img src='images/292.jpg' width='50' height='50' style='display:inline-block; margin: 5px;'><img src='images/653.jpg' width='50' height='50' style='display:inline-block; margin: 5px;'><img src='images/1058.jpg' width='50' height='50' style='display:inline-block; margin: 5px;'><img src='images/1481.jpg' width='50' height='50' style='display:inline-block; margin: 5px;'><img src='images/1534.jpg' width='50' height='50' style='display:inline-block; margin: 5px;'>"
      ],
      "text/plain": [
       "<IPython.core.display.HTML object>"
      ]
     },
     "metadata": {},
     "output_type": "display_data"
    },
    {
     "data": {
      "text/html": [
       "<h4>Callicarpa_Bodinieri:</h4>"
      ],
      "text/plain": [
       "<IPython.core.display.HTML object>"
      ]
     },
     "metadata": {},
     "output_type": "display_data"
    },
    {
     "data": {
      "text/html": [
       "<img src='images/119.jpg' width='50' height='50' style='display:inline-block; margin: 5px;'><img src='images/507.jpg' width='50' height='50' style='display:inline-block; margin: 5px;'><img src='images/604.jpg' width='50' height='50' style='display:inline-block; margin: 5px;'><img src='images/895.jpg' width='50' height='50' style='display:inline-block; margin: 5px;'><img src='images/1321.jpg' width='50' height='50' style='display:inline-block; margin: 5px;'><img src='images/1567.jpg' width='50' height='50' style='display:inline-block; margin: 5px;'>"
      ],
      "text/plain": [
       "<IPython.core.display.HTML object>"
      ]
     },
     "metadata": {},
     "output_type": "display_data"
    },
    {
     "data": {
      "text/html": [
       "<h4>Castanea_Sativa:</h4>"
      ],
      "text/plain": [
       "<IPython.core.display.HTML object>"
      ]
     },
     "metadata": {},
     "output_type": "display_data"
    },
    {
     "data": {
      "text/html": [
       "<img src='images/12.jpg' width='50' height='50' style='display:inline-block; margin: 5px;'><img src='images/889.jpg' width='50' height='50' style='display:inline-block; margin: 5px;'><img src='images/1105.jpg' width='50' height='50' style='display:inline-block; margin: 5px;'><img src='images/1336.jpg' width='50' height='50' style='display:inline-block; margin: 5px;'><img src='images/1368.jpg' width='50' height='50' style='display:inline-block; margin: 5px;'><img src='images/1462.jpg' width='50' height='50' style='display:inline-block; margin: 5px;'>"
      ],
      "text/plain": [
       "<IPython.core.display.HTML object>"
      ]
     },
     "metadata": {},
     "output_type": "display_data"
    },
    {
     "data": {
      "text/html": [
       "<h4>Celtis_Koraiensis:</h4>"
      ],
      "text/plain": [
       "<IPython.core.display.HTML object>"
      ]
     },
     "metadata": {},
     "output_type": "display_data"
    },
    {
     "data": {
      "text/html": [
       "<img src='images/373.jpg' width='50' height='50' style='display:inline-block; margin: 5px;'><img src='images/401.jpg' width='50' height='50' style='display:inline-block; margin: 5px;'><img src='images/715.jpg' width='50' height='50' style='display:inline-block; margin: 5px;'><img src='images/1045.jpg' width='50' height='50' style='display:inline-block; margin: 5px;'><img src='images/1140.jpg' width='50' height='50' style='display:inline-block; margin: 5px;'><img src='images/1542.jpg' width='50' height='50' style='display:inline-block; margin: 5px;'>"
      ],
      "text/plain": [
       "<IPython.core.display.HTML object>"
      ]
     },
     "metadata": {},
     "output_type": "display_data"
    },
    {
     "data": {
      "text/html": [
       "<h4>Cercis_Siliquastrum:</h4>"
      ],
      "text/plain": [
       "<IPython.core.display.HTML object>"
      ]
     },
     "metadata": {},
     "output_type": "display_data"
    },
    {
     "data": {
      "text/html": [
       "<img src='images/147.jpg' width='50' height='50' style='display:inline-block; margin: 5px;'><img src='images/210.jpg' width='50' height='50' style='display:inline-block; margin: 5px;'><img src='images/432.jpg' width='50' height='50' style='display:inline-block; margin: 5px;'><img src='images/439.jpg' width='50' height='50' style='display:inline-block; margin: 5px;'><img src='images/744.jpg' width='50' height='50' style='display:inline-block; margin: 5px;'><img src='images/1260.jpg' width='50' height='50' style='display:inline-block; margin: 5px;'>"
      ],
      "text/plain": [
       "<IPython.core.display.HTML object>"
      ]
     },
     "metadata": {},
     "output_type": "display_data"
    },
    {
     "data": {
      "text/html": [
       "<h4>Cornus_Chinensis:</h4>"
      ],
      "text/plain": [
       "<IPython.core.display.HTML object>"
      ]
     },
     "metadata": {},
     "output_type": "display_data"
    },
    {
     "data": {
      "text/html": [
       "<img src='images/205.jpg' width='50' height='50' style='display:inline-block; margin: 5px;'><img src='images/406.jpg' width='50' height='50' style='display:inline-block; margin: 5px;'><img src='images/457.jpg' width='50' height='50' style='display:inline-block; margin: 5px;'><img src='images/688.jpg' width='50' height='50' style='display:inline-block; margin: 5px;'><img src='images/953.jpg' width='50' height='50' style='display:inline-block; margin: 5px;'><img src='images/1099.jpg' width='50' height='50' style='display:inline-block; margin: 5px;'>"
      ],
      "text/plain": [
       "<IPython.core.display.HTML object>"
      ]
     },
     "metadata": {},
     "output_type": "display_data"
    },
    {
     "data": {
      "text/html": [
       "<h4>Cornus_Controversa:</h4>"
      ],
      "text/plain": [
       "<IPython.core.display.HTML object>"
      ]
     },
     "metadata": {},
     "output_type": "display_data"
    },
    {
     "data": {
      "text/html": [
       "<img src='images/114.jpg' width='50' height='50' style='display:inline-block; margin: 5px;'><img src='images/195.jpg' width='50' height='50' style='display:inline-block; margin: 5px;'><img src='images/300.jpg' width='50' height='50' style='display:inline-block; margin: 5px;'><img src='images/477.jpg' width='50' height='50' style='display:inline-block; margin: 5px;'><img src='images/743.jpg' width='50' height='50' style='display:inline-block; margin: 5px;'><img src='images/1067.jpg' width='50' height='50' style='display:inline-block; margin: 5px;'>"
      ],
      "text/plain": [
       "<IPython.core.display.HTML object>"
      ]
     },
     "metadata": {},
     "output_type": "display_data"
    },
    {
     "data": {
      "text/html": [
       "<h4>Cornus_Macrophylla:</h4>"
      ],
      "text/plain": [
       "<IPython.core.display.HTML object>"
      ]
     },
     "metadata": {},
     "output_type": "display_data"
    },
    {
     "data": {
      "text/html": [
       "<img src='images/191.jpg' width='50' height='50' style='display:inline-block; margin: 5px;'><img src='images/313.jpg' width='50' height='50' style='display:inline-block; margin: 5px;'><img src='images/782.jpg' width='50' height='50' style='display:inline-block; margin: 5px;'><img src='images/1351.jpg' width='50' height='50' style='display:inline-block; margin: 5px;'>"
      ],
      "text/plain": [
       "<IPython.core.display.HTML object>"
      ]
     },
     "metadata": {},
     "output_type": "display_data"
    },
    {
     "data": {
      "text/html": [
       "<h4>Cotinus_Coggygria:</h4>"
      ],
      "text/plain": [
       "<IPython.core.display.HTML object>"
      ]
     },
     "metadata": {},
     "output_type": "display_data"
    },
    {
     "data": {
      "text/html": [
       "<img src='images/181.jpg' width='50' height='50' style='display:inline-block; margin: 5px;'><img src='images/209.jpg' width='50' height='50' style='display:inline-block; margin: 5px;'><img src='images/599.jpg' width='50' height='50' style='display:inline-block; margin: 5px;'><img src='images/705.jpg' width='50' height='50' style='display:inline-block; margin: 5px;'><img src='images/1406.jpg' width='50' height='50' style='display:inline-block; margin: 5px;'><img src='images/1528.jpg' width='50' height='50' style='display:inline-block; margin: 5px;'>"
      ],
      "text/plain": [
       "<IPython.core.display.HTML object>"
      ]
     },
     "metadata": {},
     "output_type": "display_data"
    },
    {
     "data": {
      "text/html": [
       "<h4>Crataegus_Monogyna:</h4>"
      ],
      "text/plain": [
       "<IPython.core.display.HTML object>"
      ]
     },
     "metadata": {},
     "output_type": "display_data"
    },
    {
     "data": {
      "text/html": [
       "<img src='images/52.jpg' width='50' height='50' style='display:inline-block; margin: 5px;'><img src='images/117.jpg' width='50' height='50' style='display:inline-block; margin: 5px;'><img src='images/670.jpg' width='50' height='50' style='display:inline-block; margin: 5px;'><img src='images/687.jpg' width='50' height='50' style='display:inline-block; margin: 5px;'><img src='images/790.jpg' width='50' height='50' style='display:inline-block; margin: 5px;'><img src='images/846.jpg' width='50' height='50' style='display:inline-block; margin: 5px;'><img src='images/945.jpg' width='50' height='50' style='display:inline-block; margin: 5px;'><img src='images/1055.jpg' width='50' height='50' style='display:inline-block; margin: 5px;'><img src='images/1357.jpg' width='50' height='50' style='display:inline-block; margin: 5px;'><img src='images/1493.jpg' width='50' height='50' style='display:inline-block; margin: 5px;'>"
      ],
      "text/plain": [
       "<IPython.core.display.HTML object>"
      ]
     },
     "metadata": {},
     "output_type": "display_data"
    },
    {
     "data": {
      "text/html": [
       "<h4>Cytisus_Battandieri:</h4>"
      ],
      "text/plain": [
       "<IPython.core.display.HTML object>"
      ]
     },
     "metadata": {},
     "output_type": "display_data"
    },
    {
     "data": {
      "text/html": [
       "<img src='images/295.jpg' width='50' height='50' style='display:inline-block; margin: 5px;'><img src='images/453.jpg' width='50' height='50' style='display:inline-block; margin: 5px;'><img src='images/611.jpg' width='50' height='50' style='display:inline-block; margin: 5px;'><img src='images/703.jpg' width='50' height='50' style='display:inline-block; margin: 5px;'><img src='images/1407.jpg' width='50' height='50' style='display:inline-block; margin: 5px;'><img src='images/1573.jpg' width='50' height='50' style='display:inline-block; margin: 5px;'>"
      ],
      "text/plain": [
       "<IPython.core.display.HTML object>"
      ]
     },
     "metadata": {},
     "output_type": "display_data"
    },
    {
     "data": {
      "text/html": [
       "<h4>Eucalyptus_Glaucescens:</h4>"
      ],
      "text/plain": [
       "<IPython.core.display.HTML object>"
      ]
     },
     "metadata": {},
     "output_type": "display_data"
    },
    {
     "data": {
      "text/html": [
       "<img src='images/23.jpg' width='50' height='50' style='display:inline-block; margin: 5px;'><img src='images/74.jpg' width='50' height='50' style='display:inline-block; margin: 5px;'><img src='images/529.jpg' width='50' height='50' style='display:inline-block; margin: 5px;'><img src='images/708.jpg' width='50' height='50' style='display:inline-block; margin: 5px;'><img src='images/1092.jpg' width='50' height='50' style='display:inline-block; margin: 5px;'><img src='images/1400.jpg' width='50' height='50' style='display:inline-block; margin: 5px;'><img src='images/1583.jpg' width='50' height='50' style='display:inline-block; margin: 5px;'>"
      ],
      "text/plain": [
       "<IPython.core.display.HTML object>"
      ]
     },
     "metadata": {},
     "output_type": "display_data"
    },
    {
     "data": {
      "text/html": [
       "<h4>Eucalyptus_Neglecta:</h4>"
      ],
      "text/plain": [
       "<IPython.core.display.HTML object>"
      ]
     },
     "metadata": {},
     "output_type": "display_data"
    },
    {
     "data": {
      "text/html": [
       "<img src='images/170.jpg' width='50' height='50' style='display:inline-block; margin: 5px;'><img src='images/318.jpg' width='50' height='50' style='display:inline-block; margin: 5px;'><img src='images/320.jpg' width='50' height='50' style='display:inline-block; margin: 5px;'><img src='images/434.jpg' width='50' height='50' style='display:inline-block; margin: 5px;'><img src='images/512.jpg' width='50' height='50' style='display:inline-block; margin: 5px;'><img src='images/560.jpg' width='50' height='50' style='display:inline-block; margin: 5px;'><img src='images/602.jpg' width='50' height='50' style='display:inline-block; margin: 5px;'><img src='images/683.jpg' width='50' height='50' style='display:inline-block; margin: 5px;'>"
      ],
      "text/plain": [
       "<IPython.core.display.HTML object>"
      ]
     },
     "metadata": {},
     "output_type": "display_data"
    },
    {
     "data": {
      "text/html": [
       "<h4>Eucalyptus_Urnigera:</h4>"
      ],
      "text/plain": [
       "<IPython.core.display.HTML object>"
      ]
     },
     "metadata": {},
     "output_type": "display_data"
    },
    {
     "data": {
      "text/html": [
       "<img src='images/627.jpg' width='50' height='50' style='display:inline-block; margin: 5px;'><img src='images/1009.jpg' width='50' height='50' style='display:inline-block; margin: 5px;'><img src='images/1071.jpg' width='50' height='50' style='display:inline-block; margin: 5px;'><img src='images/1458.jpg' width='50' height='50' style='display:inline-block; margin: 5px;'>"
      ],
      "text/plain": [
       "<IPython.core.display.HTML object>"
      ]
     },
     "metadata": {},
     "output_type": "display_data"
    },
    {
     "data": {
      "text/html": [
       "<h4>Fagus_Sylvatica:</h4>"
      ],
      "text/plain": [
       "<IPython.core.display.HTML object>"
      ]
     },
     "metadata": {},
     "output_type": "display_data"
    },
    {
     "data": {
      "text/html": [
       "<img src='images/305.jpg' width='50' height='50' style='display:inline-block; margin: 5px;'>"
      ],
      "text/plain": [
       "<IPython.core.display.HTML object>"
      ]
     },
     "metadata": {},
     "output_type": "display_data"
    },
    {
     "data": {
      "text/html": [
       "<h4>Ginkgo_Biloba:</h4>"
      ],
      "text/plain": [
       "<IPython.core.display.HTML object>"
      ]
     },
     "metadata": {},
     "output_type": "display_data"
    },
    {
     "data": {
      "text/html": [
       "<img src='images/557.jpg' width='50' height='50' style='display:inline-block; margin: 5px;'><img src='images/625.jpg' width='50' height='50' style='display:inline-block; margin: 5px;'><img src='images/1115.jpg' width='50' height='50' style='display:inline-block; margin: 5px;'><img src='images/1486.jpg' width='50' height='50' style='display:inline-block; margin: 5px;'>"
      ],
      "text/plain": [
       "<IPython.core.display.HTML object>"
      ]
     },
     "metadata": {},
     "output_type": "display_data"
    },
    {
     "data": {
      "text/html": [
       "<h4>Ilex_Aquifolium:</h4>"
      ],
      "text/plain": [
       "<IPython.core.display.HTML object>"
      ]
     },
     "metadata": {},
     "output_type": "display_data"
    },
    {
     "data": {
      "text/html": [
       "<img src='images/136.jpg' width='50' height='50' style='display:inline-block; margin: 5px;'><img src='images/751.jpg' width='50' height='50' style='display:inline-block; margin: 5px;'><img src='images/903.jpg' width='50' height='50' style='display:inline-block; margin: 5px;'><img src='images/986.jpg' width='50' height='50' style='display:inline-block; margin: 5px;'><img src='images/1053.jpg' width='50' height='50' style='display:inline-block; margin: 5px;'><img src='images/1445.jpg' width='50' height='50' style='display:inline-block; margin: 5px;'>"
      ],
      "text/plain": [
       "<IPython.core.display.HTML object>"
      ]
     },
     "metadata": {},
     "output_type": "display_data"
    },
    {
     "data": {
      "text/html": [
       "<h4>Ilex_Cornuta:</h4>"
      ],
      "text/plain": [
       "<IPython.core.display.HTML object>"
      ]
     },
     "metadata": {},
     "output_type": "display_data"
    },
    {
     "data": {
      "text/html": [
       "<img src='images/98.jpg' width='50' height='50' style='display:inline-block; margin: 5px;'><img src='images/271.jpg' width='50' height='50' style='display:inline-block; margin: 5px;'><img src='images/285.jpg' width='50' height='50' style='display:inline-block; margin: 5px;'><img src='images/640.jpg' width='50' height='50' style='display:inline-block; margin: 5px;'><img src='images/1068.jpg' width='50' height='50' style='display:inline-block; margin: 5px;'><img src='images/1091.jpg' width='50' height='50' style='display:inline-block; margin: 5px;'><img src='images/1143.jpg' width='50' height='50' style='display:inline-block; margin: 5px;'><img src='images/1433.jpg' width='50' height='50' style='display:inline-block; margin: 5px;'>"
      ],
      "text/plain": [
       "<IPython.core.display.HTML object>"
      ]
     },
     "metadata": {},
     "output_type": "display_data"
    },
    {
     "data": {
      "text/html": [
       "<h4>Liquidambar_Styraciflua:</h4>"
      ],
      "text/plain": [
       "<IPython.core.display.HTML object>"
      ]
     },
     "metadata": {},
     "output_type": "display_data"
    },
    {
     "data": {
      "text/html": [
       "<img src='images/79.jpg' width='50' height='50' style='display:inline-block; margin: 5px;'><img src='images/381.jpg' width='50' height='50' style='display:inline-block; margin: 5px;'><img src='images/544.jpg' width='50' height='50' style='display:inline-block; margin: 5px;'><img src='images/834.jpg' width='50' height='50' style='display:inline-block; margin: 5px;'><img src='images/957.jpg' width='50' height='50' style='display:inline-block; margin: 5px;'><img src='images/1060.jpg' width='50' height='50' style='display:inline-block; margin: 5px;'><img src='images/1318.jpg' width='50' height='50' style='display:inline-block; margin: 5px;'>"
      ],
      "text/plain": [
       "<IPython.core.display.HTML object>"
      ]
     },
     "metadata": {},
     "output_type": "display_data"
    },
    {
     "data": {
      "text/html": [
       "<h4>Liriodendron_Tulipifera:</h4>"
      ],
      "text/plain": [
       "<IPython.core.display.HTML object>"
      ]
     },
     "metadata": {},
     "output_type": "display_data"
    },
    {
     "data": {
      "text/html": [
       "<img src='images/95.jpg' width='50' height='50' style='display:inline-block; margin: 5px;'><img src='images/495.jpg' width='50' height='50' style='display:inline-block; margin: 5px;'><img src='images/594.jpg' width='50' height='50' style='display:inline-block; margin: 5px;'><img src='images/690.jpg' width='50' height='50' style='display:inline-block; margin: 5px;'><img src='images/701.jpg' width='50' height='50' style='display:inline-block; margin: 5px;'><img src='images/1074.jpg' width='50' height='50' style='display:inline-block; margin: 5px;'><img src='images/1122.jpg' width='50' height='50' style='display:inline-block; margin: 5px;'>"
      ],
      "text/plain": [
       "<IPython.core.display.HTML object>"
      ]
     },
     "metadata": {},
     "output_type": "display_data"
    },
    {
     "data": {
      "text/html": [
       "<h4>Lithocarpus_Cleistocarpus:</h4>"
      ],
      "text/plain": [
       "<IPython.core.display.HTML object>"
      ]
     },
     "metadata": {},
     "output_type": "display_data"
    },
    {
     "data": {
      "text/html": [
       "<img src='images/213.jpg' width='50' height='50' style='display:inline-block; margin: 5px;'><img src='images/1162.jpg' width='50' height='50' style='display:inline-block; margin: 5px;'><img src='images/1535.jpg' width='50' height='50' style='display:inline-block; margin: 5px;'>"
      ],
      "text/plain": [
       "<IPython.core.display.HTML object>"
      ]
     },
     "metadata": {},
     "output_type": "display_data"
    },
    {
     "data": {
      "text/html": [
       "<h4>Lithocarpus_Edulis:</h4>"
      ],
      "text/plain": [
       "<IPython.core.display.HTML object>"
      ]
     },
     "metadata": {},
     "output_type": "display_data"
    },
    {
     "data": {
      "text/html": [
       "<img src='images/113.jpg' width='50' height='50' style='display:inline-block; margin: 5px;'><img src='images/395.jpg' width='50' height='50' style='display:inline-block; margin: 5px;'><img src='images/577.jpg' width='50' height='50' style='display:inline-block; margin: 5px;'><img src='images/829.jpg' width='50' height='50' style='display:inline-block; margin: 5px;'><img src='images/872.jpg' width='50' height='50' style='display:inline-block; margin: 5px;'>"
      ],
      "text/plain": [
       "<IPython.core.display.HTML object>"
      ]
     },
     "metadata": {},
     "output_type": "display_data"
    },
    {
     "data": {
      "text/html": [
       "<h4>Magnolia_Heptapeta:</h4>"
      ],
      "text/plain": [
       "<IPython.core.display.HTML object>"
      ]
     },
     "metadata": {},
     "output_type": "display_data"
    },
    {
     "data": {
      "text/html": [
       "<img src='images/200.jpg' width='50' height='50' style='display:inline-block; margin: 5px;'><img src='images/299.jpg' width='50' height='50' style='display:inline-block; margin: 5px;'><img src='images/781.jpg' width='50' height='50' style='display:inline-block; margin: 5px;'><img src='images/909.jpg' width='50' height='50' style='display:inline-block; margin: 5px;'><img src='images/982.jpg' width='50' height='50' style='display:inline-block; margin: 5px;'><img src='images/1111.jpg' width='50' height='50' style='display:inline-block; margin: 5px;'><img src='images/1141.jpg' width='50' height='50' style='display:inline-block; margin: 5px;'><img src='images/1146.jpg' width='50' height='50' style='display:inline-block; margin: 5px;'><img src='images/1227.jpg' width='50' height='50' style='display:inline-block; margin: 5px;'><img src='images/1362.jpg' width='50' height='50' style='display:inline-block; margin: 5px;'><img src='images/1503.jpg' width='50' height='50' style='display:inline-block; margin: 5px;'>"
      ],
      "text/plain": [
       "<IPython.core.display.HTML object>"
      ]
     },
     "metadata": {},
     "output_type": "display_data"
    },
    {
     "data": {
      "text/html": [
       "<h4>Magnolia_Salicifolia:</h4>"
      ],
      "text/plain": [
       "<IPython.core.display.HTML object>"
      ]
     },
     "metadata": {},
     "output_type": "display_data"
    },
    {
     "data": {
      "text/html": [
       "<img src='images/284.jpg' width='50' height='50' style='display:inline-block; margin: 5px;'><img src='images/480.jpg' width='50' height='50' style='display:inline-block; margin: 5px;'><img src='images/639.jpg' width='50' height='50' style='display:inline-block; margin: 5px;'><img src='images/1489.jpg' width='50' height='50' style='display:inline-block; margin: 5px;'><img src='images/1560.jpg' width='50' height='50' style='display:inline-block; margin: 5px;'>"
      ],
      "text/plain": [
       "<IPython.core.display.HTML object>"
      ]
     },
     "metadata": {},
     "output_type": "display_data"
    },
    {
     "data": {
      "text/html": [
       "<h4>Morus_Nigra:</h4>"
      ],
      "text/plain": [
       "<IPython.core.display.HTML object>"
      ]
     },
     "metadata": {},
     "output_type": "display_data"
    },
    {
     "data": {
      "text/html": [
       "<img src='images/221.jpg' width='50' height='50' style='display:inline-block; margin: 5px;'><img src='images/308.jpg' width='50' height='50' style='display:inline-block; margin: 5px;'><img src='images/679.jpg' width='50' height='50' style='display:inline-block; margin: 5px;'><img src='images/1126.jpg' width='50' height='50' style='display:inline-block; margin: 5px;'><img src='images/1188.jpg' width='50' height='50' style='display:inline-block; margin: 5px;'><img src='images/1192.jpg' width='50' height='50' style='display:inline-block; margin: 5px;'><img src='images/1434.jpg' width='50' height='50' style='display:inline-block; margin: 5px;'>"
      ],
      "text/plain": [
       "<IPython.core.display.HTML object>"
      ]
     },
     "metadata": {},
     "output_type": "display_data"
    },
    {
     "data": {
      "text/html": [
       "<h4>Olea_Europaea:</h4>"
      ],
      "text/plain": [
       "<IPython.core.display.HTML object>"
      ]
     },
     "metadata": {},
     "output_type": "display_data"
    },
    {
     "data": {
      "text/html": [
       "<img src='images/343.jpg' width='50' height='50' style='display:inline-block; margin: 5px;'><img src='images/368.jpg' width='50' height='50' style='display:inline-block; margin: 5px;'><img src='images/786.jpg' width='50' height='50' style='display:inline-block; margin: 5px;'><img src='images/922.jpg' width='50' height='50' style='display:inline-block; margin: 5px;'><img src='images/1383.jpg' width='50' height='50' style='display:inline-block; margin: 5px;'>"
      ],
      "text/plain": [
       "<IPython.core.display.HTML object>"
      ]
     },
     "metadata": {},
     "output_type": "display_data"
    },
    {
     "data": {
      "text/html": [
       "<h4>Phildelphus:</h4>"
      ],
      "text/plain": [
       "<IPython.core.display.HTML object>"
      ]
     },
     "metadata": {},
     "output_type": "display_data"
    },
    {
     "data": {
      "text/html": [
       "<img src='images/33.jpg' width='50' height='50' style='display:inline-block; margin: 5px;'><img src='images/399.jpg' width='50' height='50' style='display:inline-block; margin: 5px;'><img src='images/474.jpg' width='50' height='50' style='display:inline-block; margin: 5px;'><img src='images/964.jpg' width='50' height='50' style='display:inline-block; margin: 5px;'><img src='images/984.jpg' width='50' height='50' style='display:inline-block; margin: 5px;'>"
      ],
      "text/plain": [
       "<IPython.core.display.HTML object>"
      ]
     },
     "metadata": {},
     "output_type": "display_data"
    },
    {
     "data": {
      "text/html": [
       "<h4>Populus_Adenopoda:</h4>"
      ],
      "text/plain": [
       "<IPython.core.display.HTML object>"
      ]
     },
     "metadata": {},
     "output_type": "display_data"
    },
    {
     "data": {
      "text/html": [
       "<img src='images/536.jpg' width='50' height='50' style='display:inline-block; margin: 5px;'><img src='images/575.jpg' width='50' height='50' style='display:inline-block; margin: 5px;'><img src='images/617.jpg' width='50' height='50' style='display:inline-block; margin: 5px;'><img src='images/735.jpg' width='50' height='50' style='display:inline-block; margin: 5px;'><img src='images/1057.jpg' width='50' height='50' style='display:inline-block; margin: 5px;'><img src='images/1069.jpg' width='50' height='50' style='display:inline-block; margin: 5px;'>"
      ],
      "text/plain": [
       "<IPython.core.display.HTML object>"
      ]
     },
     "metadata": {},
     "output_type": "display_data"
    },
    {
     "data": {
      "text/html": [
       "<h4>Populus_Grandidentata:</h4>"
      ],
      "text/plain": [
       "<IPython.core.display.HTML object>"
      ]
     },
     "metadata": {},
     "output_type": "display_data"
    },
    {
     "data": {
      "text/html": [
       "<img src='images/47.jpg' width='50' height='50' style='display:inline-block; margin: 5px;'><img src='images/471.jpg' width='50' height='50' style='display:inline-block; margin: 5px;'><img src='images/527.jpg' width='50' height='50' style='display:inline-block; margin: 5px;'><img src='images/998.jpg' width='50' height='50' style='display:inline-block; margin: 5px;'><img src='images/1224.jpg' width='50' height='50' style='display:inline-block; margin: 5px;'><img src='images/1369.jpg' width='50' height='50' style='display:inline-block; margin: 5px;'>"
      ],
      "text/plain": [
       "<IPython.core.display.HTML object>"
      ]
     },
     "metadata": {},
     "output_type": "display_data"
    },
    {
     "data": {
      "text/html": [
       "<h4>Populus_Nigra:</h4>"
      ],
      "text/plain": [
       "<IPython.core.display.HTML object>"
      ]
     },
     "metadata": {},
     "output_type": "display_data"
    },
    {
     "data": {
      "text/html": [
       "<img src='images/197.jpg' width='50' height='50' style='display:inline-block; margin: 5px;'><img src='images/403.jpg' width='50' height='50' style='display:inline-block; margin: 5px;'><img src='images/888.jpg' width='50' height='50' style='display:inline-block; margin: 5px;'><img src='images/890.jpg' width='50' height='50' style='display:inline-block; margin: 5px;'><img src='images/1079.jpg' width='50' height='50' style='display:inline-block; margin: 5px;'><img src='images/1295.jpg' width='50' height='50' style='display:inline-block; margin: 5px;'><img src='images/1451.jpg' width='50' height='50' style='display:inline-block; margin: 5px;'><img src='images/1526.jpg' width='50' height='50' style='display:inline-block; margin: 5px;'>"
      ],
      "text/plain": [
       "<IPython.core.display.HTML object>"
      ]
     },
     "metadata": {},
     "output_type": "display_data"
    },
    {
     "data": {
      "text/html": [
       "<h4>Prunus_Avium:</h4>"
      ],
      "text/plain": [
       "<IPython.core.display.HTML object>"
      ]
     },
     "metadata": {},
     "output_type": "display_data"
    },
    {
     "data": {
      "text/html": [
       "<img src='images/91.jpg' width='50' height='50' style='display:inline-block; margin: 5px;'><img src='images/1137.jpg' width='50' height='50' style='display:inline-block; margin: 5px;'><img src='images/1203.jpg' width='50' height='50' style='display:inline-block; margin: 5px;'><img src='images/1389.jpg' width='50' height='50' style='display:inline-block; margin: 5px;'><img src='images/1404.jpg' width='50' height='50' style='display:inline-block; margin: 5px;'><img src='images/1456.jpg' width='50' height='50' style='display:inline-block; margin: 5px;'>"
      ],
      "text/plain": [
       "<IPython.core.display.HTML object>"
      ]
     },
     "metadata": {},
     "output_type": "display_data"
    },
    {
     "data": {
      "text/html": [
       "<h4>Prunus_X_Shmittii:</h4>"
      ],
      "text/plain": [
       "<IPython.core.display.HTML object>"
      ]
     },
     "metadata": {},
     "output_type": "display_data"
    },
    {
     "data": {
      "text/html": [
       "<img src='images/156.jpg' width='50' height='50' style='display:inline-block; margin: 5px;'><img src='images/207.jpg' width='50' height='50' style='display:inline-block; margin: 5px;'><img src='images/648.jpg' width='50' height='50' style='display:inline-block; margin: 5px;'><img src='images/921.jpg' width='50' height='50' style='display:inline-block; margin: 5px;'><img src='images/1044.jpg' width='50' height='50' style='display:inline-block; margin: 5px;'><img src='images/1190.jpg' width='50' height='50' style='display:inline-block; margin: 5px;'><img src='images/1361.jpg' width='50' height='50' style='display:inline-block; margin: 5px;'>"
      ],
      "text/plain": [
       "<IPython.core.display.HTML object>"
      ]
     },
     "metadata": {},
     "output_type": "display_data"
    },
    {
     "data": {
      "text/html": [
       "<h4>Pterocarya_Stenoptera:</h4>"
      ],
      "text/plain": [
       "<IPython.core.display.HTML object>"
      ]
     },
     "metadata": {},
     "output_type": "display_data"
    },
    {
     "data": {
      "text/html": [
       "<img src='images/121.jpg' width='50' height='50' style='display:inline-block; margin: 5px;'><img src='images/226.jpg' width='50' height='50' style='display:inline-block; margin: 5px;'><img src='images/483.jpg' width='50' height='50' style='display:inline-block; margin: 5px;'><img src='images/580.jpg' width='50' height='50' style='display:inline-block; margin: 5px;'><img src='images/905.jpg' width='50' height='50' style='display:inline-block; margin: 5px;'><img src='images/1054.jpg' width='50' height='50' style='display:inline-block; margin: 5px;'><img src='images/1199.jpg' width='50' height='50' style='display:inline-block; margin: 5px;'>"
      ],
      "text/plain": [
       "<IPython.core.display.HTML object>"
      ]
     },
     "metadata": {},
     "output_type": "display_data"
    },
    {
     "data": {
      "text/html": [
       "<h4>Quercus_Afares:</h4>"
      ],
      "text/plain": [
       "<IPython.core.display.HTML object>"
      ]
     },
     "metadata": {},
     "output_type": "display_data"
    },
    {
     "data": {
      "text/html": [
       "<img src='images/7.jpg' width='50' height='50' style='display:inline-block; margin: 5px;'><img src='images/93.jpg' width='50' height='50' style='display:inline-block; margin: 5px;'><img src='images/347.jpg' width='50' height='50' style='display:inline-block; margin: 5px;'><img src='images/819.jpg' width='50' height='50' style='display:inline-block; margin: 5px;'><img src='images/988.jpg' width='50' height='50' style='display:inline-block; margin: 5px;'><img src='images/1084.jpg' width='50' height='50' style='display:inline-block; margin: 5px;'><img src='images/1382.jpg' width='50' height='50' style='display:inline-block; margin: 5px;'><img src='images/1533.jpg' width='50' height='50' style='display:inline-block; margin: 5px;'>"
      ],
      "text/plain": [
       "<IPython.core.display.HTML object>"
      ]
     },
     "metadata": {},
     "output_type": "display_data"
    },
    {
     "data": {
      "text/html": [
       "<h4>Quercus_Agrifolia:</h4>"
      ],
      "text/plain": [
       "<IPython.core.display.HTML object>"
      ]
     },
     "metadata": {},
     "output_type": "display_data"
    },
    {
     "data": {
      "text/html": [
       "<img src='images/4.jpg' width='50' height='50' style='display:inline-block; margin: 5px;'><img src='images/137.jpg' width='50' height='50' style='display:inline-block; margin: 5px;'><img src='images/296.jpg' width='50' height='50' style='display:inline-block; margin: 5px;'><img src='images/750.jpg' width='50' height='50' style='display:inline-block; margin: 5px;'><img src='images/1108.jpg' width='50' height='50' style='display:inline-block; margin: 5px;'>"
      ],
      "text/plain": [
       "<IPython.core.display.HTML object>"
      ]
     },
     "metadata": {},
     "output_type": "display_data"
    },
    {
     "data": {
      "text/html": [
       "<h4>Quercus_Alnifolia:</h4>"
      ],
      "text/plain": [
       "<IPython.core.display.HTML object>"
      ]
     },
     "metadata": {},
     "output_type": "display_data"
    },
    {
     "data": {
      "text/html": [
       "<img src='images/44.jpg' width='50' height='50' style='display:inline-block; margin: 5px;'><img src='images/353.jpg' width='50' height='50' style='display:inline-block; margin: 5px;'><img src='images/780.jpg' width='50' height='50' style='display:inline-block; margin: 5px;'><img src='images/783.jpg' width='50' height='50' style='display:inline-block; margin: 5px;'><img src='images/1193.jpg' width='50' height='50' style='display:inline-block; margin: 5px;'><img src='images/1207.jpg' width='50' height='50' style='display:inline-block; margin: 5px;'><img src='images/1274.jpg' width='50' height='50' style='display:inline-block; margin: 5px;'>"
      ],
      "text/plain": [
       "<IPython.core.display.HTML object>"
      ]
     },
     "metadata": {},
     "output_type": "display_data"
    },
    {
     "data": {
      "text/html": [
       "<h4>Quercus_Brantii:</h4>"
      ],
      "text/plain": [
       "<IPython.core.display.HTML object>"
      ]
     },
     "metadata": {},
     "output_type": "display_data"
    },
    {
     "data": {
      "text/html": [
       "<img src='images/89.jpg' width='50' height='50' style='display:inline-block; margin: 5px;'><img src='images/250.jpg' width='50' height='50' style='display:inline-block; margin: 5px;'><img src='images/659.jpg' width='50' height='50' style='display:inline-block; margin: 5px;'><img src='images/1485.jpg' width='50' height='50' style='display:inline-block; margin: 5px;'><img src='images/1522.jpg' width='50' height='50' style='display:inline-block; margin: 5px;'><img src='images/1565.jpg' width='50' height='50' style='display:inline-block; margin: 5px;'>"
      ],
      "text/plain": [
       "<IPython.core.display.HTML object>"
      ]
     },
     "metadata": {},
     "output_type": "display_data"
    },
    {
     "data": {
      "text/html": [
       "<h4>Quercus_Canariensis:</h4>"
      ],
      "text/plain": [
       "<IPython.core.display.HTML object>"
      ]
     },
     "metadata": {},
     "output_type": "display_data"
    },
    {
     "data": {
      "text/html": [
       "<img src='images/59.jpg' width='50' height='50' style='display:inline-block; margin: 5px;'><img src='images/138.jpg' width='50' height='50' style='display:inline-block; margin: 5px;'><img src='images/161.jpg' width='50' height='50' style='display:inline-block; margin: 5px;'><img src='images/473.jpg' width='50' height='50' style='display:inline-block; margin: 5px;'><img src='images/719.jpg' width='50' height='50' style='display:inline-block; margin: 5px;'><img src='images/1332.jpg' width='50' height='50' style='display:inline-block; margin: 5px;'><img src='images/1546.jpg' width='50' height='50' style='display:inline-block; margin: 5px;'><img src='images/1579.jpg' width='50' height='50' style='display:inline-block; margin: 5px;'>"
      ],
      "text/plain": [
       "<IPython.core.display.HTML object>"
      ]
     },
     "metadata": {},
     "output_type": "display_data"
    },
    {
     "data": {
      "text/html": [
       "<h4>Quercus_Castaneifolia:</h4>"
      ],
      "text/plain": [
       "<IPython.core.display.HTML object>"
      ]
     },
     "metadata": {},
     "output_type": "display_data"
    },
    {
     "data": {
      "text/html": [
       "<img src='images/125.jpg' width='50' height='50' style='display:inline-block; margin: 5px;'><img src='images/1026.jpg' width='50' height='50' style='display:inline-block; margin: 5px;'><img src='images/1064.jpg' width='50' height='50' style='display:inline-block; margin: 5px;'>"
      ],
      "text/plain": [
       "<IPython.core.display.HTML object>"
      ]
     },
     "metadata": {},
     "output_type": "display_data"
    },
    {
     "data": {
      "text/html": [
       "<h4>Quercus_Cerris:</h4>"
      ],
      "text/plain": [
       "<IPython.core.display.HTML object>"
      ]
     },
     "metadata": {},
     "output_type": "display_data"
    },
    {
     "data": {
      "text/html": [
       "<img src='images/144.jpg' width='50' height='50' style='display:inline-block; margin: 5px;'><img src='images/220.jpg' width='50' height='50' style='display:inline-block; margin: 5px;'><img src='images/391.jpg' width='50' height='50' style='display:inline-block; margin: 5px;'><img src='images/658.jpg' width='50' height='50' style='display:inline-block; margin: 5px;'><img src='images/991.jpg' width='50' height='50' style='display:inline-block; margin: 5px;'><img src='images/1035.jpg' width='50' height='50' style='display:inline-block; margin: 5px;'><img src='images/1038.jpg' width='50' height='50' style='display:inline-block; margin: 5px;'><img src='images/1149.jpg' width='50' height='50' style='display:inline-block; margin: 5px;'><img src='images/1259.jpg' width='50' height='50' style='display:inline-block; margin: 5px;'>"
      ],
      "text/plain": [
       "<IPython.core.display.HTML object>"
      ]
     },
     "metadata": {},
     "output_type": "display_data"
    },
    {
     "data": {
      "text/html": [
       "<h4>Quercus_Chrysolepis:</h4>"
      ],
      "text/plain": [
       "<IPython.core.display.HTML object>"
      ]
     },
     "metadata": {},
     "output_type": "display_data"
    },
    {
     "data": {
      "text/html": [
       "<img src='images/62.jpg' width='50' height='50' style='display:inline-block; margin: 5px;'><img src='images/162.jpg' width='50' height='50' style='display:inline-block; margin: 5px;'><img src='images/281.jpg' width='50' height='50' style='display:inline-block; margin: 5px;'><img src='images/1293.jpg' width='50' height='50' style='display:inline-block; margin: 5px;'><img src='images/1314.jpg' width='50' height='50' style='display:inline-block; margin: 5px;'>"
      ],
      "text/plain": [
       "<IPython.core.display.HTML object>"
      ]
     },
     "metadata": {},
     "output_type": "display_data"
    },
    {
     "data": {
      "text/html": [
       "<h4>Quercus_Coccifera:</h4>"
      ],
      "text/plain": [
       "<IPython.core.display.HTML object>"
      ]
     },
     "metadata": {},
     "output_type": "display_data"
    },
    {
     "data": {
      "text/html": [
       "<img src='images/185.jpg' width='50' height='50' style='display:inline-block; margin: 5px;'><img src='images/447.jpg' width='50' height='50' style='display:inline-block; margin: 5px;'><img src='images/587.jpg' width='50' height='50' style='display:inline-block; margin: 5px;'><img src='images/843.jpg' width='50' height='50' style='display:inline-block; margin: 5px;'><img src='images/1303.jpg' width='50' height='50' style='display:inline-block; margin: 5px;'><img src='images/1409.jpg' width='50' height='50' style='display:inline-block; margin: 5px;'><img src='images/1464.jpg' width='50' height='50' style='display:inline-block; margin: 5px;'>"
      ],
      "text/plain": [
       "<IPython.core.display.HTML object>"
      ]
     },
     "metadata": {},
     "output_type": "display_data"
    },
    {
     "data": {
      "text/html": [
       "<h4>Quercus_Coccinea:</h4>"
      ],
      "text/plain": [
       "<IPython.core.display.HTML object>"
      ]
     },
     "metadata": {},
     "output_type": "display_data"
    },
    {
     "data": {
      "text/html": [
       "<img src='images/150.jpg' width='50' height='50' style='display:inline-block; margin: 5px;'><img src='images/378.jpg' width='50' height='50' style='display:inline-block; margin: 5px;'><img src='images/546.jpg' width='50' height='50' style='display:inline-block; margin: 5px;'><img src='images/842.jpg' width='50' height='50' style='display:inline-block; margin: 5px;'><img src='images/1008.jpg' width='50' height='50' style='display:inline-block; margin: 5px;'><img src='images/1212.jpg' width='50' height='50' style='display:inline-block; margin: 5px;'><img src='images/1272.jpg' width='50' height='50' style='display:inline-block; margin: 5px;'>"
      ],
      "text/plain": [
       "<IPython.core.display.HTML object>"
      ]
     },
     "metadata": {},
     "output_type": "display_data"
    },
    {
     "data": {
      "text/html": [
       "<h4>Quercus_Crassifolia:</h4>"
      ],
      "text/plain": [
       "<IPython.core.display.HTML object>"
      ]
     },
     "metadata": {},
     "output_type": "display_data"
    },
    {
     "data": {
      "text/html": [
       "<img src='images/46.jpg' width='50' height='50' style='display:inline-block; margin: 5px;'><img src='images/276.jpg' width='50' height='50' style='display:inline-block; margin: 5px;'><img src='images/287.jpg' width='50' height='50' style='display:inline-block; margin: 5px;'><img src='images/352.jpg' width='50' height='50' style='display:inline-block; margin: 5px;'><img src='images/402.jpg' width='50' height='50' style='display:inline-block; margin: 5px;'><img src='images/579.jpg' width='50' height='50' style='display:inline-block; margin: 5px;'><img src='images/836.jpg' width='50' height='50' style='display:inline-block; margin: 5px;'>"
      ],
      "text/plain": [
       "<IPython.core.display.HTML object>"
      ]
     },
     "metadata": {},
     "output_type": "display_data"
    },
    {
     "data": {
      "text/html": [
       "<h4>Quercus_Crassipes:</h4>"
      ],
      "text/plain": [
       "<IPython.core.display.HTML object>"
      ]
     },
     "metadata": {},
     "output_type": "display_data"
    },
    {
     "data": {
      "text/html": [
       "<img src='images/57.jpg' width='50' height='50' style='display:inline-block; margin: 5px;'><img src='images/184.jpg' width='50' height='50' style='display:inline-block; margin: 5px;'><img src='images/312.jpg' width='50' height='50' style='display:inline-block; margin: 5px;'><img src='images/980.jpg' width='50' height='50' style='display:inline-block; margin: 5px;'><img src='images/1082.jpg' width='50' height='50' style='display:inline-block; margin: 5px;'><img src='images/1261.jpg' width='50' height='50' style='display:inline-block; margin: 5px;'>"
      ],
      "text/plain": [
       "<IPython.core.display.HTML object>"
      ]
     },
     "metadata": {},
     "output_type": "display_data"
    },
    {
     "data": {
      "text/html": [
       "<h4>Quercus_Dolicholepis:</h4>"
      ],
      "text/plain": [
       "<IPython.core.display.HTML object>"
      ]
     },
     "metadata": {},
     "output_type": "display_data"
    },
    {
     "data": {
      "text/html": [
       "<img src='images/351.jpg' width='50' height='50' style='display:inline-block; margin: 5px;'><img src='images/857.jpg' width='50' height='50' style='display:inline-block; margin: 5px;'><img src='images/1181.jpg' width='50' height='50' style='display:inline-block; margin: 5px;'><img src='images/1266.jpg' width='50' height='50' style='display:inline-block; margin: 5px;'>"
      ],
      "text/plain": [
       "<IPython.core.display.HTML object>"
      ]
     },
     "metadata": {},
     "output_type": "display_data"
    },
    {
     "data": {
      "text/html": [
       "<h4>Quercus_Ellipsoidalis:</h4>"
      ],
      "text/plain": [
       "<IPython.core.display.HTML object>"
      ]
     },
     "metadata": {},
     "output_type": "display_data"
    },
    {
     "data": {
      "text/html": [
       "<img src='images/686.jpg' width='50' height='50' style='display:inline-block; margin: 5px;'><img src='images/691.jpg' width='50' height='50' style='display:inline-block; margin: 5px;'><img src='images/818.jpg' width='50' height='50' style='display:inline-block; margin: 5px;'><img src='images/1215.jpg' width='50' height='50' style='display:inline-block; margin: 5px;'><img src='images/1252.jpg' width='50' height='50' style='display:inline-block; margin: 5px;'><img src='images/1418.jpg' width='50' height='50' style='display:inline-block; margin: 5px;'>"
      ],
      "text/plain": [
       "<IPython.core.display.HTML object>"
      ]
     },
     "metadata": {},
     "output_type": "display_data"
    },
    {
     "data": {
      "text/html": [
       "<h4>Quercus_Greggii:</h4>"
      ],
      "text/plain": [
       "<IPython.core.display.HTML object>"
      ]
     },
     "metadata": {},
     "output_type": "display_data"
    },
    {
     "data": {
      "text/html": [
       "<img src='images/104.jpg' width='50' height='50' style='display:inline-block; margin: 5px;'><img src='images/254.jpg' width='50' height='50' style='display:inline-block; margin: 5px;'><img src='images/515.jpg' width='50' height='50' style='display:inline-block; margin: 5px;'><img src='images/655.jpg' width='50' height='50' style='display:inline-block; margin: 5px;'><img src='images/1070.jpg' width='50' height='50' style='display:inline-block; margin: 5px;'><img src='images/1246.jpg' width='50' height='50' style='display:inline-block; margin: 5px;'>"
      ],
      "text/plain": [
       "<IPython.core.display.HTML object>"
      ]
     },
     "metadata": {},
     "output_type": "display_data"
    },
    {
     "data": {
      "text/html": [
       "<h4>Quercus_Hartwissiana:</h4>"
      ],
      "text/plain": [
       "<IPython.core.display.HTML object>"
      ]
     },
     "metadata": {},
     "output_type": "display_data"
    },
    {
     "data": {
      "text/html": [
       "<img src='images/151.jpg' width='50' height='50' style='display:inline-block; margin: 5px;'><img src='images/422.jpg' width='50' height='50' style='display:inline-block; margin: 5px;'><img src='images/650.jpg' width='50' height='50' style='display:inline-block; margin: 5px;'><img src='images/1185.jpg' width='50' height='50' style='display:inline-block; margin: 5px;'><img src='images/1247.jpg' width='50' height='50' style='display:inline-block; margin: 5px;'><img src='images/1334.jpg' width='50' height='50' style='display:inline-block; margin: 5px;'>"
      ],
      "text/plain": [
       "<IPython.core.display.HTML object>"
      ]
     },
     "metadata": {},
     "output_type": "display_data"
    },
    {
     "data": {
      "text/html": [
       "<h4>Quercus_Ilex:</h4>"
      ],
      "text/plain": [
       "<IPython.core.display.HTML object>"
      ]
     },
     "metadata": {},
     "output_type": "display_data"
    },
    {
     "data": {
      "text/html": [
       "<img src='images/135.jpg' width='50' height='50' style='display:inline-block; margin: 5px;'><img src='images/913.jpg' width='50' height='50' style='display:inline-block; margin: 5px;'><img src='images/1012.jpg' width='50' height='50' style='display:inline-block; margin: 5px;'><img src='images/1116.jpg' width='50' height='50' style='display:inline-block; margin: 5px;'><img src='images/1230.jpg' width='50' height='50' style='display:inline-block; margin: 5px;'><img src='images/1290.jpg' width='50' height='50' style='display:inline-block; margin: 5px;'><img src='images/1313.jpg' width='50' height='50' style='display:inline-block; margin: 5px;'><img src='images/1498.jpg' width='50' height='50' style='display:inline-block; margin: 5px;'>"
      ],
      "text/plain": [
       "<IPython.core.display.HTML object>"
      ]
     },
     "metadata": {},
     "output_type": "display_data"
    },
    {
     "data": {
      "text/html": [
       "<h4>Quercus_Imbricaria:</h4>"
      ],
      "text/plain": [
       "<IPython.core.display.HTML object>"
      ]
     },
     "metadata": {},
     "output_type": "display_data"
    },
    {
     "data": {
      "text/html": [
       "<img src='images/266.jpg' width='50' height='50' style='display:inline-block; margin: 5px;'><img src='images/586.jpg' width='50' height='50' style='display:inline-block; margin: 5px;'><img src='images/707.jpg' width='50' height='50' style='display:inline-block; margin: 5px;'><img src='images/729.jpg' width='50' height='50' style='display:inline-block; margin: 5px;'><img src='images/814.jpg' width='50' height='50' style='display:inline-block; margin: 5px;'><img src='images/1161.jpg' width='50' height='50' style='display:inline-block; margin: 5px;'><img src='images/1307.jpg' width='50' height='50' style='display:inline-block; margin: 5px;'><img src='images/1385.jpg' width='50' height='50' style='display:inline-block; margin: 5px;'>"
      ],
      "text/plain": [
       "<IPython.core.display.HTML object>"
      ]
     },
     "metadata": {},
     "output_type": "display_data"
    },
    {
     "data": {
      "text/html": [
       "<h4>Quercus_Infectoria_sub:</h4>"
      ],
      "text/plain": [
       "<IPython.core.display.HTML object>"
      ]
     },
     "metadata": {},
     "output_type": "display_data"
    },
    {
     "data": {
      "text/html": [
       "<img src='images/51.jpg' width='50' height='50' style='display:inline-block; margin: 5px;'><img src='images/174.jpg' width='50' height='50' style='display:inline-block; margin: 5px;'><img src='images/193.jpg' width='50' height='50' style='display:inline-block; margin: 5px;'><img src='images/236.jpg' width='50' height='50' style='display:inline-block; margin: 5px;'><img src='images/332.jpg' width='50' height='50' style='display:inline-block; margin: 5px;'><img src='images/929.jpg' width='50' height='50' style='display:inline-block; margin: 5px;'><img src='images/1138.jpg' width='50' height='50' style='display:inline-block; margin: 5px;'><img src='images/1490.jpg' width='50' height='50' style='display:inline-block; margin: 5px;'>"
      ],
      "text/plain": [
       "<IPython.core.display.HTML object>"
      ]
     },
     "metadata": {},
     "output_type": "display_data"
    },
    {
     "data": {
      "text/html": [
       "<h4>Quercus_Kewensis:</h4>"
      ],
      "text/plain": [
       "<IPython.core.display.HTML object>"
      ]
     },
     "metadata": {},
     "output_type": "display_data"
    },
    {
     "data": {
      "text/html": [
       "<img src='images/97.jpg' width='50' height='50' style='display:inline-block; margin: 5px;'><img src='images/414.jpg' width='50' height='50' style='display:inline-block; margin: 5px;'><img src='images/503.jpg' width='50' height='50' style='display:inline-block; margin: 5px;'><img src='images/574.jpg' width='50' height='50' style='display:inline-block; margin: 5px;'><img src='images/626.jpg' width='50' height='50' style='display:inline-block; margin: 5px;'><img src='images/665.jpg' width='50' height='50' style='display:inline-block; margin: 5px;'><img src='images/725.jpg' width='50' height='50' style='display:inline-block; margin: 5px;'><img src='images/739.jpg' width='50' height='50' style='display:inline-block; margin: 5px;'><img src='images/887.jpg' width='50' height='50' style='display:inline-block; margin: 5px;'><img src='images/1412.jpg' width='50' height='50' style='display:inline-block; margin: 5px;'><img src='images/1426.jpg' width='50' height='50' style='display:inline-block; margin: 5px;'>"
      ],
      "text/plain": [
       "<IPython.core.display.HTML object>"
      ]
     },
     "metadata": {},
     "output_type": "display_data"
    },
    {
     "data": {
      "text/html": [
       "<h4>Quercus_Nigra:</h4>"
      ],
      "text/plain": [
       "<IPython.core.display.HTML object>"
      ]
     },
     "metadata": {},
     "output_type": "display_data"
    },
    {
     "data": {
      "text/html": [
       "<img src='images/70.jpg' width='50' height='50' style='display:inline-block; margin: 5px;'><img src='images/86.jpg' width='50' height='50' style='display:inline-block; margin: 5px;'><img src='images/112.jpg' width='50' height='50' style='display:inline-block; margin: 5px;'><img src='images/555.jpg' width='50' height='50' style='display:inline-block; margin: 5px;'><img src='images/612.jpg' width='50' height='50' style='display:inline-block; margin: 5px;'><img src='images/624.jpg' width='50' height='50' style='display:inline-block; margin: 5px;'>"
      ],
      "text/plain": [
       "<IPython.core.display.HTML object>"
      ]
     },
     "metadata": {},
     "output_type": "display_data"
    },
    {
     "data": {
      "text/html": [
       "<h4>Quercus_Palustris:</h4>"
      ],
      "text/plain": [
       "<IPython.core.display.HTML object>"
      ]
     },
     "metadata": {},
     "output_type": "display_data"
    },
    {
     "data": {
      "text/html": [
       "<img src='images/53.jpg' width='50' height='50' style='display:inline-block; margin: 5px;'><img src='images/111.jpg' width='50' height='50' style='display:inline-block; margin: 5px;'><img src='images/613.jpg' width='50' height='50' style='display:inline-block; margin: 5px;'><img src='images/997.jpg' width='50' height='50' style='display:inline-block; margin: 5px;'><img src='images/1354.jpg' width='50' height='50' style='display:inline-block; margin: 5px;'><img src='images/1387.jpg' width='50' height='50' style='display:inline-block; margin: 5px;'>"
      ],
      "text/plain": [
       "<IPython.core.display.HTML object>"
      ]
     },
     "metadata": {},
     "output_type": "display_data"
    },
    {
     "data": {
      "text/html": [
       "<h4>Quercus_Phellos:</h4>"
      ],
      "text/plain": [
       "<IPython.core.display.HTML object>"
      ]
     },
     "metadata": {},
     "output_type": "display_data"
    },
    {
     "data": {
      "text/html": [
       "<img src='images/255.jpg' width='50' height='50' style='display:inline-block; margin: 5px;'><img src='images/486.jpg' width='50' height='50' style='display:inline-block; margin: 5px;'><img src='images/1078.jpg' width='50' height='50' style='display:inline-block; margin: 5px;'><img src='images/1103.jpg' width='50' height='50' style='display:inline-block; margin: 5px;'><img src='images/1298.jpg' width='50' height='50' style='display:inline-block; margin: 5px;'><img src='images/1484.jpg' width='50' height='50' style='display:inline-block; margin: 5px;'>"
      ],
      "text/plain": [
       "<IPython.core.display.HTML object>"
      ]
     },
     "metadata": {},
     "output_type": "display_data"
    },
    {
     "data": {
      "text/html": [
       "<h4>Quercus_Phillyraeoides:</h4>"
      ],
      "text/plain": [
       "<IPython.core.display.HTML object>"
      ]
     },
     "metadata": {},
     "output_type": "display_data"
    },
    {
     "data": {
      "text/html": [
       "<img src='images/666.jpg' width='50' height='50' style='display:inline-block; margin: 5px;'><img src='images/795.jpg' width='50' height='50' style='display:inline-block; margin: 5px;'><img src='images/935.jpg' width='50' height='50' style='display:inline-block; margin: 5px;'><img src='images/1127.jpg' width='50' height='50' style='display:inline-block; margin: 5px;'><img src='images/1150.jpg' width='50' height='50' style='display:inline-block; margin: 5px;'><img src='images/1580.jpg' width='50' height='50' style='display:inline-block; margin: 5px;'>"
      ],
      "text/plain": [
       "<IPython.core.display.HTML object>"
      ]
     },
     "metadata": {},
     "output_type": "display_data"
    },
    {
     "data": {
      "text/html": [
       "<h4>Quercus_Pontica:</h4>"
      ],
      "text/plain": [
       "<IPython.core.display.HTML object>"
      ]
     },
     "metadata": {},
     "output_type": "display_data"
    },
    {
     "data": {
      "text/html": [
       "<img src='images/36.jpg' width='50' height='50' style='display:inline-block; margin: 5px;'><img src='images/90.jpg' width='50' height='50' style='display:inline-block; margin: 5px;'><img src='images/1047.jpg' width='50' height='50' style='display:inline-block; margin: 5px;'><img src='images/1237.jpg' width='50' height='50' style='display:inline-block; margin: 5px;'><img src='images/1279.jpg' width='50' height='50' style='display:inline-block; margin: 5px;'><img src='images/1371.jpg' width='50' height='50' style='display:inline-block; margin: 5px;'>"
      ],
      "text/plain": [
       "<IPython.core.display.HTML object>"
      ]
     },
     "metadata": {},
     "output_type": "display_data"
    },
    {
     "data": {
      "text/html": [
       "<h4>Quercus_Pubescens:</h4>"
      ],
      "text/plain": [
       "<IPython.core.display.HTML object>"
      ]
     },
     "metadata": {},
     "output_type": "display_data"
    },
    {
     "data": {
      "text/html": [
       "<img src='images/39.jpg' width='50' height='50' style='display:inline-block; margin: 5px;'><img src='images/429.jpg' width='50' height='50' style='display:inline-block; margin: 5px;'><img src='images/1234.jpg' width='50' height='50' style='display:inline-block; margin: 5px;'>"
      ],
      "text/plain": [
       "<IPython.core.display.HTML object>"
      ]
     },
     "metadata": {},
     "output_type": "display_data"
    },
    {
     "data": {
      "text/html": [
       "<h4>Quercus_Pyrenaica:</h4>"
      ],
      "text/plain": [
       "<IPython.core.display.HTML object>"
      ]
     },
     "metadata": {},
     "output_type": "display_data"
    },
    {
     "data": {
      "text/html": [
       "<img src='images/608.jpg' width='50' height='50' style='display:inline-block; margin: 5px;'><img src='images/723.jpg' width='50' height='50' style='display:inline-block; margin: 5px;'><img src='images/1151.jpg' width='50' height='50' style='display:inline-block; margin: 5px;'><img src='images/1204.jpg' width='50' height='50' style='display:inline-block; margin: 5px;'><img src='images/1422.jpg' width='50' height='50' style='display:inline-block; margin: 5px;'>"
      ],
      "text/plain": [
       "<IPython.core.display.HTML object>"
      ]
     },
     "metadata": {},
     "output_type": "display_data"
    },
    {
     "data": {
      "text/html": [
       "<h4>Quercus_Rhysophylla:</h4>"
      ],
      "text/plain": [
       "<IPython.core.display.HTML object>"
      ]
     },
     "metadata": {},
     "output_type": "display_data"
    },
    {
     "data": {
      "text/html": [
       "<img src='images/65.jpg' width='50' height='50' style='display:inline-block; margin: 5px;'><img src='images/230.jpg' width='50' height='50' style='display:inline-block; margin: 5px;'><img src='images/761.jpg' width='50' height='50' style='display:inline-block; margin: 5px;'><img src='images/1315.jpg' width='50' height='50' style='display:inline-block; margin: 5px;'><img src='images/1428.jpg' width='50' height='50' style='display:inline-block; margin: 5px;'><img src='images/1466.jpg' width='50' height='50' style='display:inline-block; margin: 5px;'><img src='images/1487.jpg' width='50' height='50' style='display:inline-block; margin: 5px;'>"
      ],
      "text/plain": [
       "<IPython.core.display.HTML object>"
      ]
     },
     "metadata": {},
     "output_type": "display_data"
    },
    {
     "data": {
      "text/html": [
       "<h4>Quercus_Rubra:</h4>"
      ],
      "text/plain": [
       "<IPython.core.display.HTML object>"
      ]
     },
     "metadata": {},
     "output_type": "display_data"
    },
    {
     "data": {
      "text/html": [
       "<img src='images/526.jpg' width='50' height='50' style='display:inline-block; margin: 5px;'><img src='images/533.jpg' width='50' height='50' style='display:inline-block; margin: 5px;'><img src='images/565.jpg' width='50' height='50' style='display:inline-block; margin: 5px;'><img src='images/699.jpg' width='50' height='50' style='display:inline-block; margin: 5px;'><img src='images/973.jpg' width='50' height='50' style='display:inline-block; margin: 5px;'><img src='images/1248.jpg' width='50' height='50' style='display:inline-block; margin: 5px;'>"
      ],
      "text/plain": [
       "<IPython.core.display.HTML object>"
      ]
     },
     "metadata": {},
     "output_type": "display_data"
    },
    {
     "data": {
      "text/html": [
       "<h4>Quercus_Semecarpifolia:</h4>"
      ],
      "text/plain": [
       "<IPython.core.display.HTML object>"
      ]
     },
     "metadata": {},
     "output_type": "display_data"
    },
    {
     "data": {
      "text/html": [
       "<img src='images/405.jpg' width='50' height='50' style='display:inline-block; margin: 5px;'><img src='images/407.jpg' width='50' height='50' style='display:inline-block; margin: 5px;'><img src='images/947.jpg' width='50' height='50' style='display:inline-block; margin: 5px;'><img src='images/1033.jpg' width='50' height='50' style='display:inline-block; margin: 5px;'>"
      ],
      "text/plain": [
       "<IPython.core.display.HTML object>"
      ]
     },
     "metadata": {},
     "output_type": "display_data"
    },
    {
     "data": {
      "text/html": [
       "<h4>Quercus_Shumardii:</h4>"
      ],
      "text/plain": [
       "<IPython.core.display.HTML object>"
      ]
     },
     "metadata": {},
     "output_type": "display_data"
    },
    {
     "data": {
      "text/html": [
       "<img src='images/518.jpg' width='50' height='50' style='display:inline-block; margin: 5px;'><img src='images/734.jpg' width='50' height='50' style='display:inline-block; margin: 5px;'><img src='images/967.jpg' width='50' height='50' style='display:inline-block; margin: 5px;'><img src='images/1109.jpg' width='50' height='50' style='display:inline-block; margin: 5px;'><img src='images/1129.jpg' width='50' height='50' style='display:inline-block; margin: 5px;'><img src='images/1517.jpg' width='50' height='50' style='display:inline-block; margin: 5px;'>"
      ],
      "text/plain": [
       "<IPython.core.display.HTML object>"
      ]
     },
     "metadata": {},
     "output_type": "display_data"
    },
    {
     "data": {
      "text/html": [
       "<h4>Quercus_Suber:</h4>"
      ],
      "text/plain": [
       "<IPython.core.display.HTML object>"
      ]
     },
     "metadata": {},
     "output_type": "display_data"
    },
    {
     "data": {
      "text/html": [
       "<img src='images/337.jpg' width='50' height='50' style='display:inline-block; margin: 5px;'><img src='images/400.jpg' width='50' height='50' style='display:inline-block; margin: 5px;'><img src='images/940.jpg' width='50' height='50' style='display:inline-block; margin: 5px;'><img src='images/1102.jpg' width='50' height='50' style='display:inline-block; margin: 5px;'><img src='images/1564.jpg' width='50' height='50' style='display:inline-block; margin: 5px;'>"
      ],
      "text/plain": [
       "<IPython.core.display.HTML object>"
      ]
     },
     "metadata": {},
     "output_type": "display_data"
    },
    {
     "data": {
      "text/html": [
       "<h4>Quercus_Texana:</h4>"
      ],
      "text/plain": [
       "<IPython.core.display.HTML object>"
      ]
     },
     "metadata": {},
     "output_type": "display_data"
    },
    {
     "data": {
      "text/html": [
       "<img src='images/638.jpg' width='50' height='50' style='display:inline-block; margin: 5px;'><img src='images/643.jpg' width='50' height='50' style='display:inline-block; margin: 5px;'><img src='images/974.jpg' width='50' height='50' style='display:inline-block; margin: 5px;'><img src='images/1028.jpg' width='50' height='50' style='display:inline-block; margin: 5px;'><img src='images/1086.jpg' width='50' height='50' style='display:inline-block; margin: 5px;'><img src='images/1297.jpg' width='50' height='50' style='display:inline-block; margin: 5px;'>"
      ],
      "text/plain": [
       "<IPython.core.display.HTML object>"
      ]
     },
     "metadata": {},
     "output_type": "display_data"
    },
    {
     "data": {
      "text/html": [
       "<h4>Quercus_Trojana:</h4>"
      ],
      "text/plain": [
       "<IPython.core.display.HTML object>"
      ]
     },
     "metadata": {},
     "output_type": "display_data"
    },
    {
     "data": {
      "text/html": [
       "<img src='images/16.jpg' width='50' height='50' style='display:inline-block; margin: 5px;'><img src='images/674.jpg' width='50' height='50' style='display:inline-block; margin: 5px;'><img src='images/804.jpg' width='50' height='50' style='display:inline-block; margin: 5px;'><img src='images/1020.jpg' width='50' height='50' style='display:inline-block; margin: 5px;'><img src='images/1191.jpg' width='50' height='50' style='display:inline-block; margin: 5px;'><img src='images/1447.jpg' width='50' height='50' style='display:inline-block; margin: 5px;'>"
      ],
      "text/plain": [
       "<IPython.core.display.HTML object>"
      ]
     },
     "metadata": {},
     "output_type": "display_data"
    },
    {
     "data": {
      "text/html": [
       "<h4>Quercus_Variabilis:</h4>"
      ],
      "text/plain": [
       "<IPython.core.display.HTML object>"
      ]
     },
     "metadata": {},
     "output_type": "display_data"
    },
    {
     "data": {
      "text/html": [
       "<img src='images/24.jpg' width='50' height='50' style='display:inline-block; margin: 5px;'><img src='images/180.jpg' width='50' height='50' style='display:inline-block; margin: 5px;'><img src='images/244.jpg' width='50' height='50' style='display:inline-block; margin: 5px;'><img src='images/1114.jpg' width='50' height='50' style='display:inline-block; margin: 5px;'><img src='images/1155.jpg' width='50' height='50' style='display:inline-block; margin: 5px;'><img src='images/1415.jpg' width='50' height='50' style='display:inline-block; margin: 5px;'>"
      ],
      "text/plain": [
       "<IPython.core.display.HTML object>"
      ]
     },
     "metadata": {},
     "output_type": "display_data"
    },
    {
     "data": {
      "text/html": [
       "<h4>Quercus_Vulcanica:</h4>"
      ],
      "text/plain": [
       "<IPython.core.display.HTML object>"
      ]
     },
     "metadata": {},
     "output_type": "display_data"
    },
    {
     "data": {
      "text/html": [
       "<img src='images/187.jpg' width='50' height='50' style='display:inline-block; margin: 5px;'><img src='images/884.jpg' width='50' height='50' style='display:inline-block; margin: 5px;'><img src='images/943.jpg' width='50' height='50' style='display:inline-block; margin: 5px;'><img src='images/1178.jpg' width='50' height='50' style='display:inline-block; margin: 5px;'><img src='images/1285.jpg' width='50' height='50' style='display:inline-block; margin: 5px;'><img src='images/1397.jpg' width='50' height='50' style='display:inline-block; margin: 5px;'><img src='images/1401.jpg' width='50' height='50' style='display:inline-block; margin: 5px;'>"
      ],
      "text/plain": [
       "<IPython.core.display.HTML object>"
      ]
     },
     "metadata": {},
     "output_type": "display_data"
    },
    {
     "data": {
      "text/html": [
       "<h4>Quercus_x_Hispanica:</h4>"
      ],
      "text/plain": [
       "<IPython.core.display.HTML object>"
      ]
     },
     "metadata": {},
     "output_type": "display_data"
    },
    {
     "data": {
      "text/html": [
       "<img src='images/131.jpg' width='50' height='50' style='display:inline-block; margin: 5px;'><img src='images/293.jpg' width='50' height='50' style='display:inline-block; margin: 5px;'><img src='images/384.jpg' width='50' height='50' style='display:inline-block; margin: 5px;'><img src='images/1015.jpg' width='50' height='50' style='display:inline-block; margin: 5px;'>"
      ],
      "text/plain": [
       "<IPython.core.display.HTML object>"
      ]
     },
     "metadata": {},
     "output_type": "display_data"
    },
    {
     "data": {
      "text/html": [
       "<h4>Quercus_x_Turneri:</h4>"
      ],
      "text/plain": [
       "<IPython.core.display.HTML object>"
      ]
     },
     "metadata": {},
     "output_type": "display_data"
    },
    {
     "data": {
      "text/html": [
       "<img src='images/277.jpg' width='50' height='50' style='display:inline-block; margin: 5px;'><img src='images/421.jpg' width='50' height='50' style='display:inline-block; margin: 5px;'><img src='images/830.jpg' width='50' height='50' style='display:inline-block; margin: 5px;'><img src='images/1107.jpg' width='50' height='50' style='display:inline-block; margin: 5px;'><img src='images/1233.jpg' width='50' height='50' style='display:inline-block; margin: 5px;'><img src='images/1427.jpg' width='50' height='50' style='display:inline-block; margin: 5px;'>"
      ],
      "text/plain": [
       "<IPython.core.display.HTML object>"
      ]
     },
     "metadata": {},
     "output_type": "display_data"
    },
    {
     "data": {
      "text/html": [
       "<h4>Rhododendron_x_Russellianum:</h4>"
      ],
      "text/plain": [
       "<IPython.core.display.HTML object>"
      ]
     },
     "metadata": {},
     "output_type": "display_data"
    },
    {
     "data": {
      "text/html": [
       "<img src='images/141.jpg' width='50' height='50' style='display:inline-block; margin: 5px;'><img src='images/274.jpg' width='50' height='50' style='display:inline-block; margin: 5px;'><img src='images/590.jpg' width='50' height='50' style='display:inline-block; margin: 5px;'><img src='images/1214.jpg' width='50' height='50' style='display:inline-block; margin: 5px;'><img src='images/1264.jpg' width='50' height='50' style='display:inline-block; margin: 5px;'>"
      ],
      "text/plain": [
       "<IPython.core.display.HTML object>"
      ]
     },
     "metadata": {},
     "output_type": "display_data"
    },
    {
     "data": {
      "text/html": [
       "<h4>Salix_Fragilis:</h4>"
      ],
      "text/plain": [
       "<IPython.core.display.HTML object>"
      ]
     },
     "metadata": {},
     "output_type": "display_data"
    },
    {
     "data": {
      "text/html": [
       "<img src='images/472.jpg' width='50' height='50' style='display:inline-block; margin: 5px;'><img src='images/484.jpg' width='50' height='50' style='display:inline-block; margin: 5px;'><img src='images/537.jpg' width='50' height='50' style='display:inline-block; margin: 5px;'>"
      ],
      "text/plain": [
       "<IPython.core.display.HTML object>"
      ]
     },
     "metadata": {},
     "output_type": "display_data"
    },
    {
     "data": {
      "text/html": [
       "<h4>Salix_Intergra:</h4>"
      ],
      "text/plain": [
       "<IPython.core.display.HTML object>"
      ]
     },
     "metadata": {},
     "output_type": "display_data"
    },
    {
     "data": {
      "text/html": [
       "<img src='images/208.jpg' width='50' height='50' style='display:inline-block; margin: 5px;'><img src='images/534.jpg' width='50' height='50' style='display:inline-block; margin: 5px;'><img src='images/591.jpg' width='50' height='50' style='display:inline-block; margin: 5px;'><img src='images/1022.jpg' width='50' height='50' style='display:inline-block; margin: 5px;'>"
      ],
      "text/plain": [
       "<IPython.core.display.HTML object>"
      ]
     },
     "metadata": {},
     "output_type": "display_data"
    },
    {
     "data": {
      "text/html": [
       "<h4>Sorbus_Aria:</h4>"
      ],
      "text/plain": [
       "<IPython.core.display.HTML object>"
      ]
     },
     "metadata": {},
     "output_type": "display_data"
    },
    {
     "data": {
      "text/html": [
       "<img src='images/509.jpg' width='50' height='50' style='display:inline-block; margin: 5px;'><img src='images/567.jpg' width='50' height='50' style='display:inline-block; margin: 5px;'><img src='images/930.jpg' width='50' height='50' style='display:inline-block; margin: 5px;'><img src='images/1267.jpg' width='50' height='50' style='display:inline-block; margin: 5px;'><img src='images/1333.jpg' width='50' height='50' style='display:inline-block; margin: 5px;'><img src='images/1558.jpg' width='50' height='50' style='display:inline-block; margin: 5px;'>"
      ],
      "text/plain": [
       "<IPython.core.display.HTML object>"
      ]
     },
     "metadata": {},
     "output_type": "display_data"
    },
    {
     "data": {
      "text/html": [
       "<h4>Tilia_Oliveri:</h4>"
      ],
      "text/plain": [
       "<IPython.core.display.HTML object>"
      ]
     },
     "metadata": {},
     "output_type": "display_data"
    },
    {
     "data": {
      "text/html": [
       "<img src='images/177.jpg' width='50' height='50' style='display:inline-block; margin: 5px;'><img src='images/540.jpg' width='50' height='50' style='display:inline-block; margin: 5px;'><img src='images/583.jpg' width='50' height='50' style='display:inline-block; margin: 5px;'><img src='images/736.jpg' width='50' height='50' style='display:inline-block; margin: 5px;'><img src='images/1316.jpg' width='50' height='50' style='display:inline-block; margin: 5px;'><img src='images/1495.jpg' width='50' height='50' style='display:inline-block; margin: 5px;'>"
      ],
      "text/plain": [
       "<IPython.core.display.HTML object>"
      ]
     },
     "metadata": {},
     "output_type": "display_data"
    },
    {
     "data": {
      "text/html": [
       "<h4>Tilia_Platyphyllos:</h4>"
      ],
      "text/plain": [
       "<IPython.core.display.HTML object>"
      ]
     },
     "metadata": {},
     "output_type": "display_data"
    },
    {
     "data": {
      "text/html": [
       "<img src='images/99.jpg' width='50' height='50' style='display:inline-block; margin: 5px;'><img src='images/128.jpg' width='50' height='50' style='display:inline-block; margin: 5px;'><img src='images/261.jpg' width='50' height='50' style='display:inline-block; margin: 5px;'><img src='images/264.jpg' width='50' height='50' style='display:inline-block; margin: 5px;'><img src='images/584.jpg' width='50' height='50' style='display:inline-block; margin: 5px;'><img src='images/880.jpg' width='50' height='50' style='display:inline-block; margin: 5px;'><img src='images/1513.jpg' width='50' height='50' style='display:inline-block; margin: 5px;'><img src='images/1537.jpg' width='50' height='50' style='display:inline-block; margin: 5px;'>"
      ],
      "text/plain": [
       "<IPython.core.display.HTML object>"
      ]
     },
     "metadata": {},
     "output_type": "display_data"
    },
    {
     "data": {
      "text/html": [
       "<h4>Tilia_Tomentosa:</h4>"
      ],
      "text/plain": [
       "<IPython.core.display.HTML object>"
      ]
     },
     "metadata": {},
     "output_type": "display_data"
    },
    {
     "data": {
      "text/html": [
       "<img src='images/126.jpg' width='50' height='50' style='display:inline-block; margin: 5px;'><img src='images/448.jpg' width='50' height='50' style='display:inline-block; margin: 5px;'><img src='images/479.jpg' width='50' height='50' style='display:inline-block; margin: 5px;'><img src='images/746.jpg' width='50' height='50' style='display:inline-block; margin: 5px;'><img src='images/835.jpg' width='50' height='50' style='display:inline-block; margin: 5px;'><img src='images/891.jpg' width='50' height='50' style='display:inline-block; margin: 5px;'><img src='images/1209.jpg' width='50' height='50' style='display:inline-block; margin: 5px;'><img src='images/1288.jpg' width='50' height='50' style='display:inline-block; margin: 5px;'>"
      ],
      "text/plain": [
       "<IPython.core.display.HTML object>"
      ]
     },
     "metadata": {},
     "output_type": "display_data"
    },
    {
     "data": {
      "text/html": [
       "<h4>Ulmus_Bergmanniana:</h4>"
      ],
      "text/plain": [
       "<IPython.core.display.HTML object>"
      ]
     },
     "metadata": {},
     "output_type": "display_data"
    },
    {
     "data": {
      "text/html": [
       "<img src='images/222.jpg' width='50' height='50' style='display:inline-block; margin: 5px;'><img src='images/359.jpg' width='50' height='50' style='display:inline-block; margin: 5px;'><img src='images/372.jpg' width='50' height='50' style='display:inline-block; margin: 5px;'><img src='images/504.jpg' width='50' height='50' style='display:inline-block; margin: 5px;'><img src='images/832.jpg' width='50' height='50' style='display:inline-block; margin: 5px;'><img src='images/1177.jpg' width='50' height='50' style='display:inline-block; margin: 5px;'>"
      ],
      "text/plain": [
       "<IPython.core.display.HTML object>"
      ]
     },
     "metadata": {},
     "output_type": "display_data"
    },
    {
     "data": {
      "text/html": [
       "<h4>Viburnum_Tinus:</h4>"
      ],
      "text/plain": [
       "<IPython.core.display.HTML object>"
      ]
     },
     "metadata": {},
     "output_type": "display_data"
    },
    {
     "data": {
      "text/html": [
       "<img src='images/251.jpg' width='50' height='50' style='display:inline-block; margin: 5px;'><img src='images/301.jpg' width='50' height='50' style='display:inline-block; margin: 5px;'><img src='images/370.jpg' width='50' height='50' style='display:inline-block; margin: 5px;'><img src='images/554.jpg' width='50' height='50' style='display:inline-block; margin: 5px;'><img src='images/644.jpg' width='50' height='50' style='display:inline-block; margin: 5px;'><img src='images/799.jpg' width='50' height='50' style='display:inline-block; margin: 5px;'><img src='images/1139.jpg' width='50' height='50' style='display:inline-block; margin: 5px;'><img src='images/1304.jpg' width='50' height='50' style='display:inline-block; margin: 5px;'>"
      ],
      "text/plain": [
       "<IPython.core.display.HTML object>"
      ]
     },
     "metadata": {},
     "output_type": "display_data"
    },
    {
     "data": {
      "text/html": [
       "<h4>Viburnum_x_Rhytidophylloides:</h4>"
      ],
      "text/plain": [
       "<IPython.core.display.HTML object>"
      ]
     },
     "metadata": {},
     "output_type": "display_data"
    },
    {
     "data": {
      "text/html": [
       "<img src='images/316.jpg' width='50' height='50' style='display:inline-block; margin: 5px;'><img src='images/424.jpg' width='50' height='50' style='display:inline-block; margin: 5px;'><img src='images/731.jpg' width='50' height='50' style='display:inline-block; margin: 5px;'><img src='images/773.jpg' width='50' height='50' style='display:inline-block; margin: 5px;'><img src='images/1416.jpg' width='50' height='50' style='display:inline-block; margin: 5px;'><img src='images/1421.jpg' width='50' height='50' style='display:inline-block; margin: 5px;'>"
      ],
      "text/plain": [
       "<IPython.core.display.HTML object>"
      ]
     },
     "metadata": {},
     "output_type": "display_data"
    },
    {
     "data": {
      "text/html": [
       "<h4>Zelkova_Serrata:</h4>"
      ],
      "text/plain": [
       "<IPython.core.display.HTML object>"
      ]
     },
     "metadata": {},
     "output_type": "display_data"
    },
    {
     "data": {
      "text/html": [
       "<img src='images/176.jpg' width='50' height='50' style='display:inline-block; margin: 5px;'><img src='images/229.jpg' width='50' height='50' style='display:inline-block; margin: 5px;'><img src='images/1018.jpg' width='50' height='50' style='display:inline-block; margin: 5px;'><img src='images/1363.jpg' width='50' height='50' style='display:inline-block; margin: 5px;'><img src='images/1470.jpg' width='50' height='50' style='display:inline-block; margin: 5px;'>"
      ],
      "text/plain": [
       "<IPython.core.display.HTML object>"
      ]
     },
     "metadata": {},
     "output_type": "display_data"
    }
   ],
   "source": [
    "import pandas as pd\n",
    "from IPython.display import display, HTML, Image\n",
    "\n",
    "csv_path = \"classification.csv\"\n",
    "df = pd.read_csv(csv_path)\n",
    "\n",
    "image_width = 50\n",
    "image_height = 50\n",
    "\n",
    "for index, row in df.iterrows():\n",
    "    species_name = row['species']\n",
    "    image_names_array = row['image ids']\n",
    "    image_names = eval(image_names_array)\n",
    "    display(HTML(f\"<h4>{species_name}:</h4>\"))\n",
    "    \n",
    "    images_html = \"\"\n",
    "    for image_name in image_names:\n",
    "        image_path = f\"images/{image_name}.jpg\"\n",
    "        image_html = f\"<img src='{image_path}' width='{image_width}' height='{image_height}' style='display:inline-block; margin: 5px;'>\"\n",
    "        images_html += image_html\n",
    "    display(HTML(images_html))"
   ]
  },
  {
   "cell_type": "raw",
   "id": "b48195d7-4fb4-4006-967c-b16cba914279",
   "metadata": {
    "tags": []
   },
   "source": [
    "import pandas as pd\n",
    "from IPython.display import display, Image\n",
    "\n",
    "train = pd.read_csv('kaggle/train.csv.zip')\n",
    "grouped = train.groupby('species')\n",
    "\n",
    "for species, group in grouped: \n",
    "    display(HTML(f\"<h4>{species}: </h4>\"))\n",
    "    \n",
    "    images_html = \"\"\n",
    "    for image_name in group['id']:\n",
    "        image_path = f\"images/{image_name}.jpg\"\n",
    "        image_html = f\"<img src='{image_path}' width='{50}' height='{50}' style='display:inline-block; margin: 5px;'>\"\n",
    "        images_html += image_html\n",
    "    display(HTML(images_html))"
   ]
  },
  {
   "cell_type": "code",
   "execution_count": 248,
   "id": "6356f709-0d08-4a68-a033-a843f993ccfa",
   "metadata": {
    "tags": []
   },
   "outputs": [
    {
     "data": {
      "text/html": [
       "<img src='images/549.jpg' width='50' height='50' style='display:inline-block; margin: 5px;'><img src='images/607.jpg' width='50' height='50' style='display:inline-block; margin: 5px;'><img src='images/845.jpg' width='50' height='50' style='display:inline-block; margin: 5px;'><img src='images/902.jpg' width='50' height='50' style='display:inline-block; margin: 5px;'><img src='images/1430.jpg' width='50' height='50' style='display:inline-block; margin: 5px;'><img src='images/1540.jpg' width='50' height='50' style='display:inline-block; margin: 5px;'>"
      ],
      "text/plain": [
       "<IPython.core.display.HTML object>"
      ]
     },
     "metadata": {},
     "output_type": "display_data"
    },
    {
     "data": {
      "text/html": [
       "<img src='images/9.jpg' width='50' height='50' style='display:inline-block; margin: 5px;'><img src='images/68.jpg' width='50' height='50' style='display:inline-block; margin: 5px;'><img src='images/192.jpg' width='50' height='50' style='display:inline-block; margin: 5px;'><img src='images/385.jpg' width='50' height='50' style='display:inline-block; margin: 5px;'><img src='images/775.jpg' width='50' height='50' style='display:inline-block; margin: 5px;'><img src='images/1576.jpg' width='50' height='50' style='display:inline-block; margin: 5px;'>"
      ],
      "text/plain": [
       "<IPython.core.display.HTML object>"
      ]
     },
     "metadata": {},
     "output_type": "display_data"
    },
    {
     "data": {
      "text/html": [
       "<img src='images/791.jpg' width='50' height='50' style='display:inline-block; margin: 5px;'><img src='images/950.jpg' width='50' height='50' style='display:inline-block; margin: 5px;'><img src='images/1189.jpg' width='50' height='50' style='display:inline-block; margin: 5px;'>"
      ],
      "text/plain": [
       "<IPython.core.display.HTML object>"
      ]
     },
     "metadata": {},
     "output_type": "display_data"
    },
    {
     "data": {
      "text/html": [
       "<br>"
      ],
      "text/plain": [
       "<IPython.core.display.HTML object>"
      ]
     },
     "metadata": {},
     "output_type": "display_data"
    },
    {
     "data": {
      "text/html": [
       "<img src='images/19.jpg' width='50' height='50' style='display:inline-block; margin: 5px;'><img src='images/232.jpg' width='50' height='50' style='display:inline-block; margin: 5px;'><img src='images/346.jpg' width='50' height='50' style='display:inline-block; margin: 5px;'><img src='images/361.jpg' width='50' height='50' style='display:inline-block; margin: 5px;'><img src='images/833.jpg' width='50' height='50' style='display:inline-block; margin: 5px;'><img src='images/1195.jpg' width='50' height='50' style='display:inline-block; margin: 5px;'>"
      ],
      "text/plain": [
       "<IPython.core.display.HTML object>"
      ]
     },
     "metadata": {},
     "output_type": "display_data"
    },
    {
     "data": {
      "text/html": [
       "<img src='images/94.jpg' width='50' height='50' style='display:inline-block; margin: 5px;'><img src='images/159.jpg' width='50' height='50' style='display:inline-block; margin: 5px;'><img src='images/1106.jpg' width='50' height='50' style='display:inline-block; margin: 5px;'><img src='images/1133.jpg' width='50' height='50' style='display:inline-block; margin: 5px;'><img src='images/1453.jpg' width='50' height='50' style='display:inline-block; margin: 5px;'><img src='images/1455.jpg' width='50' height='50' style='display:inline-block; margin: 5px;'>"
      ],
      "text/plain": [
       "<IPython.core.display.HTML object>"
      ]
     },
     "metadata": {},
     "output_type": "display_data"
    },
    {
     "data": {
      "text/html": [
       "<img src='images/123.jpg' width='50' height='50' style='display:inline-block; margin: 5px;'><img src='images/157.jpg' width='50' height='50' style='display:inline-block; margin: 5px;'><img src='images/476.jpg' width='50' height='50' style='display:inline-block; margin: 5px;'><img src='images/578.jpg' width='50' height='50' style='display:inline-block; margin: 5px;'><img src='images/977.jpg' width='50' height='50' style='display:inline-block; margin: 5px;'><img src='images/1478.jpg' width='50' height='50' style='display:inline-block; margin: 5px;'>"
      ],
      "text/plain": [
       "<IPython.core.display.HTML object>"
      ]
     },
     "metadata": {},
     "output_type": "display_data"
    },
    {
     "data": {
      "text/html": [
       "<br>"
      ],
      "text/plain": [
       "<IPython.core.display.HTML object>"
      ]
     },
     "metadata": {},
     "output_type": "display_data"
    },
    {
     "data": {
      "text/html": [
       "<img src='images/279.jpg' width='50' height='50' style='display:inline-block; margin: 5px;'><img src='images/525.jpg' width='50' height='50' style='display:inline-block; margin: 5px;'><img src='images/925.jpg' width='50' height='50' style='display:inline-block; margin: 5px;'><img src='images/946.jpg' width='50' height='50' style='display:inline-block; margin: 5px;'><img src='images/965.jpg' width='50' height='50' style='display:inline-block; margin: 5px;'><img src='images/1376.jpg' width='50' height='50' style='display:inline-block; margin: 5px;'>"
      ],
      "text/plain": [
       "<IPython.core.display.HTML object>"
      ]
     },
     "metadata": {},
     "output_type": "display_data"
    },
    {
     "data": {
      "text/html": [
       "<img src='images/223.jpg' width='50' height='50' style='display:inline-block; margin: 5px;'><img src='images/297.jpg' width='50' height='50' style='display:inline-block; margin: 5px;'><img src='images/1158.jpg' width='50' height='50' style='display:inline-block; margin: 5px;'><img src='images/1241.jpg' width='50' height='50' style='display:inline-block; margin: 5px;'><img src='images/1306.jpg' width='50' height='50' style='display:inline-block; margin: 5px;'>"
      ],
      "text/plain": [
       "<IPython.core.display.HTML object>"
      ]
     },
     "metadata": {},
     "output_type": "display_data"
    },
    {
     "data": {
      "text/html": [
       "<img src='images/28.jpg' width='50' height='50' style='display:inline-block; margin: 5px;'><img src='images/102.jpg' width='50' height='50' style='display:inline-block; margin: 5px;'><img src='images/105.jpg' width='50' height='50' style='display:inline-block; margin: 5px;'><img src='images/272.jpg' width='50' height='50' style='display:inline-block; margin: 5px;'><img src='images/1164.jpg' width='50' height='50' style='display:inline-block; margin: 5px;'>"
      ],
      "text/plain": [
       "<IPython.core.display.HTML object>"
      ]
     },
     "metadata": {},
     "output_type": "display_data"
    },
    {
     "data": {
      "text/html": [
       "<br>"
      ],
      "text/plain": [
       "<IPython.core.display.HTML object>"
      ]
     },
     "metadata": {},
     "output_type": "display_data"
    },
    {
     "data": {
      "text/html": [
       "<img src='images/110.jpg' width='50' height='50' style='display:inline-block; margin: 5px;'><img src='images/531.jpg' width='50' height='50' style='display:inline-block; margin: 5px;'><img src='images/668.jpg' width='50' height='50' style='display:inline-block; margin: 5px;'><img src='images/817.jpg' width='50' height='50' style='display:inline-block; margin: 5px;'><img src='images/1075.jpg' width='50' height='50' style='display:inline-block; margin: 5px;'><img src='images/1331.jpg' width='50' height='50' style='display:inline-block; margin: 5px;'>"
      ],
      "text/plain": [
       "<IPython.core.display.HTML object>"
      ]
     },
     "metadata": {},
     "output_type": "display_data"
    },
    {
     "data": {
      "text/html": [
       "<img src='images/41.jpg' width='50' height='50' style='display:inline-block; margin: 5px;'><img src='images/182.jpg' width='50' height='50' style='display:inline-block; margin: 5px;'><img src='images/442.jpg' width='50' height='50' style='display:inline-block; margin: 5px;'><img src='images/1043.jpg' width='50' height='50' style='display:inline-block; margin: 5px;'><img src='images/1183.jpg' width='50' height='50' style='display:inline-block; margin: 5px;'><img src='images/1343.jpg' width='50' height='50' style='display:inline-block; margin: 5px;'><img src='images/1553.jpg' width='50' height='50' style='display:inline-block; margin: 5px;'>"
      ],
      "text/plain": [
       "<IPython.core.display.HTML object>"
      ]
     },
     "metadata": {},
     "output_type": "display_data"
    },
    {
     "data": {
      "text/html": [
       "<img src='images/154.jpg' width='50' height='50' style='display:inline-block; margin: 5px;'><img src='images/441.jpg' width='50' height='50' style='display:inline-block; margin: 5px;'><img src='images/500.jpg' width='50' height='50' style='display:inline-block; margin: 5px;'><img src='images/770.jpg' width='50' height='50' style='display:inline-block; margin: 5px;'><img src='images/1104.jpg' width='50' height='50' style='display:inline-block; margin: 5px;'>"
      ],
      "text/plain": [
       "<IPython.core.display.HTML object>"
      ]
     },
     "metadata": {},
     "output_type": "display_data"
    },
    {
     "data": {
      "text/html": [
       "<br>"
      ],
      "text/plain": [
       "<IPython.core.display.HTML object>"
      ]
     },
     "metadata": {},
     "output_type": "display_data"
    },
    {
     "data": {
      "text/html": [
       "<img src='images/234.jpg' width='50' height='50' style='display:inline-block; margin: 5px;'><img src='images/696.jpg' width='50' height='50' style='display:inline-block; margin: 5px;'><img src='images/941.jpg' width='50' height='50' style='display:inline-block; margin: 5px;'><img src='images/1439.jpg' width='50' height='50' style='display:inline-block; margin: 5px;'><img src='images/1577.jpg' width='50' height='50' style='display:inline-block; margin: 5px;'>"
      ],
      "text/plain": [
       "<IPython.core.display.HTML object>"
      ]
     },
     "metadata": {},
     "output_type": "display_data"
    },
    {
     "data": {
      "text/html": [
       "<img src='images/158.jpg' width='50' height='50' style='display:inline-block; margin: 5px;'><img src='images/541.jpg' width='50' height='50' style='display:inline-block; margin: 5px;'><img src='images/1029.jpg' width='50' height='50' style='display:inline-block; margin: 5px;'><img src='images/1429.jpg' width='50' height='50' style='display:inline-block; margin: 5px;'><img src='images/1465.jpg' width='50' height='50' style='display:inline-block; margin: 5px;'>"
      ],
      "text/plain": [
       "<IPython.core.display.HTML object>"
      ]
     },
     "metadata": {},
     "output_type": "display_data"
    },
    {
     "data": {
      "text/html": [
       "<img src='images/13.jpg' width='50' height='50' style='display:inline-block; margin: 5px;'><img src='images/96.jpg' width='50' height='50' style='display:inline-block; margin: 5px;'><img src='images/702.jpg' width='50' height='50' style='display:inline-block; margin: 5px;'><img src='images/1063.jpg' width='50' height='50' style='display:inline-block; margin: 5px;'><img src='images/1437.jpg' width='50' height='50' style='display:inline-block; margin: 5px;'><img src='images/1510.jpg' width='50' height='50' style='display:inline-block; margin: 5px;'>"
      ],
      "text/plain": [
       "<IPython.core.display.HTML object>"
      ]
     },
     "metadata": {},
     "output_type": "display_data"
    },
    {
     "data": {
      "text/html": [
       "<br>"
      ],
      "text/plain": [
       "<IPython.core.display.HTML object>"
      ]
     },
     "metadata": {},
     "output_type": "display_data"
    },
    {
     "data": {
      "text/html": [
       "<img src='images/77.jpg' width='50' height='50' style='display:inline-block; margin: 5px;'><img src='images/465.jpg' width='50' height='50' style='display:inline-block; margin: 5px;'><img src='images/1050.jpg' width='50' height='50' style='display:inline-block; margin: 5px;'><img src='images/1280.jpg' width='50' height='50' style='display:inline-block; margin: 5px;'><img src='images/1338.jpg' width='50' height='50' style='display:inline-block; margin: 5px;'>"
      ],
      "text/plain": [
       "<IPython.core.display.HTML object>"
      ]
     },
     "metadata": {},
     "output_type": "display_data"
    },
    {
     "data": {
      "text/html": [
       "<img src='images/764.jpg' width='50' height='50' style='display:inline-block; margin: 5px;'><img src='images/820.jpg' width='50' height='50' style='display:inline-block; margin: 5px;'><img src='images/1364.jpg' width='50' height='50' style='display:inline-block; margin: 5px;'><img src='images/1497.jpg' width='50' height='50' style='display:inline-block; margin: 5px;'>"
      ],
      "text/plain": [
       "<IPython.core.display.HTML object>"
      ]
     },
     "metadata": {},
     "output_type": "display_data"
    },
    {
     "data": {
      "text/html": [
       "<img src='images/172.jpg' width='50' height='50' style='display:inline-block; margin: 5px;'><img src='images/292.jpg' width='50' height='50' style='display:inline-block; margin: 5px;'><img src='images/653.jpg' width='50' height='50' style='display:inline-block; margin: 5px;'><img src='images/1058.jpg' width='50' height='50' style='display:inline-block; margin: 5px;'><img src='images/1481.jpg' width='50' height='50' style='display:inline-block; margin: 5px;'><img src='images/1534.jpg' width='50' height='50' style='display:inline-block; margin: 5px;'>"
      ],
      "text/plain": [
       "<IPython.core.display.HTML object>"
      ]
     },
     "metadata": {},
     "output_type": "display_data"
    },
    {
     "data": {
      "text/html": [
       "<br>"
      ],
      "text/plain": [
       "<IPython.core.display.HTML object>"
      ]
     },
     "metadata": {},
     "output_type": "display_data"
    },
    {
     "data": {
      "text/html": [
       "<img src='images/119.jpg' width='50' height='50' style='display:inline-block; margin: 5px;'><img src='images/507.jpg' width='50' height='50' style='display:inline-block; margin: 5px;'><img src='images/604.jpg' width='50' height='50' style='display:inline-block; margin: 5px;'><img src='images/895.jpg' width='50' height='50' style='display:inline-block; margin: 5px;'><img src='images/1321.jpg' width='50' height='50' style='display:inline-block; margin: 5px;'><img src='images/1567.jpg' width='50' height='50' style='display:inline-block; margin: 5px;'>"
      ],
      "text/plain": [
       "<IPython.core.display.HTML object>"
      ]
     },
     "metadata": {},
     "output_type": "display_data"
    },
    {
     "data": {
      "text/html": [
       "<img src='images/12.jpg' width='50' height='50' style='display:inline-block; margin: 5px;'><img src='images/889.jpg' width='50' height='50' style='display:inline-block; margin: 5px;'><img src='images/1105.jpg' width='50' height='50' style='display:inline-block; margin: 5px;'><img src='images/1336.jpg' width='50' height='50' style='display:inline-block; margin: 5px;'><img src='images/1368.jpg' width='50' height='50' style='display:inline-block; margin: 5px;'><img src='images/1462.jpg' width='50' height='50' style='display:inline-block; margin: 5px;'>"
      ],
      "text/plain": [
       "<IPython.core.display.HTML object>"
      ]
     },
     "metadata": {},
     "output_type": "display_data"
    },
    {
     "data": {
      "text/html": [
       "<img src='images/373.jpg' width='50' height='50' style='display:inline-block; margin: 5px;'><img src='images/401.jpg' width='50' height='50' style='display:inline-block; margin: 5px;'><img src='images/715.jpg' width='50' height='50' style='display:inline-block; margin: 5px;'><img src='images/1045.jpg' width='50' height='50' style='display:inline-block; margin: 5px;'><img src='images/1140.jpg' width='50' height='50' style='display:inline-block; margin: 5px;'><img src='images/1542.jpg' width='50' height='50' style='display:inline-block; margin: 5px;'>"
      ],
      "text/plain": [
       "<IPython.core.display.HTML object>"
      ]
     },
     "metadata": {},
     "output_type": "display_data"
    },
    {
     "data": {
      "text/html": [
       "<br>"
      ],
      "text/plain": [
       "<IPython.core.display.HTML object>"
      ]
     },
     "metadata": {},
     "output_type": "display_data"
    },
    {
     "data": {
      "text/html": [
       "<img src='images/147.jpg' width='50' height='50' style='display:inline-block; margin: 5px;'><img src='images/210.jpg' width='50' height='50' style='display:inline-block; margin: 5px;'><img src='images/432.jpg' width='50' height='50' style='display:inline-block; margin: 5px;'><img src='images/439.jpg' width='50' height='50' style='display:inline-block; margin: 5px;'><img src='images/744.jpg' width='50' height='50' style='display:inline-block; margin: 5px;'><img src='images/1260.jpg' width='50' height='50' style='display:inline-block; margin: 5px;'>"
      ],
      "text/plain": [
       "<IPython.core.display.HTML object>"
      ]
     },
     "metadata": {},
     "output_type": "display_data"
    },
    {
     "data": {
      "text/html": [
       "<img src='images/205.jpg' width='50' height='50' style='display:inline-block; margin: 5px;'><img src='images/406.jpg' width='50' height='50' style='display:inline-block; margin: 5px;'><img src='images/457.jpg' width='50' height='50' style='display:inline-block; margin: 5px;'><img src='images/688.jpg' width='50' height='50' style='display:inline-block; margin: 5px;'><img src='images/953.jpg' width='50' height='50' style='display:inline-block; margin: 5px;'><img src='images/1099.jpg' width='50' height='50' style='display:inline-block; margin: 5px;'>"
      ],
      "text/plain": [
       "<IPython.core.display.HTML object>"
      ]
     },
     "metadata": {},
     "output_type": "display_data"
    },
    {
     "data": {
      "text/html": [
       "<img src='images/114.jpg' width='50' height='50' style='display:inline-block; margin: 5px;'><img src='images/195.jpg' width='50' height='50' style='display:inline-block; margin: 5px;'><img src='images/300.jpg' width='50' height='50' style='display:inline-block; margin: 5px;'><img src='images/477.jpg' width='50' height='50' style='display:inline-block; margin: 5px;'><img src='images/743.jpg' width='50' height='50' style='display:inline-block; margin: 5px;'><img src='images/1067.jpg' width='50' height='50' style='display:inline-block; margin: 5px;'>"
      ],
      "text/plain": [
       "<IPython.core.display.HTML object>"
      ]
     },
     "metadata": {},
     "output_type": "display_data"
    },
    {
     "data": {
      "text/html": [
       "<br>"
      ],
      "text/plain": [
       "<IPython.core.display.HTML object>"
      ]
     },
     "metadata": {},
     "output_type": "display_data"
    },
    {
     "data": {
      "text/html": [
       "<img src='images/191.jpg' width='50' height='50' style='display:inline-block; margin: 5px;'><img src='images/313.jpg' width='50' height='50' style='display:inline-block; margin: 5px;'><img src='images/782.jpg' width='50' height='50' style='display:inline-block; margin: 5px;'><img src='images/1351.jpg' width='50' height='50' style='display:inline-block; margin: 5px;'>"
      ],
      "text/plain": [
       "<IPython.core.display.HTML object>"
      ]
     },
     "metadata": {},
     "output_type": "display_data"
    },
    {
     "data": {
      "text/html": [
       "<img src='images/181.jpg' width='50' height='50' style='display:inline-block; margin: 5px;'><img src='images/209.jpg' width='50' height='50' style='display:inline-block; margin: 5px;'><img src='images/599.jpg' width='50' height='50' style='display:inline-block; margin: 5px;'><img src='images/705.jpg' width='50' height='50' style='display:inline-block; margin: 5px;'><img src='images/1406.jpg' width='50' height='50' style='display:inline-block; margin: 5px;'><img src='images/1528.jpg' width='50' height='50' style='display:inline-block; margin: 5px;'>"
      ],
      "text/plain": [
       "<IPython.core.display.HTML object>"
      ]
     },
     "metadata": {},
     "output_type": "display_data"
    },
    {
     "data": {
      "text/html": [
       "<img src='images/52.jpg' width='50' height='50' style='display:inline-block; margin: 5px;'><img src='images/117.jpg' width='50' height='50' style='display:inline-block; margin: 5px;'><img src='images/670.jpg' width='50' height='50' style='display:inline-block; margin: 5px;'><img src='images/687.jpg' width='50' height='50' style='display:inline-block; margin: 5px;'><img src='images/790.jpg' width='50' height='50' style='display:inline-block; margin: 5px;'><img src='images/846.jpg' width='50' height='50' style='display:inline-block; margin: 5px;'><img src='images/945.jpg' width='50' height='50' style='display:inline-block; margin: 5px;'><img src='images/1055.jpg' width='50' height='50' style='display:inline-block; margin: 5px;'><img src='images/1357.jpg' width='50' height='50' style='display:inline-block; margin: 5px;'><img src='images/1493.jpg' width='50' height='50' style='display:inline-block; margin: 5px;'>"
      ],
      "text/plain": [
       "<IPython.core.display.HTML object>"
      ]
     },
     "metadata": {},
     "output_type": "display_data"
    },
    {
     "data": {
      "text/html": [
       "<br>"
      ],
      "text/plain": [
       "<IPython.core.display.HTML object>"
      ]
     },
     "metadata": {},
     "output_type": "display_data"
    },
    {
     "data": {
      "text/html": [
       "<img src='images/295.jpg' width='50' height='50' style='display:inline-block; margin: 5px;'><img src='images/453.jpg' width='50' height='50' style='display:inline-block; margin: 5px;'><img src='images/611.jpg' width='50' height='50' style='display:inline-block; margin: 5px;'><img src='images/703.jpg' width='50' height='50' style='display:inline-block; margin: 5px;'><img src='images/1407.jpg' width='50' height='50' style='display:inline-block; margin: 5px;'><img src='images/1573.jpg' width='50' height='50' style='display:inline-block; margin: 5px;'>"
      ],
      "text/plain": [
       "<IPython.core.display.HTML object>"
      ]
     },
     "metadata": {},
     "output_type": "display_data"
    },
    {
     "data": {
      "text/html": [
       "<img src='images/23.jpg' width='50' height='50' style='display:inline-block; margin: 5px;'><img src='images/74.jpg' width='50' height='50' style='display:inline-block; margin: 5px;'><img src='images/529.jpg' width='50' height='50' style='display:inline-block; margin: 5px;'><img src='images/708.jpg' width='50' height='50' style='display:inline-block; margin: 5px;'><img src='images/1092.jpg' width='50' height='50' style='display:inline-block; margin: 5px;'><img src='images/1400.jpg' width='50' height='50' style='display:inline-block; margin: 5px;'><img src='images/1583.jpg' width='50' height='50' style='display:inline-block; margin: 5px;'>"
      ],
      "text/plain": [
       "<IPython.core.display.HTML object>"
      ]
     },
     "metadata": {},
     "output_type": "display_data"
    },
    {
     "data": {
      "text/html": [
       "<img src='images/170.jpg' width='50' height='50' style='display:inline-block; margin: 5px;'><img src='images/318.jpg' width='50' height='50' style='display:inline-block; margin: 5px;'><img src='images/320.jpg' width='50' height='50' style='display:inline-block; margin: 5px;'><img src='images/434.jpg' width='50' height='50' style='display:inline-block; margin: 5px;'><img src='images/512.jpg' width='50' height='50' style='display:inline-block; margin: 5px;'><img src='images/560.jpg' width='50' height='50' style='display:inline-block; margin: 5px;'><img src='images/602.jpg' width='50' height='50' style='display:inline-block; margin: 5px;'><img src='images/683.jpg' width='50' height='50' style='display:inline-block; margin: 5px;'>"
      ],
      "text/plain": [
       "<IPython.core.display.HTML object>"
      ]
     },
     "metadata": {},
     "output_type": "display_data"
    },
    {
     "data": {
      "text/html": [
       "<br>"
      ],
      "text/plain": [
       "<IPython.core.display.HTML object>"
      ]
     },
     "metadata": {},
     "output_type": "display_data"
    },
    {
     "data": {
      "text/html": [
       "<img src='images/627.jpg' width='50' height='50' style='display:inline-block; margin: 5px;'><img src='images/1009.jpg' width='50' height='50' style='display:inline-block; margin: 5px;'><img src='images/1071.jpg' width='50' height='50' style='display:inline-block; margin: 5px;'><img src='images/1458.jpg' width='50' height='50' style='display:inline-block; margin: 5px;'>"
      ],
      "text/plain": [
       "<IPython.core.display.HTML object>"
      ]
     },
     "metadata": {},
     "output_type": "display_data"
    },
    {
     "data": {
      "text/html": [
       "<img src='images/305.jpg' width='50' height='50' style='display:inline-block; margin: 5px;'>"
      ],
      "text/plain": [
       "<IPython.core.display.HTML object>"
      ]
     },
     "metadata": {},
     "output_type": "display_data"
    },
    {
     "data": {
      "text/html": [
       "<img src='images/557.jpg' width='50' height='50' style='display:inline-block; margin: 5px;'><img src='images/625.jpg' width='50' height='50' style='display:inline-block; margin: 5px;'><img src='images/1115.jpg' width='50' height='50' style='display:inline-block; margin: 5px;'><img src='images/1486.jpg' width='50' height='50' style='display:inline-block; margin: 5px;'>"
      ],
      "text/plain": [
       "<IPython.core.display.HTML object>"
      ]
     },
     "metadata": {},
     "output_type": "display_data"
    },
    {
     "data": {
      "text/html": [
       "<br>"
      ],
      "text/plain": [
       "<IPython.core.display.HTML object>"
      ]
     },
     "metadata": {},
     "output_type": "display_data"
    },
    {
     "data": {
      "text/html": [
       "<img src='images/136.jpg' width='50' height='50' style='display:inline-block; margin: 5px;'><img src='images/751.jpg' width='50' height='50' style='display:inline-block; margin: 5px;'><img src='images/903.jpg' width='50' height='50' style='display:inline-block; margin: 5px;'><img src='images/986.jpg' width='50' height='50' style='display:inline-block; margin: 5px;'><img src='images/1053.jpg' width='50' height='50' style='display:inline-block; margin: 5px;'><img src='images/1445.jpg' width='50' height='50' style='display:inline-block; margin: 5px;'>"
      ],
      "text/plain": [
       "<IPython.core.display.HTML object>"
      ]
     },
     "metadata": {},
     "output_type": "display_data"
    },
    {
     "data": {
      "text/html": [
       "<img src='images/98.jpg' width='50' height='50' style='display:inline-block; margin: 5px;'><img src='images/271.jpg' width='50' height='50' style='display:inline-block; margin: 5px;'><img src='images/285.jpg' width='50' height='50' style='display:inline-block; margin: 5px;'><img src='images/640.jpg' width='50' height='50' style='display:inline-block; margin: 5px;'><img src='images/1068.jpg' width='50' height='50' style='display:inline-block; margin: 5px;'><img src='images/1091.jpg' width='50' height='50' style='display:inline-block; margin: 5px;'><img src='images/1143.jpg' width='50' height='50' style='display:inline-block; margin: 5px;'><img src='images/1433.jpg' width='50' height='50' style='display:inline-block; margin: 5px;'>"
      ],
      "text/plain": [
       "<IPython.core.display.HTML object>"
      ]
     },
     "metadata": {},
     "output_type": "display_data"
    },
    {
     "data": {
      "text/html": [
       "<img src='images/79.jpg' width='50' height='50' style='display:inline-block; margin: 5px;'><img src='images/381.jpg' width='50' height='50' style='display:inline-block; margin: 5px;'><img src='images/544.jpg' width='50' height='50' style='display:inline-block; margin: 5px;'><img src='images/834.jpg' width='50' height='50' style='display:inline-block; margin: 5px;'><img src='images/957.jpg' width='50' height='50' style='display:inline-block; margin: 5px;'><img src='images/1060.jpg' width='50' height='50' style='display:inline-block; margin: 5px;'><img src='images/1318.jpg' width='50' height='50' style='display:inline-block; margin: 5px;'>"
      ],
      "text/plain": [
       "<IPython.core.display.HTML object>"
      ]
     },
     "metadata": {},
     "output_type": "display_data"
    },
    {
     "data": {
      "text/html": [
       "<br>"
      ],
      "text/plain": [
       "<IPython.core.display.HTML object>"
      ]
     },
     "metadata": {},
     "output_type": "display_data"
    },
    {
     "data": {
      "text/html": [
       "<img src='images/95.jpg' width='50' height='50' style='display:inline-block; margin: 5px;'><img src='images/495.jpg' width='50' height='50' style='display:inline-block; margin: 5px;'><img src='images/594.jpg' width='50' height='50' style='display:inline-block; margin: 5px;'><img src='images/690.jpg' width='50' height='50' style='display:inline-block; margin: 5px;'><img src='images/701.jpg' width='50' height='50' style='display:inline-block; margin: 5px;'><img src='images/1074.jpg' width='50' height='50' style='display:inline-block; margin: 5px;'><img src='images/1122.jpg' width='50' height='50' style='display:inline-block; margin: 5px;'>"
      ],
      "text/plain": [
       "<IPython.core.display.HTML object>"
      ]
     },
     "metadata": {},
     "output_type": "display_data"
    },
    {
     "data": {
      "text/html": [
       "<img src='images/213.jpg' width='50' height='50' style='display:inline-block; margin: 5px;'><img src='images/1162.jpg' width='50' height='50' style='display:inline-block; margin: 5px;'><img src='images/1535.jpg' width='50' height='50' style='display:inline-block; margin: 5px;'>"
      ],
      "text/plain": [
       "<IPython.core.display.HTML object>"
      ]
     },
     "metadata": {},
     "output_type": "display_data"
    },
    {
     "data": {
      "text/html": [
       "<img src='images/113.jpg' width='50' height='50' style='display:inline-block; margin: 5px;'><img src='images/395.jpg' width='50' height='50' style='display:inline-block; margin: 5px;'><img src='images/577.jpg' width='50' height='50' style='display:inline-block; margin: 5px;'><img src='images/829.jpg' width='50' height='50' style='display:inline-block; margin: 5px;'><img src='images/872.jpg' width='50' height='50' style='display:inline-block; margin: 5px;'>"
      ],
      "text/plain": [
       "<IPython.core.display.HTML object>"
      ]
     },
     "metadata": {},
     "output_type": "display_data"
    },
    {
     "data": {
      "text/html": [
       "<br>"
      ],
      "text/plain": [
       "<IPython.core.display.HTML object>"
      ]
     },
     "metadata": {},
     "output_type": "display_data"
    },
    {
     "data": {
      "text/html": [
       "<img src='images/200.jpg' width='50' height='50' style='display:inline-block; margin: 5px;'><img src='images/299.jpg' width='50' height='50' style='display:inline-block; margin: 5px;'><img src='images/781.jpg' width='50' height='50' style='display:inline-block; margin: 5px;'><img src='images/909.jpg' width='50' height='50' style='display:inline-block; margin: 5px;'><img src='images/982.jpg' width='50' height='50' style='display:inline-block; margin: 5px;'><img src='images/1111.jpg' width='50' height='50' style='display:inline-block; margin: 5px;'><img src='images/1141.jpg' width='50' height='50' style='display:inline-block; margin: 5px;'><img src='images/1146.jpg' width='50' height='50' style='display:inline-block; margin: 5px;'><img src='images/1227.jpg' width='50' height='50' style='display:inline-block; margin: 5px;'><img src='images/1362.jpg' width='50' height='50' style='display:inline-block; margin: 5px;'><img src='images/1503.jpg' width='50' height='50' style='display:inline-block; margin: 5px;'>"
      ],
      "text/plain": [
       "<IPython.core.display.HTML object>"
      ]
     },
     "metadata": {},
     "output_type": "display_data"
    },
    {
     "data": {
      "text/html": [
       "<img src='images/284.jpg' width='50' height='50' style='display:inline-block; margin: 5px;'><img src='images/480.jpg' width='50' height='50' style='display:inline-block; margin: 5px;'><img src='images/639.jpg' width='50' height='50' style='display:inline-block; margin: 5px;'><img src='images/1489.jpg' width='50' height='50' style='display:inline-block; margin: 5px;'><img src='images/1560.jpg' width='50' height='50' style='display:inline-block; margin: 5px;'>"
      ],
      "text/plain": [
       "<IPython.core.display.HTML object>"
      ]
     },
     "metadata": {},
     "output_type": "display_data"
    },
    {
     "data": {
      "text/html": [
       "<img src='images/221.jpg' width='50' height='50' style='display:inline-block; margin: 5px;'><img src='images/308.jpg' width='50' height='50' style='display:inline-block; margin: 5px;'><img src='images/679.jpg' width='50' height='50' style='display:inline-block; margin: 5px;'><img src='images/1126.jpg' width='50' height='50' style='display:inline-block; margin: 5px;'><img src='images/1188.jpg' width='50' height='50' style='display:inline-block; margin: 5px;'><img src='images/1192.jpg' width='50' height='50' style='display:inline-block; margin: 5px;'><img src='images/1434.jpg' width='50' height='50' style='display:inline-block; margin: 5px;'>"
      ],
      "text/plain": [
       "<IPython.core.display.HTML object>"
      ]
     },
     "metadata": {},
     "output_type": "display_data"
    },
    {
     "data": {
      "text/html": [
       "<br>"
      ],
      "text/plain": [
       "<IPython.core.display.HTML object>"
      ]
     },
     "metadata": {},
     "output_type": "display_data"
    },
    {
     "data": {
      "text/html": [
       "<img src='images/343.jpg' width='50' height='50' style='display:inline-block; margin: 5px;'><img src='images/368.jpg' width='50' height='50' style='display:inline-block; margin: 5px;'><img src='images/786.jpg' width='50' height='50' style='display:inline-block; margin: 5px;'><img src='images/922.jpg' width='50' height='50' style='display:inline-block; margin: 5px;'><img src='images/1383.jpg' width='50' height='50' style='display:inline-block; margin: 5px;'>"
      ],
      "text/plain": [
       "<IPython.core.display.HTML object>"
      ]
     },
     "metadata": {},
     "output_type": "display_data"
    },
    {
     "data": {
      "text/html": [
       "<img src='images/33.jpg' width='50' height='50' style='display:inline-block; margin: 5px;'><img src='images/399.jpg' width='50' height='50' style='display:inline-block; margin: 5px;'><img src='images/474.jpg' width='50' height='50' style='display:inline-block; margin: 5px;'><img src='images/964.jpg' width='50' height='50' style='display:inline-block; margin: 5px;'><img src='images/984.jpg' width='50' height='50' style='display:inline-block; margin: 5px;'>"
      ],
      "text/plain": [
       "<IPython.core.display.HTML object>"
      ]
     },
     "metadata": {},
     "output_type": "display_data"
    },
    {
     "data": {
      "text/html": [
       "<img src='images/536.jpg' width='50' height='50' style='display:inline-block; margin: 5px;'><img src='images/575.jpg' width='50' height='50' style='display:inline-block; margin: 5px;'><img src='images/617.jpg' width='50' height='50' style='display:inline-block; margin: 5px;'><img src='images/735.jpg' width='50' height='50' style='display:inline-block; margin: 5px;'><img src='images/1057.jpg' width='50' height='50' style='display:inline-block; margin: 5px;'><img src='images/1069.jpg' width='50' height='50' style='display:inline-block; margin: 5px;'>"
      ],
      "text/plain": [
       "<IPython.core.display.HTML object>"
      ]
     },
     "metadata": {},
     "output_type": "display_data"
    },
    {
     "data": {
      "text/html": [
       "<br>"
      ],
      "text/plain": [
       "<IPython.core.display.HTML object>"
      ]
     },
     "metadata": {},
     "output_type": "display_data"
    },
    {
     "data": {
      "text/html": [
       "<img src='images/47.jpg' width='50' height='50' style='display:inline-block; margin: 5px;'><img src='images/471.jpg' width='50' height='50' style='display:inline-block; margin: 5px;'><img src='images/527.jpg' width='50' height='50' style='display:inline-block; margin: 5px;'><img src='images/998.jpg' width='50' height='50' style='display:inline-block; margin: 5px;'><img src='images/1224.jpg' width='50' height='50' style='display:inline-block; margin: 5px;'><img src='images/1369.jpg' width='50' height='50' style='display:inline-block; margin: 5px;'>"
      ],
      "text/plain": [
       "<IPython.core.display.HTML object>"
      ]
     },
     "metadata": {},
     "output_type": "display_data"
    },
    {
     "data": {
      "text/html": [
       "<img src='images/197.jpg' width='50' height='50' style='display:inline-block; margin: 5px;'><img src='images/403.jpg' width='50' height='50' style='display:inline-block; margin: 5px;'><img src='images/888.jpg' width='50' height='50' style='display:inline-block; margin: 5px;'><img src='images/890.jpg' width='50' height='50' style='display:inline-block; margin: 5px;'><img src='images/1079.jpg' width='50' height='50' style='display:inline-block; margin: 5px;'><img src='images/1295.jpg' width='50' height='50' style='display:inline-block; margin: 5px;'><img src='images/1451.jpg' width='50' height='50' style='display:inline-block; margin: 5px;'><img src='images/1526.jpg' width='50' height='50' style='display:inline-block; margin: 5px;'>"
      ],
      "text/plain": [
       "<IPython.core.display.HTML object>"
      ]
     },
     "metadata": {},
     "output_type": "display_data"
    },
    {
     "data": {
      "text/html": [
       "<img src='images/91.jpg' width='50' height='50' style='display:inline-block; margin: 5px;'><img src='images/1137.jpg' width='50' height='50' style='display:inline-block; margin: 5px;'><img src='images/1203.jpg' width='50' height='50' style='display:inline-block; margin: 5px;'><img src='images/1389.jpg' width='50' height='50' style='display:inline-block; margin: 5px;'><img src='images/1404.jpg' width='50' height='50' style='display:inline-block; margin: 5px;'><img src='images/1456.jpg' width='50' height='50' style='display:inline-block; margin: 5px;'>"
      ],
      "text/plain": [
       "<IPython.core.display.HTML object>"
      ]
     },
     "metadata": {},
     "output_type": "display_data"
    },
    {
     "data": {
      "text/html": [
       "<br>"
      ],
      "text/plain": [
       "<IPython.core.display.HTML object>"
      ]
     },
     "metadata": {},
     "output_type": "display_data"
    },
    {
     "data": {
      "text/html": [
       "<img src='images/156.jpg' width='50' height='50' style='display:inline-block; margin: 5px;'><img src='images/207.jpg' width='50' height='50' style='display:inline-block; margin: 5px;'><img src='images/648.jpg' width='50' height='50' style='display:inline-block; margin: 5px;'><img src='images/921.jpg' width='50' height='50' style='display:inline-block; margin: 5px;'><img src='images/1044.jpg' width='50' height='50' style='display:inline-block; margin: 5px;'><img src='images/1190.jpg' width='50' height='50' style='display:inline-block; margin: 5px;'><img src='images/1361.jpg' width='50' height='50' style='display:inline-block; margin: 5px;'>"
      ],
      "text/plain": [
       "<IPython.core.display.HTML object>"
      ]
     },
     "metadata": {},
     "output_type": "display_data"
    },
    {
     "data": {
      "text/html": [
       "<img src='images/121.jpg' width='50' height='50' style='display:inline-block; margin: 5px;'><img src='images/226.jpg' width='50' height='50' style='display:inline-block; margin: 5px;'><img src='images/483.jpg' width='50' height='50' style='display:inline-block; margin: 5px;'><img src='images/580.jpg' width='50' height='50' style='display:inline-block; margin: 5px;'><img src='images/905.jpg' width='50' height='50' style='display:inline-block; margin: 5px;'><img src='images/1054.jpg' width='50' height='50' style='display:inline-block; margin: 5px;'><img src='images/1199.jpg' width='50' height='50' style='display:inline-block; margin: 5px;'>"
      ],
      "text/plain": [
       "<IPython.core.display.HTML object>"
      ]
     },
     "metadata": {},
     "output_type": "display_data"
    },
    {
     "data": {
      "text/html": [
       "<img src='images/7.jpg' width='50' height='50' style='display:inline-block; margin: 5px;'><img src='images/93.jpg' width='50' height='50' style='display:inline-block; margin: 5px;'><img src='images/347.jpg' width='50' height='50' style='display:inline-block; margin: 5px;'><img src='images/819.jpg' width='50' height='50' style='display:inline-block; margin: 5px;'><img src='images/988.jpg' width='50' height='50' style='display:inline-block; margin: 5px;'><img src='images/1084.jpg' width='50' height='50' style='display:inline-block; margin: 5px;'><img src='images/1382.jpg' width='50' height='50' style='display:inline-block; margin: 5px;'><img src='images/1533.jpg' width='50' height='50' style='display:inline-block; margin: 5px;'>"
      ],
      "text/plain": [
       "<IPython.core.display.HTML object>"
      ]
     },
     "metadata": {},
     "output_type": "display_data"
    },
    {
     "data": {
      "text/html": [
       "<br>"
      ],
      "text/plain": [
       "<IPython.core.display.HTML object>"
      ]
     },
     "metadata": {},
     "output_type": "display_data"
    },
    {
     "data": {
      "text/html": [
       "<img src='images/4.jpg' width='50' height='50' style='display:inline-block; margin: 5px;'><img src='images/137.jpg' width='50' height='50' style='display:inline-block; margin: 5px;'><img src='images/296.jpg' width='50' height='50' style='display:inline-block; margin: 5px;'><img src='images/750.jpg' width='50' height='50' style='display:inline-block; margin: 5px;'><img src='images/1108.jpg' width='50' height='50' style='display:inline-block; margin: 5px;'>"
      ],
      "text/plain": [
       "<IPython.core.display.HTML object>"
      ]
     },
     "metadata": {},
     "output_type": "display_data"
    },
    {
     "data": {
      "text/html": [
       "<img src='images/44.jpg' width='50' height='50' style='display:inline-block; margin: 5px;'><img src='images/353.jpg' width='50' height='50' style='display:inline-block; margin: 5px;'><img src='images/780.jpg' width='50' height='50' style='display:inline-block; margin: 5px;'><img src='images/783.jpg' width='50' height='50' style='display:inline-block; margin: 5px;'><img src='images/1193.jpg' width='50' height='50' style='display:inline-block; margin: 5px;'><img src='images/1207.jpg' width='50' height='50' style='display:inline-block; margin: 5px;'><img src='images/1274.jpg' width='50' height='50' style='display:inline-block; margin: 5px;'>"
      ],
      "text/plain": [
       "<IPython.core.display.HTML object>"
      ]
     },
     "metadata": {},
     "output_type": "display_data"
    },
    {
     "data": {
      "text/html": [
       "<img src='images/89.jpg' width='50' height='50' style='display:inline-block; margin: 5px;'><img src='images/250.jpg' width='50' height='50' style='display:inline-block; margin: 5px;'><img src='images/659.jpg' width='50' height='50' style='display:inline-block; margin: 5px;'><img src='images/1485.jpg' width='50' height='50' style='display:inline-block; margin: 5px;'><img src='images/1522.jpg' width='50' height='50' style='display:inline-block; margin: 5px;'><img src='images/1565.jpg' width='50' height='50' style='display:inline-block; margin: 5px;'>"
      ],
      "text/plain": [
       "<IPython.core.display.HTML object>"
      ]
     },
     "metadata": {},
     "output_type": "display_data"
    },
    {
     "data": {
      "text/html": [
       "<br>"
      ],
      "text/plain": [
       "<IPython.core.display.HTML object>"
      ]
     },
     "metadata": {},
     "output_type": "display_data"
    },
    {
     "data": {
      "text/html": [
       "<img src='images/59.jpg' width='50' height='50' style='display:inline-block; margin: 5px;'><img src='images/138.jpg' width='50' height='50' style='display:inline-block; margin: 5px;'><img src='images/161.jpg' width='50' height='50' style='display:inline-block; margin: 5px;'><img src='images/473.jpg' width='50' height='50' style='display:inline-block; margin: 5px;'><img src='images/719.jpg' width='50' height='50' style='display:inline-block; margin: 5px;'><img src='images/1332.jpg' width='50' height='50' style='display:inline-block; margin: 5px;'><img src='images/1546.jpg' width='50' height='50' style='display:inline-block; margin: 5px;'><img src='images/1579.jpg' width='50' height='50' style='display:inline-block; margin: 5px;'>"
      ],
      "text/plain": [
       "<IPython.core.display.HTML object>"
      ]
     },
     "metadata": {},
     "output_type": "display_data"
    },
    {
     "data": {
      "text/html": [
       "<img src='images/125.jpg' width='50' height='50' style='display:inline-block; margin: 5px;'><img src='images/1026.jpg' width='50' height='50' style='display:inline-block; margin: 5px;'><img src='images/1064.jpg' width='50' height='50' style='display:inline-block; margin: 5px;'>"
      ],
      "text/plain": [
       "<IPython.core.display.HTML object>"
      ]
     },
     "metadata": {},
     "output_type": "display_data"
    },
    {
     "data": {
      "text/html": [
       "<img src='images/144.jpg' width='50' height='50' style='display:inline-block; margin: 5px;'><img src='images/220.jpg' width='50' height='50' style='display:inline-block; margin: 5px;'><img src='images/391.jpg' width='50' height='50' style='display:inline-block; margin: 5px;'><img src='images/658.jpg' width='50' height='50' style='display:inline-block; margin: 5px;'><img src='images/991.jpg' width='50' height='50' style='display:inline-block; margin: 5px;'><img src='images/1035.jpg' width='50' height='50' style='display:inline-block; margin: 5px;'><img src='images/1038.jpg' width='50' height='50' style='display:inline-block; margin: 5px;'><img src='images/1149.jpg' width='50' height='50' style='display:inline-block; margin: 5px;'><img src='images/1259.jpg' width='50' height='50' style='display:inline-block; margin: 5px;'>"
      ],
      "text/plain": [
       "<IPython.core.display.HTML object>"
      ]
     },
     "metadata": {},
     "output_type": "display_data"
    },
    {
     "data": {
      "text/html": [
       "<br>"
      ],
      "text/plain": [
       "<IPython.core.display.HTML object>"
      ]
     },
     "metadata": {},
     "output_type": "display_data"
    },
    {
     "data": {
      "text/html": [
       "<img src='images/62.jpg' width='50' height='50' style='display:inline-block; margin: 5px;'><img src='images/162.jpg' width='50' height='50' style='display:inline-block; margin: 5px;'><img src='images/281.jpg' width='50' height='50' style='display:inline-block; margin: 5px;'><img src='images/1293.jpg' width='50' height='50' style='display:inline-block; margin: 5px;'><img src='images/1314.jpg' width='50' height='50' style='display:inline-block; margin: 5px;'>"
      ],
      "text/plain": [
       "<IPython.core.display.HTML object>"
      ]
     },
     "metadata": {},
     "output_type": "display_data"
    },
    {
     "data": {
      "text/html": [
       "<img src='images/185.jpg' width='50' height='50' style='display:inline-block; margin: 5px;'><img src='images/447.jpg' width='50' height='50' style='display:inline-block; margin: 5px;'><img src='images/587.jpg' width='50' height='50' style='display:inline-block; margin: 5px;'><img src='images/843.jpg' width='50' height='50' style='display:inline-block; margin: 5px;'><img src='images/1303.jpg' width='50' height='50' style='display:inline-block; margin: 5px;'><img src='images/1409.jpg' width='50' height='50' style='display:inline-block; margin: 5px;'><img src='images/1464.jpg' width='50' height='50' style='display:inline-block; margin: 5px;'>"
      ],
      "text/plain": [
       "<IPython.core.display.HTML object>"
      ]
     },
     "metadata": {},
     "output_type": "display_data"
    },
    {
     "data": {
      "text/html": [
       "<img src='images/150.jpg' width='50' height='50' style='display:inline-block; margin: 5px;'><img src='images/378.jpg' width='50' height='50' style='display:inline-block; margin: 5px;'><img src='images/546.jpg' width='50' height='50' style='display:inline-block; margin: 5px;'><img src='images/842.jpg' width='50' height='50' style='display:inline-block; margin: 5px;'><img src='images/1008.jpg' width='50' height='50' style='display:inline-block; margin: 5px;'><img src='images/1212.jpg' width='50' height='50' style='display:inline-block; margin: 5px;'><img src='images/1272.jpg' width='50' height='50' style='display:inline-block; margin: 5px;'>"
      ],
      "text/plain": [
       "<IPython.core.display.HTML object>"
      ]
     },
     "metadata": {},
     "output_type": "display_data"
    },
    {
     "data": {
      "text/html": [
       "<br>"
      ],
      "text/plain": [
       "<IPython.core.display.HTML object>"
      ]
     },
     "metadata": {},
     "output_type": "display_data"
    },
    {
     "data": {
      "text/html": [
       "<img src='images/46.jpg' width='50' height='50' style='display:inline-block; margin: 5px;'><img src='images/276.jpg' width='50' height='50' style='display:inline-block; margin: 5px;'><img src='images/287.jpg' width='50' height='50' style='display:inline-block; margin: 5px;'><img src='images/352.jpg' width='50' height='50' style='display:inline-block; margin: 5px;'><img src='images/402.jpg' width='50' height='50' style='display:inline-block; margin: 5px;'><img src='images/579.jpg' width='50' height='50' style='display:inline-block; margin: 5px;'><img src='images/836.jpg' width='50' height='50' style='display:inline-block; margin: 5px;'>"
      ],
      "text/plain": [
       "<IPython.core.display.HTML object>"
      ]
     },
     "metadata": {},
     "output_type": "display_data"
    },
    {
     "data": {
      "text/html": [
       "<img src='images/57.jpg' width='50' height='50' style='display:inline-block; margin: 5px;'><img src='images/184.jpg' width='50' height='50' style='display:inline-block; margin: 5px;'><img src='images/312.jpg' width='50' height='50' style='display:inline-block; margin: 5px;'><img src='images/980.jpg' width='50' height='50' style='display:inline-block; margin: 5px;'><img src='images/1082.jpg' width='50' height='50' style='display:inline-block; margin: 5px;'><img src='images/1261.jpg' width='50' height='50' style='display:inline-block; margin: 5px;'>"
      ],
      "text/plain": [
       "<IPython.core.display.HTML object>"
      ]
     },
     "metadata": {},
     "output_type": "display_data"
    },
    {
     "data": {
      "text/html": [
       "<img src='images/351.jpg' width='50' height='50' style='display:inline-block; margin: 5px;'><img src='images/857.jpg' width='50' height='50' style='display:inline-block; margin: 5px;'><img src='images/1181.jpg' width='50' height='50' style='display:inline-block; margin: 5px;'><img src='images/1266.jpg' width='50' height='50' style='display:inline-block; margin: 5px;'>"
      ],
      "text/plain": [
       "<IPython.core.display.HTML object>"
      ]
     },
     "metadata": {},
     "output_type": "display_data"
    },
    {
     "data": {
      "text/html": [
       "<br>"
      ],
      "text/plain": [
       "<IPython.core.display.HTML object>"
      ]
     },
     "metadata": {},
     "output_type": "display_data"
    },
    {
     "data": {
      "text/html": [
       "<img src='images/686.jpg' width='50' height='50' style='display:inline-block; margin: 5px;'><img src='images/691.jpg' width='50' height='50' style='display:inline-block; margin: 5px;'><img src='images/818.jpg' width='50' height='50' style='display:inline-block; margin: 5px;'><img src='images/1215.jpg' width='50' height='50' style='display:inline-block; margin: 5px;'><img src='images/1252.jpg' width='50' height='50' style='display:inline-block; margin: 5px;'><img src='images/1418.jpg' width='50' height='50' style='display:inline-block; margin: 5px;'>"
      ],
      "text/plain": [
       "<IPython.core.display.HTML object>"
      ]
     },
     "metadata": {},
     "output_type": "display_data"
    },
    {
     "data": {
      "text/html": [
       "<img src='images/104.jpg' width='50' height='50' style='display:inline-block; margin: 5px;'><img src='images/254.jpg' width='50' height='50' style='display:inline-block; margin: 5px;'><img src='images/515.jpg' width='50' height='50' style='display:inline-block; margin: 5px;'><img src='images/655.jpg' width='50' height='50' style='display:inline-block; margin: 5px;'><img src='images/1070.jpg' width='50' height='50' style='display:inline-block; margin: 5px;'><img src='images/1246.jpg' width='50' height='50' style='display:inline-block; margin: 5px;'>"
      ],
      "text/plain": [
       "<IPython.core.display.HTML object>"
      ]
     },
     "metadata": {},
     "output_type": "display_data"
    },
    {
     "data": {
      "text/html": [
       "<img src='images/151.jpg' width='50' height='50' style='display:inline-block; margin: 5px;'><img src='images/422.jpg' width='50' height='50' style='display:inline-block; margin: 5px;'><img src='images/650.jpg' width='50' height='50' style='display:inline-block; margin: 5px;'><img src='images/1185.jpg' width='50' height='50' style='display:inline-block; margin: 5px;'><img src='images/1247.jpg' width='50' height='50' style='display:inline-block; margin: 5px;'><img src='images/1334.jpg' width='50' height='50' style='display:inline-block; margin: 5px;'>"
      ],
      "text/plain": [
       "<IPython.core.display.HTML object>"
      ]
     },
     "metadata": {},
     "output_type": "display_data"
    },
    {
     "data": {
      "text/html": [
       "<br>"
      ],
      "text/plain": [
       "<IPython.core.display.HTML object>"
      ]
     },
     "metadata": {},
     "output_type": "display_data"
    },
    {
     "data": {
      "text/html": [
       "<img src='images/135.jpg' width='50' height='50' style='display:inline-block; margin: 5px;'><img src='images/913.jpg' width='50' height='50' style='display:inline-block; margin: 5px;'><img src='images/1012.jpg' width='50' height='50' style='display:inline-block; margin: 5px;'><img src='images/1116.jpg' width='50' height='50' style='display:inline-block; margin: 5px;'><img src='images/1230.jpg' width='50' height='50' style='display:inline-block; margin: 5px;'><img src='images/1290.jpg' width='50' height='50' style='display:inline-block; margin: 5px;'><img src='images/1313.jpg' width='50' height='50' style='display:inline-block; margin: 5px;'><img src='images/1498.jpg' width='50' height='50' style='display:inline-block; margin: 5px;'>"
      ],
      "text/plain": [
       "<IPython.core.display.HTML object>"
      ]
     },
     "metadata": {},
     "output_type": "display_data"
    },
    {
     "data": {
      "text/html": [
       "<img src='images/266.jpg' width='50' height='50' style='display:inline-block; margin: 5px;'><img src='images/586.jpg' width='50' height='50' style='display:inline-block; margin: 5px;'><img src='images/707.jpg' width='50' height='50' style='display:inline-block; margin: 5px;'><img src='images/729.jpg' width='50' height='50' style='display:inline-block; margin: 5px;'><img src='images/814.jpg' width='50' height='50' style='display:inline-block; margin: 5px;'><img src='images/1161.jpg' width='50' height='50' style='display:inline-block; margin: 5px;'><img src='images/1307.jpg' width='50' height='50' style='display:inline-block; margin: 5px;'><img src='images/1385.jpg' width='50' height='50' style='display:inline-block; margin: 5px;'>"
      ],
      "text/plain": [
       "<IPython.core.display.HTML object>"
      ]
     },
     "metadata": {},
     "output_type": "display_data"
    },
    {
     "data": {
      "text/html": [
       "<img src='images/51.jpg' width='50' height='50' style='display:inline-block; margin: 5px;'><img src='images/174.jpg' width='50' height='50' style='display:inline-block; margin: 5px;'><img src='images/193.jpg' width='50' height='50' style='display:inline-block; margin: 5px;'><img src='images/236.jpg' width='50' height='50' style='display:inline-block; margin: 5px;'><img src='images/332.jpg' width='50' height='50' style='display:inline-block; margin: 5px;'><img src='images/929.jpg' width='50' height='50' style='display:inline-block; margin: 5px;'><img src='images/1138.jpg' width='50' height='50' style='display:inline-block; margin: 5px;'><img src='images/1490.jpg' width='50' height='50' style='display:inline-block; margin: 5px;'>"
      ],
      "text/plain": [
       "<IPython.core.display.HTML object>"
      ]
     },
     "metadata": {},
     "output_type": "display_data"
    },
    {
     "data": {
      "text/html": [
       "<br>"
      ],
      "text/plain": [
       "<IPython.core.display.HTML object>"
      ]
     },
     "metadata": {},
     "output_type": "display_data"
    },
    {
     "data": {
      "text/html": [
       "<img src='images/97.jpg' width='50' height='50' style='display:inline-block; margin: 5px;'><img src='images/414.jpg' width='50' height='50' style='display:inline-block; margin: 5px;'><img src='images/503.jpg' width='50' height='50' style='display:inline-block; margin: 5px;'><img src='images/574.jpg' width='50' height='50' style='display:inline-block; margin: 5px;'><img src='images/626.jpg' width='50' height='50' style='display:inline-block; margin: 5px;'><img src='images/665.jpg' width='50' height='50' style='display:inline-block; margin: 5px;'><img src='images/725.jpg' width='50' height='50' style='display:inline-block; margin: 5px;'><img src='images/739.jpg' width='50' height='50' style='display:inline-block; margin: 5px;'><img src='images/887.jpg' width='50' height='50' style='display:inline-block; margin: 5px;'><img src='images/1412.jpg' width='50' height='50' style='display:inline-block; margin: 5px;'><img src='images/1426.jpg' width='50' height='50' style='display:inline-block; margin: 5px;'>"
      ],
      "text/plain": [
       "<IPython.core.display.HTML object>"
      ]
     },
     "metadata": {},
     "output_type": "display_data"
    },
    {
     "data": {
      "text/html": [
       "<img src='images/70.jpg' width='50' height='50' style='display:inline-block; margin: 5px;'><img src='images/86.jpg' width='50' height='50' style='display:inline-block; margin: 5px;'><img src='images/112.jpg' width='50' height='50' style='display:inline-block; margin: 5px;'><img src='images/555.jpg' width='50' height='50' style='display:inline-block; margin: 5px;'><img src='images/612.jpg' width='50' height='50' style='display:inline-block; margin: 5px;'><img src='images/624.jpg' width='50' height='50' style='display:inline-block; margin: 5px;'>"
      ],
      "text/plain": [
       "<IPython.core.display.HTML object>"
      ]
     },
     "metadata": {},
     "output_type": "display_data"
    },
    {
     "data": {
      "text/html": [
       "<img src='images/53.jpg' width='50' height='50' style='display:inline-block; margin: 5px;'><img src='images/111.jpg' width='50' height='50' style='display:inline-block; margin: 5px;'><img src='images/613.jpg' width='50' height='50' style='display:inline-block; margin: 5px;'><img src='images/997.jpg' width='50' height='50' style='display:inline-block; margin: 5px;'><img src='images/1354.jpg' width='50' height='50' style='display:inline-block; margin: 5px;'><img src='images/1387.jpg' width='50' height='50' style='display:inline-block; margin: 5px;'>"
      ],
      "text/plain": [
       "<IPython.core.display.HTML object>"
      ]
     },
     "metadata": {},
     "output_type": "display_data"
    },
    {
     "data": {
      "text/html": [
       "<br>"
      ],
      "text/plain": [
       "<IPython.core.display.HTML object>"
      ]
     },
     "metadata": {},
     "output_type": "display_data"
    },
    {
     "data": {
      "text/html": [
       "<img src='images/255.jpg' width='50' height='50' style='display:inline-block; margin: 5px;'><img src='images/486.jpg' width='50' height='50' style='display:inline-block; margin: 5px;'><img src='images/1078.jpg' width='50' height='50' style='display:inline-block; margin: 5px;'><img src='images/1103.jpg' width='50' height='50' style='display:inline-block; margin: 5px;'><img src='images/1298.jpg' width='50' height='50' style='display:inline-block; margin: 5px;'><img src='images/1484.jpg' width='50' height='50' style='display:inline-block; margin: 5px;'>"
      ],
      "text/plain": [
       "<IPython.core.display.HTML object>"
      ]
     },
     "metadata": {},
     "output_type": "display_data"
    },
    {
     "data": {
      "text/html": [
       "<img src='images/666.jpg' width='50' height='50' style='display:inline-block; margin: 5px;'><img src='images/795.jpg' width='50' height='50' style='display:inline-block; margin: 5px;'><img src='images/935.jpg' width='50' height='50' style='display:inline-block; margin: 5px;'><img src='images/1127.jpg' width='50' height='50' style='display:inline-block; margin: 5px;'><img src='images/1150.jpg' width='50' height='50' style='display:inline-block; margin: 5px;'><img src='images/1580.jpg' width='50' height='50' style='display:inline-block; margin: 5px;'>"
      ],
      "text/plain": [
       "<IPython.core.display.HTML object>"
      ]
     },
     "metadata": {},
     "output_type": "display_data"
    },
    {
     "data": {
      "text/html": [
       "<img src='images/36.jpg' width='50' height='50' style='display:inline-block; margin: 5px;'><img src='images/90.jpg' width='50' height='50' style='display:inline-block; margin: 5px;'><img src='images/1047.jpg' width='50' height='50' style='display:inline-block; margin: 5px;'><img src='images/1237.jpg' width='50' height='50' style='display:inline-block; margin: 5px;'><img src='images/1279.jpg' width='50' height='50' style='display:inline-block; margin: 5px;'><img src='images/1371.jpg' width='50' height='50' style='display:inline-block; margin: 5px;'>"
      ],
      "text/plain": [
       "<IPython.core.display.HTML object>"
      ]
     },
     "metadata": {},
     "output_type": "display_data"
    },
    {
     "data": {
      "text/html": [
       "<br>"
      ],
      "text/plain": [
       "<IPython.core.display.HTML object>"
      ]
     },
     "metadata": {},
     "output_type": "display_data"
    },
    {
     "data": {
      "text/html": [
       "<img src='images/39.jpg' width='50' height='50' style='display:inline-block; margin: 5px;'><img src='images/429.jpg' width='50' height='50' style='display:inline-block; margin: 5px;'><img src='images/1234.jpg' width='50' height='50' style='display:inline-block; margin: 5px;'>"
      ],
      "text/plain": [
       "<IPython.core.display.HTML object>"
      ]
     },
     "metadata": {},
     "output_type": "display_data"
    },
    {
     "data": {
      "text/html": [
       "<img src='images/608.jpg' width='50' height='50' style='display:inline-block; margin: 5px;'><img src='images/723.jpg' width='50' height='50' style='display:inline-block; margin: 5px;'><img src='images/1151.jpg' width='50' height='50' style='display:inline-block; margin: 5px;'><img src='images/1204.jpg' width='50' height='50' style='display:inline-block; margin: 5px;'><img src='images/1422.jpg' width='50' height='50' style='display:inline-block; margin: 5px;'>"
      ],
      "text/plain": [
       "<IPython.core.display.HTML object>"
      ]
     },
     "metadata": {},
     "output_type": "display_data"
    },
    {
     "data": {
      "text/html": [
       "<img src='images/65.jpg' width='50' height='50' style='display:inline-block; margin: 5px;'><img src='images/230.jpg' width='50' height='50' style='display:inline-block; margin: 5px;'><img src='images/761.jpg' width='50' height='50' style='display:inline-block; margin: 5px;'><img src='images/1315.jpg' width='50' height='50' style='display:inline-block; margin: 5px;'><img src='images/1428.jpg' width='50' height='50' style='display:inline-block; margin: 5px;'><img src='images/1466.jpg' width='50' height='50' style='display:inline-block; margin: 5px;'><img src='images/1487.jpg' width='50' height='50' style='display:inline-block; margin: 5px;'>"
      ],
      "text/plain": [
       "<IPython.core.display.HTML object>"
      ]
     },
     "metadata": {},
     "output_type": "display_data"
    },
    {
     "data": {
      "text/html": [
       "<br>"
      ],
      "text/plain": [
       "<IPython.core.display.HTML object>"
      ]
     },
     "metadata": {},
     "output_type": "display_data"
    },
    {
     "data": {
      "text/html": [
       "<img src='images/526.jpg' width='50' height='50' style='display:inline-block; margin: 5px;'><img src='images/533.jpg' width='50' height='50' style='display:inline-block; margin: 5px;'><img src='images/565.jpg' width='50' height='50' style='display:inline-block; margin: 5px;'><img src='images/699.jpg' width='50' height='50' style='display:inline-block; margin: 5px;'><img src='images/973.jpg' width='50' height='50' style='display:inline-block; margin: 5px;'><img src='images/1248.jpg' width='50' height='50' style='display:inline-block; margin: 5px;'>"
      ],
      "text/plain": [
       "<IPython.core.display.HTML object>"
      ]
     },
     "metadata": {},
     "output_type": "display_data"
    },
    {
     "data": {
      "text/html": [
       "<img src='images/405.jpg' width='50' height='50' style='display:inline-block; margin: 5px;'><img src='images/407.jpg' width='50' height='50' style='display:inline-block; margin: 5px;'><img src='images/947.jpg' width='50' height='50' style='display:inline-block; margin: 5px;'><img src='images/1033.jpg' width='50' height='50' style='display:inline-block; margin: 5px;'>"
      ],
      "text/plain": [
       "<IPython.core.display.HTML object>"
      ]
     },
     "metadata": {},
     "output_type": "display_data"
    },
    {
     "data": {
      "text/html": [
       "<img src='images/518.jpg' width='50' height='50' style='display:inline-block; margin: 5px;'><img src='images/734.jpg' width='50' height='50' style='display:inline-block; margin: 5px;'><img src='images/967.jpg' width='50' height='50' style='display:inline-block; margin: 5px;'><img src='images/1109.jpg' width='50' height='50' style='display:inline-block; margin: 5px;'><img src='images/1129.jpg' width='50' height='50' style='display:inline-block; margin: 5px;'><img src='images/1517.jpg' width='50' height='50' style='display:inline-block; margin: 5px;'>"
      ],
      "text/plain": [
       "<IPython.core.display.HTML object>"
      ]
     },
     "metadata": {},
     "output_type": "display_data"
    },
    {
     "data": {
      "text/html": [
       "<br>"
      ],
      "text/plain": [
       "<IPython.core.display.HTML object>"
      ]
     },
     "metadata": {},
     "output_type": "display_data"
    },
    {
     "data": {
      "text/html": [
       "<img src='images/337.jpg' width='50' height='50' style='display:inline-block; margin: 5px;'><img src='images/400.jpg' width='50' height='50' style='display:inline-block; margin: 5px;'><img src='images/940.jpg' width='50' height='50' style='display:inline-block; margin: 5px;'><img src='images/1102.jpg' width='50' height='50' style='display:inline-block; margin: 5px;'><img src='images/1564.jpg' width='50' height='50' style='display:inline-block; margin: 5px;'>"
      ],
      "text/plain": [
       "<IPython.core.display.HTML object>"
      ]
     },
     "metadata": {},
     "output_type": "display_data"
    },
    {
     "data": {
      "text/html": [
       "<img src='images/638.jpg' width='50' height='50' style='display:inline-block; margin: 5px;'><img src='images/643.jpg' width='50' height='50' style='display:inline-block; margin: 5px;'><img src='images/974.jpg' width='50' height='50' style='display:inline-block; margin: 5px;'><img src='images/1028.jpg' width='50' height='50' style='display:inline-block; margin: 5px;'><img src='images/1086.jpg' width='50' height='50' style='display:inline-block; margin: 5px;'><img src='images/1297.jpg' width='50' height='50' style='display:inline-block; margin: 5px;'>"
      ],
      "text/plain": [
       "<IPython.core.display.HTML object>"
      ]
     },
     "metadata": {},
     "output_type": "display_data"
    },
    {
     "data": {
      "text/html": [
       "<img src='images/16.jpg' width='50' height='50' style='display:inline-block; margin: 5px;'><img src='images/674.jpg' width='50' height='50' style='display:inline-block; margin: 5px;'><img src='images/804.jpg' width='50' height='50' style='display:inline-block; margin: 5px;'><img src='images/1020.jpg' width='50' height='50' style='display:inline-block; margin: 5px;'><img src='images/1191.jpg' width='50' height='50' style='display:inline-block; margin: 5px;'><img src='images/1447.jpg' width='50' height='50' style='display:inline-block; margin: 5px;'>"
      ],
      "text/plain": [
       "<IPython.core.display.HTML object>"
      ]
     },
     "metadata": {},
     "output_type": "display_data"
    },
    {
     "data": {
      "text/html": [
       "<br>"
      ],
      "text/plain": [
       "<IPython.core.display.HTML object>"
      ]
     },
     "metadata": {},
     "output_type": "display_data"
    },
    {
     "data": {
      "text/html": [
       "<img src='images/24.jpg' width='50' height='50' style='display:inline-block; margin: 5px;'><img src='images/180.jpg' width='50' height='50' style='display:inline-block; margin: 5px;'><img src='images/244.jpg' width='50' height='50' style='display:inline-block; margin: 5px;'><img src='images/1114.jpg' width='50' height='50' style='display:inline-block; margin: 5px;'><img src='images/1155.jpg' width='50' height='50' style='display:inline-block; margin: 5px;'><img src='images/1415.jpg' width='50' height='50' style='display:inline-block; margin: 5px;'>"
      ],
      "text/plain": [
       "<IPython.core.display.HTML object>"
      ]
     },
     "metadata": {},
     "output_type": "display_data"
    },
    {
     "data": {
      "text/html": [
       "<img src='images/187.jpg' width='50' height='50' style='display:inline-block; margin: 5px;'><img src='images/884.jpg' width='50' height='50' style='display:inline-block; margin: 5px;'><img src='images/943.jpg' width='50' height='50' style='display:inline-block; margin: 5px;'><img src='images/1178.jpg' width='50' height='50' style='display:inline-block; margin: 5px;'><img src='images/1285.jpg' width='50' height='50' style='display:inline-block; margin: 5px;'><img src='images/1397.jpg' width='50' height='50' style='display:inline-block; margin: 5px;'><img src='images/1401.jpg' width='50' height='50' style='display:inline-block; margin: 5px;'>"
      ],
      "text/plain": [
       "<IPython.core.display.HTML object>"
      ]
     },
     "metadata": {},
     "output_type": "display_data"
    },
    {
     "data": {
      "text/html": [
       "<img src='images/131.jpg' width='50' height='50' style='display:inline-block; margin: 5px;'><img src='images/293.jpg' width='50' height='50' style='display:inline-block; margin: 5px;'><img src='images/384.jpg' width='50' height='50' style='display:inline-block; margin: 5px;'><img src='images/1015.jpg' width='50' height='50' style='display:inline-block; margin: 5px;'>"
      ],
      "text/plain": [
       "<IPython.core.display.HTML object>"
      ]
     },
     "metadata": {},
     "output_type": "display_data"
    },
    {
     "data": {
      "text/html": [
       "<br>"
      ],
      "text/plain": [
       "<IPython.core.display.HTML object>"
      ]
     },
     "metadata": {},
     "output_type": "display_data"
    },
    {
     "data": {
      "text/html": [
       "<img src='images/277.jpg' width='50' height='50' style='display:inline-block; margin: 5px;'><img src='images/421.jpg' width='50' height='50' style='display:inline-block; margin: 5px;'><img src='images/830.jpg' width='50' height='50' style='display:inline-block; margin: 5px;'><img src='images/1107.jpg' width='50' height='50' style='display:inline-block; margin: 5px;'><img src='images/1233.jpg' width='50' height='50' style='display:inline-block; margin: 5px;'><img src='images/1427.jpg' width='50' height='50' style='display:inline-block; margin: 5px;'>"
      ],
      "text/plain": [
       "<IPython.core.display.HTML object>"
      ]
     },
     "metadata": {},
     "output_type": "display_data"
    },
    {
     "data": {
      "text/html": [
       "<img src='images/141.jpg' width='50' height='50' style='display:inline-block; margin: 5px;'><img src='images/274.jpg' width='50' height='50' style='display:inline-block; margin: 5px;'><img src='images/590.jpg' width='50' height='50' style='display:inline-block; margin: 5px;'><img src='images/1214.jpg' width='50' height='50' style='display:inline-block; margin: 5px;'><img src='images/1264.jpg' width='50' height='50' style='display:inline-block; margin: 5px;'>"
      ],
      "text/plain": [
       "<IPython.core.display.HTML object>"
      ]
     },
     "metadata": {},
     "output_type": "display_data"
    },
    {
     "data": {
      "text/html": [
       "<img src='images/472.jpg' width='50' height='50' style='display:inline-block; margin: 5px;'><img src='images/484.jpg' width='50' height='50' style='display:inline-block; margin: 5px;'><img src='images/537.jpg' width='50' height='50' style='display:inline-block; margin: 5px;'>"
      ],
      "text/plain": [
       "<IPython.core.display.HTML object>"
      ]
     },
     "metadata": {},
     "output_type": "display_data"
    },
    {
     "data": {
      "text/html": [
       "<br>"
      ],
      "text/plain": [
       "<IPython.core.display.HTML object>"
      ]
     },
     "metadata": {},
     "output_type": "display_data"
    },
    {
     "data": {
      "text/html": [
       "<img src='images/208.jpg' width='50' height='50' style='display:inline-block; margin: 5px;'><img src='images/534.jpg' width='50' height='50' style='display:inline-block; margin: 5px;'><img src='images/591.jpg' width='50' height='50' style='display:inline-block; margin: 5px;'><img src='images/1022.jpg' width='50' height='50' style='display:inline-block; margin: 5px;'>"
      ],
      "text/plain": [
       "<IPython.core.display.HTML object>"
      ]
     },
     "metadata": {},
     "output_type": "display_data"
    },
    {
     "data": {
      "text/html": [
       "<img src='images/509.jpg' width='50' height='50' style='display:inline-block; margin: 5px;'><img src='images/567.jpg' width='50' height='50' style='display:inline-block; margin: 5px;'><img src='images/930.jpg' width='50' height='50' style='display:inline-block; margin: 5px;'><img src='images/1267.jpg' width='50' height='50' style='display:inline-block; margin: 5px;'><img src='images/1333.jpg' width='50' height='50' style='display:inline-block; margin: 5px;'><img src='images/1558.jpg' width='50' height='50' style='display:inline-block; margin: 5px;'>"
      ],
      "text/plain": [
       "<IPython.core.display.HTML object>"
      ]
     },
     "metadata": {},
     "output_type": "display_data"
    },
    {
     "data": {
      "text/html": [
       "<img src='images/177.jpg' width='50' height='50' style='display:inline-block; margin: 5px;'><img src='images/540.jpg' width='50' height='50' style='display:inline-block; margin: 5px;'><img src='images/583.jpg' width='50' height='50' style='display:inline-block; margin: 5px;'><img src='images/736.jpg' width='50' height='50' style='display:inline-block; margin: 5px;'><img src='images/1316.jpg' width='50' height='50' style='display:inline-block; margin: 5px;'><img src='images/1495.jpg' width='50' height='50' style='display:inline-block; margin: 5px;'>"
      ],
      "text/plain": [
       "<IPython.core.display.HTML object>"
      ]
     },
     "metadata": {},
     "output_type": "display_data"
    },
    {
     "data": {
      "text/html": [
       "<br>"
      ],
      "text/plain": [
       "<IPython.core.display.HTML object>"
      ]
     },
     "metadata": {},
     "output_type": "display_data"
    },
    {
     "data": {
      "text/html": [
       "<img src='images/99.jpg' width='50' height='50' style='display:inline-block; margin: 5px;'><img src='images/128.jpg' width='50' height='50' style='display:inline-block; margin: 5px;'><img src='images/261.jpg' width='50' height='50' style='display:inline-block; margin: 5px;'><img src='images/264.jpg' width='50' height='50' style='display:inline-block; margin: 5px;'><img src='images/584.jpg' width='50' height='50' style='display:inline-block; margin: 5px;'><img src='images/880.jpg' width='50' height='50' style='display:inline-block; margin: 5px;'><img src='images/1513.jpg' width='50' height='50' style='display:inline-block; margin: 5px;'><img src='images/1537.jpg' width='50' height='50' style='display:inline-block; margin: 5px;'>"
      ],
      "text/plain": [
       "<IPython.core.display.HTML object>"
      ]
     },
     "metadata": {},
     "output_type": "display_data"
    },
    {
     "data": {
      "text/html": [
       "<img src='images/126.jpg' width='50' height='50' style='display:inline-block; margin: 5px;'><img src='images/448.jpg' width='50' height='50' style='display:inline-block; margin: 5px;'><img src='images/479.jpg' width='50' height='50' style='display:inline-block; margin: 5px;'><img src='images/746.jpg' width='50' height='50' style='display:inline-block; margin: 5px;'><img src='images/835.jpg' width='50' height='50' style='display:inline-block; margin: 5px;'><img src='images/891.jpg' width='50' height='50' style='display:inline-block; margin: 5px;'><img src='images/1209.jpg' width='50' height='50' style='display:inline-block; margin: 5px;'><img src='images/1288.jpg' width='50' height='50' style='display:inline-block; margin: 5px;'>"
      ],
      "text/plain": [
       "<IPython.core.display.HTML object>"
      ]
     },
     "metadata": {},
     "output_type": "display_data"
    },
    {
     "data": {
      "text/html": [
       "<img src='images/222.jpg' width='50' height='50' style='display:inline-block; margin: 5px;'><img src='images/359.jpg' width='50' height='50' style='display:inline-block; margin: 5px;'><img src='images/372.jpg' width='50' height='50' style='display:inline-block; margin: 5px;'><img src='images/504.jpg' width='50' height='50' style='display:inline-block; margin: 5px;'><img src='images/832.jpg' width='50' height='50' style='display:inline-block; margin: 5px;'><img src='images/1177.jpg' width='50' height='50' style='display:inline-block; margin: 5px;'>"
      ],
      "text/plain": [
       "<IPython.core.display.HTML object>"
      ]
     },
     "metadata": {},
     "output_type": "display_data"
    },
    {
     "data": {
      "text/html": [
       "<br>"
      ],
      "text/plain": [
       "<IPython.core.display.HTML object>"
      ]
     },
     "metadata": {},
     "output_type": "display_data"
    },
    {
     "data": {
      "text/html": [
       "<img src='images/251.jpg' width='50' height='50' style='display:inline-block; margin: 5px;'><img src='images/301.jpg' width='50' height='50' style='display:inline-block; margin: 5px;'><img src='images/370.jpg' width='50' height='50' style='display:inline-block; margin: 5px;'><img src='images/554.jpg' width='50' height='50' style='display:inline-block; margin: 5px;'><img src='images/644.jpg' width='50' height='50' style='display:inline-block; margin: 5px;'><img src='images/799.jpg' width='50' height='50' style='display:inline-block; margin: 5px;'><img src='images/1139.jpg' width='50' height='50' style='display:inline-block; margin: 5px;'><img src='images/1304.jpg' width='50' height='50' style='display:inline-block; margin: 5px;'>"
      ],
      "text/plain": [
       "<IPython.core.display.HTML object>"
      ]
     },
     "metadata": {},
     "output_type": "display_data"
    },
    {
     "data": {
      "text/html": [
       "<img src='images/316.jpg' width='50' height='50' style='display:inline-block; margin: 5px;'><img src='images/424.jpg' width='50' height='50' style='display:inline-block; margin: 5px;'><img src='images/731.jpg' width='50' height='50' style='display:inline-block; margin: 5px;'><img src='images/773.jpg' width='50' height='50' style='display:inline-block; margin: 5px;'><img src='images/1416.jpg' width='50' height='50' style='display:inline-block; margin: 5px;'><img src='images/1421.jpg' width='50' height='50' style='display:inline-block; margin: 5px;'>"
      ],
      "text/plain": [
       "<IPython.core.display.HTML object>"
      ]
     },
     "metadata": {},
     "output_type": "display_data"
    },
    {
     "data": {
      "text/html": [
       "<img src='images/176.jpg' width='50' height='50' style='display:inline-block; margin: 5px;'><img src='images/229.jpg' width='50' height='50' style='display:inline-block; margin: 5px;'><img src='images/1018.jpg' width='50' height='50' style='display:inline-block; margin: 5px;'><img src='images/1363.jpg' width='50' height='50' style='display:inline-block; margin: 5px;'><img src='images/1470.jpg' width='50' height='50' style='display:inline-block; margin: 5px;'>"
      ],
      "text/plain": [
       "<IPython.core.display.HTML object>"
      ]
     },
     "metadata": {},
     "output_type": "display_data"
    },
    {
     "data": {
      "text/html": [
       "<br>"
      ],
      "text/plain": [
       "<IPython.core.display.HTML object>"
      ]
     },
     "metadata": {},
     "output_type": "display_data"
    }
   ],
   "source": []
  },
  {
   "cell_type": "code",
   "execution_count": null,
   "id": "b844fac1-4432-45a0-8cdf-c0e459a80cc4",
   "metadata": {},
   "outputs": [],
   "source": []
  }
 ],
 "metadata": {
  "kernelspec": {
   "display_name": "Python 3 (ipykernel)",
   "language": "python",
   "name": "python3"
  },
  "language_info": {
   "codemirror_mode": {
    "name": "ipython",
    "version": 3
   },
   "file_extension": ".py",
   "mimetype": "text/x-python",
   "name": "python",
   "nbconvert_exporter": "python",
   "pygments_lexer": "ipython3",
   "version": "3.11.4"
  }
 },
 "nbformat": 4,
 "nbformat_minor": 5
}
